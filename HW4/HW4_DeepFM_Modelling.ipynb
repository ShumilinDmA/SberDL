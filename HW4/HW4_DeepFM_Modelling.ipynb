{
 "cells": [
  {
   "cell_type": "markdown",
   "id": "358eb243",
   "metadata": {},
   "source": [
    "## Часть 2\n",
    "1. Обучить сеть DeepFM на бинарную задачу классифкации на датасете \"adult\".\n",
    "2. Обучающая и валидационная выборки лежат в папке data в week08 и сам проект в папке DeepFM.\n",
    "3. Перед обучением сети првоести анализ и предобработку данных.\n",
    "4. Выложить код и показать точность и графики обучения."
   ]
  },
  {
   "cell_type": "code",
   "execution_count": 1,
   "id": "843e0999",
   "metadata": {},
   "outputs": [],
   "source": [
    "import pandas as pd\n",
    "import numpy as np\n",
    "import matplotlib.pyplot as plt\n",
    "import pickle\n",
    "from tqdm.notebook import tqdm\n",
    "import random\n",
    "\n",
    "from sklearn.model_selection import train_test_split\n",
    "from sklearn.metrics import roc_auc_score\n",
    "\n",
    "import torch\n",
    "from torch.utils.data import Dataset, DataLoader\n",
    "import torch.optim as optim\n",
    "from lesson_materials.deepFM.network import DeepFMNet\n",
    "\n",
    "\n",
    "import mlflow\n",
    "from mlflow.exceptions import MlflowException\n",
    "from mlflow.tracking import MlflowClient"
   ]
  },
  {
   "cell_type": "code",
   "execution_count": 2,
   "id": "5f2a7cd5",
   "metadata": {},
   "outputs": [],
   "source": [
    "path_to_data = 'data/encoded_dataset.csv'\n",
    "path_to_dicts = 'data/auxiliary_dicts.pkl'\n",
    "\n",
    "SEED = 42\n",
    "DEVICE = 'cuda' if torch.cuda.is_available() else 'cpu'\n",
    "\n",
    "random.seed(SEED)\n",
    "np.random.seed(SEED)\n",
    "torch.manual_seed(SEED)\n",
    "torch.cuda.manual_seed(SEED)\n",
    "torch.backends.cudnn.deterministic = True"
   ]
  },
  {
   "cell_type": "code",
   "execution_count": 3,
   "id": "1a666c1c",
   "metadata": {},
   "outputs": [],
   "source": [
    "with open(path_to_dicts, 'rb') as file:\n",
    "    category_number_dict, numerical_columns, categorical_colums = pickle.load(file)"
   ]
  },
  {
   "cell_type": "code",
   "execution_count": 4,
   "id": "3758e508",
   "metadata": {},
   "outputs": [
    {
     "data": {
      "text/html": [
       "<div>\n",
       "<style scoped>\n",
       "    .dataframe tbody tr th:only-of-type {\n",
       "        vertical-align: middle;\n",
       "    }\n",
       "\n",
       "    .dataframe tbody tr th {\n",
       "        vertical-align: top;\n",
       "    }\n",
       "\n",
       "    .dataframe thead th {\n",
       "        text-align: right;\n",
       "    }\n",
       "</style>\n",
       "<table border=\"1\" class=\"dataframe\">\n",
       "  <thead>\n",
       "    <tr style=\"text-align: right;\">\n",
       "      <th></th>\n",
       "      <th>Unnamed: 0</th>\n",
       "      <th>workclass</th>\n",
       "      <th>education</th>\n",
       "      <th>education-num</th>\n",
       "      <th>marital-status</th>\n",
       "      <th>occupation</th>\n",
       "      <th>relationship</th>\n",
       "      <th>race</th>\n",
       "      <th>sex</th>\n",
       "      <th>capital-gain</th>\n",
       "      <th>salary</th>\n",
       "      <th>age_log</th>\n",
       "      <th>fnlwgt_log</th>\n",
       "      <th>capital_loss_log</th>\n",
       "      <th>hours_per_week_bins</th>\n",
       "      <th>native_country</th>\n",
       "    </tr>\n",
       "  </thead>\n",
       "  <tbody>\n",
       "    <tr>\n",
       "      <th>0</th>\n",
       "      <td>0</td>\n",
       "      <td>3</td>\n",
       "      <td>0</td>\n",
       "      <td>12.0</td>\n",
       "      <td>1</td>\n",
       "      <td>0</td>\n",
       "      <td>5</td>\n",
       "      <td>1</td>\n",
       "      <td>0</td>\n",
       "      <td>0</td>\n",
       "      <td>1</td>\n",
       "      <td>3.891820</td>\n",
       "      <td>11.526039</td>\n",
       "      <td>7.551187</td>\n",
       "      <td>2</td>\n",
       "      <td>1</td>\n",
       "    </tr>\n",
       "    <tr>\n",
       "      <th>1</th>\n",
       "      <td>1</td>\n",
       "      <td>3</td>\n",
       "      <td>4</td>\n",
       "      <td>14.0</td>\n",
       "      <td>0</td>\n",
       "      <td>3</td>\n",
       "      <td>1</td>\n",
       "      <td>1</td>\n",
       "      <td>1</td>\n",
       "      <td>10520</td>\n",
       "      <td>1</td>\n",
       "      <td>3.784190</td>\n",
       "      <td>12.374743</td>\n",
       "      <td>0.000000</td>\n",
       "      <td>3</td>\n",
       "      <td>1</td>\n",
       "    </tr>\n",
       "    <tr>\n",
       "      <th>2</th>\n",
       "      <td>2</td>\n",
       "      <td>3</td>\n",
       "      <td>3</td>\n",
       "      <td>10.0</td>\n",
       "      <td>0</td>\n",
       "      <td>0</td>\n",
       "      <td>4</td>\n",
       "      <td>0</td>\n",
       "      <td>0</td>\n",
       "      <td>0</td>\n",
       "      <td>0</td>\n",
       "      <td>3.637586</td>\n",
       "      <td>11.474029</td>\n",
       "      <td>0.000000</td>\n",
       "      <td>2</td>\n",
       "      <td>1</td>\n",
       "    </tr>\n",
       "    <tr>\n",
       "      <th>3</th>\n",
       "      <td>3</td>\n",
       "      <td>4</td>\n",
       "      <td>6</td>\n",
       "      <td>15.0</td>\n",
       "      <td>1</td>\n",
       "      <td>8</td>\n",
       "      <td>0</td>\n",
       "      <td>2</td>\n",
       "      <td>1</td>\n",
       "      <td>0</td>\n",
       "      <td>1</td>\n",
       "      <td>3.637586</td>\n",
       "      <td>11.633788</td>\n",
       "      <td>0.000000</td>\n",
       "      <td>2</td>\n",
       "      <td>1</td>\n",
       "    </tr>\n",
       "    <tr>\n",
       "      <th>4</th>\n",
       "      <td>4</td>\n",
       "      <td>5</td>\n",
       "      <td>7</td>\n",
       "      <td>10.0</td>\n",
       "      <td>1</td>\n",
       "      <td>7</td>\n",
       "      <td>5</td>\n",
       "      <td>0</td>\n",
       "      <td>0</td>\n",
       "      <td>0</td>\n",
       "      <td>0</td>\n",
       "      <td>3.737670</td>\n",
       "      <td>11.318090</td>\n",
       "      <td>0.000000</td>\n",
       "      <td>3</td>\n",
       "      <td>1</td>\n",
       "    </tr>\n",
       "  </tbody>\n",
       "</table>\n",
       "</div>"
      ],
      "text/plain": [
       "   Unnamed: 0  workclass  education  education-num  marital-status  \\\n",
       "0           0          3          0           12.0               1   \n",
       "1           1          3          4           14.0               0   \n",
       "2           2          3          3           10.0               0   \n",
       "3           3          4          6           15.0               1   \n",
       "4           4          5          7           10.0               1   \n",
       "\n",
       "   occupation  relationship  race  sex  capital-gain  salary   age_log  \\\n",
       "0           0             5     1    0             0       1  3.891820   \n",
       "1           3             1     1    1         10520       1  3.784190   \n",
       "2           0             4     0    0             0       0  3.637586   \n",
       "3           8             0     2    1             0       1  3.637586   \n",
       "4           7             5     0    0             0       0  3.737670   \n",
       "\n",
       "   fnlwgt_log  capital_loss_log  hours_per_week_bins  native_country  \n",
       "0   11.526039          7.551187                    2               1  \n",
       "1   12.374743          0.000000                    3               1  \n",
       "2   11.474029          0.000000                    2               1  \n",
       "3   11.633788          0.000000                    2               1  \n",
       "4   11.318090          0.000000                    3               1  "
      ]
     },
     "execution_count": 4,
     "metadata": {},
     "output_type": "execute_result"
    }
   ],
   "source": [
    "df = pd.read_csv(path_to_data)\n",
    "df.head()"
   ]
  },
  {
   "cell_type": "code",
   "execution_count": 5,
   "id": "aa61175c",
   "metadata": {},
   "outputs": [],
   "source": [
    "train_data, valid_data = train_test_split(df, test_size=0.2, stratify=df.salary)"
   ]
  },
  {
   "cell_type": "code",
   "execution_count": 6,
   "id": "0fd42f45",
   "metadata": {},
   "outputs": [],
   "source": [
    "class CustomDataset(Dataset):\n",
    "    def __init__(self, df, numerical_columns, categorical_colums):\n",
    "        self.df = df\n",
    "        self.numerical_columns = numerical_columns\n",
    "        self.categorical_colums = categorical_colums\n",
    "        \n",
    "        self.columns = self.categorical_colums + self.numerical_columns\n",
    "        \n",
    "        self.X = self.df[self.columns].reset_index(drop=True)\n",
    "        self.y = df.salary.to_numpy()\n",
    "        \n",
    "    def __len__(self):\n",
    "        return len(self.X)\n",
    "    \n",
    "    def __getitem__(self, indx):\n",
    "        row = self.X.take([indx], axis=0)\n",
    "\n",
    "        row = {col: torch.tensor(row[col].values, dtype=torch.float32) for i, col in enumerate(self.columns)}\n",
    "\n",
    "        return row, np.float32(self.y[indx])"
   ]
  },
  {
   "cell_type": "code",
   "execution_count": 7,
   "id": "f3e55746",
   "metadata": {},
   "outputs": [],
   "source": [
    "train_dataset = CustomDataset(train_data, numerical_columns, categorical_colums)\n",
    "valid_dataset = CustomDataset(valid_data, numerical_columns, categorical_colums)"
   ]
  },
  {
   "cell_type": "code",
   "execution_count": 9,
   "id": "a4b156c7",
   "metadata": {},
   "outputs": [],
   "source": [
    "def experiment_mlflow(model, train_loader, valid_loader, epoches, criterion, optimizer):\n",
    "    for epoch in tqdm(range(epoches)):\n",
    "        train_loss = 0\n",
    "        valid_loss = 0\n",
    "        correct_train = 0\n",
    "        correct_valid = 0\n",
    "        model.train()\n",
    "        for X, y in tqdm(train_loader):\n",
    "            optimizer.zero_grad()\n",
    "            output = model(X)\n",
    "            loss = criterion(output, y)\n",
    "            loss.backward()\n",
    "            optimizer.step()\n",
    "\n",
    "            train_loss += loss.item()\n",
    "            predict = (torch.sigmoid(output.cpu())>0.5).long()\n",
    "            correct_train += (y.cpu()==predict).sum()\n",
    "\n",
    "        model.eval()\n",
    "        for X, y in tqdm(valid_loader):\n",
    "            with torch.no_grad():\n",
    "                output = model(X)\n",
    "                loss = criterion(output, y)\n",
    "                valid_loss += loss.item()\n",
    "                predict = (torch.sigmoid(output.cpu())>0.5).long()\n",
    "                correct_valid += (y.cpu()==predict).sum()\n",
    "\n",
    "        train_loss = train_loss/len(train_dataset)\n",
    "        valid_loss = valid_loss/len(valid_dataset)\n",
    "        train_accuracy = correct_train/len(train_dataset)\n",
    "        valid_accuracy = correct_valid/len(valid_dataset)\n",
    "            \n",
    "        mlflow.log_metric(\"train/loss\", float(train_loss), step=epoch)\n",
    "        mlflow.log_metric(\"valid/loss\", float(valid_loss), step=epoch)\n",
    "        mlflow.log_metric(\"train/accuracy\", float(train_accuracy), step=epoch)\n",
    "        mlflow.log_metric(\"valid/accuracy\", float(valid_accuracy), step=epoch)\n",
    "\n",
    "        print(f'Epoch: {epoch}, Train loss: {round(train_loss, 4)},  Valid loss: {round(valid_loss, 4)}')\n",
    "        print(f'Epoch: {epoch}, Train Accuracy: {train_accuracy},  Valid Accuracy: {valid_accuracy}')"
   ]
  },
  {
   "cell_type": "code",
   "execution_count": 19,
   "id": "4c1c4e47",
   "metadata": {},
   "outputs": [],
   "source": [
    "EPOCHES = 30\n",
    "EMBEDDING_SIZE = 5\n",
    "BATCH_SIZE = 512\n",
    "NROF_LAYERS = 2\n",
    "NROF_NEURONS = 16\n",
    "DEEP_OUTPUT_SIZE = 16\n",
    "NROF_OUT_CLASSES = 1\n",
    "LEARNING_RATE = 3e-4"
   ]
  },
  {
   "cell_type": "code",
   "execution_count": 20,
   "id": "85ffd32b",
   "metadata": {},
   "outputs": [],
   "source": [
    "train_loader = DataLoader(train_dataset, batch_size=BATCH_SIZE, shuffle=True)\n",
    "valid_loader = DataLoader(valid_dataset, batch_size=BATCH_SIZE, shuffle=False)\n",
    "\n",
    "model = DeepFMNet(nrof_cat=category_number_dict,\n",
    "                  emb_dim=EMBEDDING_SIZE,\n",
    "                  emb_columns=categorical_colums,\n",
    "                  numeric_columns=numerical_columns,\n",
    "                  nrof_layers=NROF_LAYERS,\n",
    "                  nrof_neurons=NROF_NEURONS,\n",
    "                  output_size=DEEP_OUTPUT_SIZE,\n",
    "                  nrof_out_classes=NROF_OUT_CLASSES).to(DEVICE)\n",
    "\n",
    "criterion = torch.nn.BCEWithLogitsLoss()\n",
    "optimizer = optim.Adam(model.parameters(), lr=LEARNING_RATE)"
   ]
  },
  {
   "cell_type": "code",
   "execution_count": 21,
   "id": "810eb7ba",
   "metadata": {
    "scrolled": false
   },
   "outputs": [
    {
     "data": {
      "application/vnd.jupyter.widget-view+json": {
       "model_id": "3fb16c2d626f40f9bc7f05bba07f7215",
       "version_major": 2,
       "version_minor": 0
      },
      "text/plain": [
       "  0%|          | 0/30 [00:00<?, ?it/s]"
      ]
     },
     "metadata": {},
     "output_type": "display_data"
    },
    {
     "data": {
      "application/vnd.jupyter.widget-view+json": {
       "model_id": "8ef60f30714147ef867dcc10a148d928",
       "version_major": 2,
       "version_minor": 0
      },
      "text/plain": [
       "  0%|          | 0/49 [00:00<?, ?it/s]"
      ]
     },
     "metadata": {},
     "output_type": "display_data"
    },
    {
     "data": {
      "application/vnd.jupyter.widget-view+json": {
       "model_id": "924b3441bb824c46ae2e94ec1b392f3c",
       "version_major": 2,
       "version_minor": 0
      },
      "text/plain": [
       "  0%|          | 0/13 [00:00<?, ?it/s]"
      ]
     },
     "metadata": {},
     "output_type": "display_data"
    },
    {
     "name": "stdout",
     "output_type": "stream",
     "text": [
      "0.0017821145603961802 0.0016857226580472915\n",
      "Epoch: 0, Train loss: 0.0018,  Valid loss: 0.0017\n",
      "Epoch: 0, Train Accuracy: 0.4325547516345978,  Valid Accuracy: 0.48585745692253113\n"
     ]
    },
    {
     "data": {
      "application/vnd.jupyter.widget-view+json": {
       "model_id": "b80024aaa37b464493ae34a247e7fbab",
       "version_major": 2,
       "version_minor": 0
      },
      "text/plain": [
       "  0%|          | 0/49 [00:00<?, ?it/s]"
      ]
     },
     "metadata": {},
     "output_type": "display_data"
    },
    {
     "data": {
      "application/vnd.jupyter.widget-view+json": {
       "model_id": "8fd3640e633f407899fae176da1c0a24",
       "version_major": 2,
       "version_minor": 0
      },
      "text/plain": [
       "  0%|          | 0/13 [00:00<?, ?it/s]"
      ]
     },
     "metadata": {},
     "output_type": "display_data"
    },
    {
     "name": "stdout",
     "output_type": "stream",
     "text": [
      "0.0013787032912756952 0.0013193905074164423\n",
      "Epoch: 1, Train loss: 0.0014,  Valid loss: 0.0013\n",
      "Epoch: 1, Train Accuracy: 0.5877313613891602,  Valid Accuracy: 0.668336808681488\n"
     ]
    },
    {
     "data": {
      "application/vnd.jupyter.widget-view+json": {
       "model_id": "a20676dfa7bf422f82c8f35f118a8445",
       "version_major": 2,
       "version_minor": 0
      },
      "text/plain": [
       "  0%|          | 0/49 [00:00<?, ?it/s]"
      ]
     },
     "metadata": {},
     "output_type": "display_data"
    },
    {
     "data": {
      "application/vnd.jupyter.widget-view+json": {
       "model_id": "7c0a366679f84dc680168188d58cd494",
       "version_major": 2,
       "version_minor": 0
      },
      "text/plain": [
       "  0%|          | 0/13 [00:00<?, ?it/s]"
      ]
     },
     "metadata": {},
     "output_type": "display_data"
    },
    {
     "name": "stdout",
     "output_type": "stream",
     "text": [
      "0.001111466319252889 0.0010699904974624068\n",
      "Epoch: 2, Train loss: 0.0011,  Valid loss: 0.0011\n",
      "Epoch: 2, Train Accuracy: 0.7180554270744324,  Valid Accuracy: 0.7580410242080688\n"
     ]
    },
    {
     "data": {
      "application/vnd.jupyter.widget-view+json": {
       "model_id": "b2d2bc72547d4f1b87d25e8c3486c9b1",
       "version_major": 2,
       "version_minor": 0
      },
      "text/plain": [
       "  0%|          | 0/49 [00:00<?, ?it/s]"
      ]
     },
     "metadata": {},
     "output_type": "display_data"
    },
    {
     "data": {
      "application/vnd.jupyter.widget-view+json": {
       "model_id": "eece7a3e6b1345d9afa7f0f2db7ca692",
       "version_major": 2,
       "version_minor": 0
      },
      "text/plain": [
       "  0%|          | 0/13 [00:00<?, ?it/s]"
      ]
     },
     "metadata": {},
     "output_type": "display_data"
    },
    {
     "name": "stdout",
     "output_type": "stream",
     "text": [
      "0.0009366453060055187 0.0009075952824780181\n",
      "Epoch: 3, Train loss: 0.0009,  Valid loss: 0.0009\n",
      "Epoch: 3, Train Accuracy: 0.7835205793380737,  Valid Accuracy: 0.8071763515472412\n"
     ]
    },
    {
     "data": {
      "application/vnd.jupyter.widget-view+json": {
       "model_id": "09101df9b83e41bb9ada1794f909abd7",
       "version_major": 2,
       "version_minor": 0
      },
      "text/plain": [
       "  0%|          | 0/49 [00:00<?, ?it/s]"
      ]
     },
     "metadata": {},
     "output_type": "display_data"
    },
    {
     "data": {
      "application/vnd.jupyter.widget-view+json": {
       "model_id": "41ce7d2739ee4495923dae346b4c00e0",
       "version_major": 2,
       "version_minor": 0
      },
      "text/plain": [
       "  0%|          | 0/13 [00:00<?, ?it/s]"
      ]
     },
     "metadata": {},
     "output_type": "display_data"
    },
    {
     "name": "stdout",
     "output_type": "stream",
     "text": [
      "0.000824121698878051 0.0008210355570382981\n",
      "Epoch: 4, Train loss: 0.0008,  Valid loss: 0.0008\n",
      "Epoch: 4, Train Accuracy: 0.817101776599884,  Valid Accuracy: 0.8268951177597046\n"
     ]
    },
    {
     "data": {
      "application/vnd.jupyter.widget-view+json": {
       "model_id": "43288898e0274027a8465a7c892352ec",
       "version_major": 2,
       "version_minor": 0
      },
      "text/plain": [
       "  0%|          | 0/49 [00:00<?, ?it/s]"
      ]
     },
     "metadata": {},
     "output_type": "display_data"
    },
    {
     "data": {
      "application/vnd.jupyter.widget-view+json": {
       "model_id": "b24c38671ef943dda79e451387ae5fb8",
       "version_major": 2,
       "version_minor": 0
      },
      "text/plain": [
       "  0%|          | 0/13 [00:00<?, ?it/s]"
      ]
     },
     "metadata": {},
     "output_type": "display_data"
    },
    {
     "name": "stdout",
     "output_type": "stream",
     "text": [
      "0.0007569863735921341 0.0007605640437735173\n",
      "Epoch: 5, Train loss: 0.0008,  Valid loss: 0.0008\n",
      "Epoch: 5, Train Accuracy: 0.828093409538269,  Valid Accuracy: 0.8385323882102966\n"
     ]
    },
    {
     "data": {
      "application/vnd.jupyter.widget-view+json": {
       "model_id": "aa2098fe22864f2d9db3ca8b4127cb1d",
       "version_major": 2,
       "version_minor": 0
      },
      "text/plain": [
       "  0%|          | 0/49 [00:00<?, ?it/s]"
      ]
     },
     "metadata": {},
     "output_type": "display_data"
    },
    {
     "data": {
      "application/vnd.jupyter.widget-view+json": {
       "model_id": "ca1ac4b1a4754bd582aab0d54dca17b3",
       "version_major": 2,
       "version_minor": 0
      },
      "text/plain": [
       "  0%|          | 0/13 [00:00<?, ?it/s]"
      ]
     },
     "metadata": {},
     "output_type": "display_data"
    },
    {
     "name": "stdout",
     "output_type": "stream",
     "text": [
      "0.0007131087958721185 0.0007297504799844221\n",
      "Epoch: 6, Train loss: 0.0007,  Valid loss: 0.0007\n",
      "Epoch: 6, Train Accuracy: 0.8375495076179504,  Valid Accuracy: 0.8445127010345459\n"
     ]
    },
    {
     "data": {
      "application/vnd.jupyter.widget-view+json": {
       "model_id": "a3c2adf007394840bd7c86558976947b",
       "version_major": 2,
       "version_minor": 0
      },
      "text/plain": [
       "  0%|          | 0/49 [00:00<?, ?it/s]"
      ]
     },
     "metadata": {},
     "output_type": "display_data"
    },
    {
     "data": {
      "application/vnd.jupyter.widget-view+json": {
       "model_id": "41afac32b74f42e79bdefe5ed31ae9a6",
       "version_major": 2,
       "version_minor": 0
      },
      "text/plain": [
       "  0%|          | 0/13 [00:00<?, ?it/s]"
      ]
     },
     "metadata": {},
     "output_type": "display_data"
    },
    {
     "name": "stdout",
     "output_type": "stream",
     "text": [
      "0.0006919649092331957 0.0007073767922778921\n",
      "Epoch: 7, Train loss: 0.0007,  Valid loss: 0.0007\n",
      "Epoch: 7, Train Accuracy: 0.8408227562904358,  Valid Accuracy: 0.8480685353279114\n"
     ]
    },
    {
     "data": {
      "application/vnd.jupyter.widget-view+json": {
       "model_id": "956491352242457897bfde986932411b",
       "version_major": 2,
       "version_minor": 0
      },
      "text/plain": [
       "  0%|          | 0/49 [00:00<?, ?it/s]"
      ]
     },
     "metadata": {},
     "output_type": "display_data"
    },
    {
     "data": {
      "application/vnd.jupyter.widget-view+json": {
       "model_id": "b9ab1c26bfdd4540ac9679d9d4ec7cb7",
       "version_major": 2,
       "version_minor": 0
      },
      "text/plain": [
       "  0%|          | 0/13 [00:00<?, ?it/s]"
      ]
     },
     "metadata": {},
     "output_type": "display_data"
    },
    {
     "name": "stdout",
     "output_type": "stream",
     "text": [
      "0.0006694763653166397 0.000695191052805073\n",
      "Epoch: 8, Train loss: 0.0007,  Valid loss: 0.0007\n",
      "Epoch: 8, Train Accuracy: 0.844540536403656,  Valid Accuracy: 0.8496848344802856\n"
     ]
    },
    {
     "data": {
      "application/vnd.jupyter.widget-view+json": {
       "model_id": "b18839b849194b8496614f9365052f82",
       "version_major": 2,
       "version_minor": 0
      },
      "text/plain": [
       "  0%|          | 0/49 [00:00<?, ?it/s]"
      ]
     },
     "metadata": {},
     "output_type": "display_data"
    },
    {
     "data": {
      "application/vnd.jupyter.widget-view+json": {
       "model_id": "8ca85a8c234c4428bcdcb31922634cea",
       "version_major": 2,
       "version_minor": 0
      },
      "text/plain": [
       "  0%|          | 0/13 [00:00<?, ?it/s]"
      ]
     },
     "metadata": {},
     "output_type": "display_data"
    },
    {
     "name": "stdout",
     "output_type": "stream",
     "text": [
      "0.0006593602990156078 0.000683916044751604\n",
      "Epoch: 9, Train loss: 0.0007,  Valid loss: 0.0007\n",
      "Epoch: 9, Train Accuracy: 0.8470863699913025,  Valid Accuracy: 0.8522709012031555\n"
     ]
    },
    {
     "data": {
      "application/vnd.jupyter.widget-view+json": {
       "model_id": "723cab8b48144323866d1720fe37455a",
       "version_major": 2,
       "version_minor": 0
      },
      "text/plain": [
       "  0%|          | 0/49 [00:00<?, ?it/s]"
      ]
     },
     "metadata": {},
     "output_type": "display_data"
    },
    {
     "data": {
      "application/vnd.jupyter.widget-view+json": {
       "model_id": "b27cd839f7114b5d95d775369b0cf2c7",
       "version_major": 2,
       "version_minor": 0
      },
      "text/plain": [
       "  0%|          | 0/13 [00:00<?, ?it/s]"
      ]
     },
     "metadata": {},
     "output_type": "display_data"
    },
    {
     "name": "stdout",
     "output_type": "stream",
     "text": [
      "0.0006548849406493257 0.0006811263460286006\n",
      "Epoch: 10, Train loss: 0.0007,  Valid loss: 0.0007\n",
      "Epoch: 10, Train Accuracy: 0.8477733731269836,  Valid Accuracy: 0.8540487885475159\n"
     ]
    },
    {
     "data": {
      "application/vnd.jupyter.widget-view+json": {
       "model_id": "faaef04a14b94d5292a7d1a786510041",
       "version_major": 2,
       "version_minor": 0
      },
      "text/plain": [
       "  0%|          | 0/49 [00:00<?, ?it/s]"
      ]
     },
     "metadata": {},
     "output_type": "display_data"
    },
    {
     "data": {
      "application/vnd.jupyter.widget-view+json": {
       "model_id": "f5b5b801a12042dea9e413ee09a7301d",
       "version_major": 2,
       "version_minor": 0
      },
      "text/plain": [
       "  0%|          | 0/13 [00:00<?, ?it/s]"
      ]
     },
     "metadata": {},
     "output_type": "display_data"
    },
    {
     "name": "stdout",
     "output_type": "stream",
     "text": [
      "0.0006460534067110768 0.0006767218354177221\n",
      "Epoch: 11, Train loss: 0.0006,  Valid loss: 0.0007\n",
      "Epoch: 11, Train Accuracy: 0.8474096655845642,  Valid Accuracy: 0.8546953201293945\n"
     ]
    },
    {
     "data": {
      "application/vnd.jupyter.widget-view+json": {
       "model_id": "28896c495dfa44fd8efba298bfa28107",
       "version_major": 2,
       "version_minor": 0
      },
      "text/plain": [
       "  0%|          | 0/49 [00:00<?, ?it/s]"
      ]
     },
     "metadata": {},
     "output_type": "display_data"
    },
    {
     "data": {
      "application/vnd.jupyter.widget-view+json": {
       "model_id": "33ef292721554a1281f7ba2e20b609aa",
       "version_major": 2,
       "version_minor": 0
      },
      "text/plain": [
       "  0%|          | 0/13 [00:00<?, ?it/s]"
      ]
     },
     "metadata": {},
     "output_type": "display_data"
    },
    {
     "name": "stdout",
     "output_type": "stream",
     "text": [
      "0.0006412623022171652 0.0006735455205642061\n",
      "Epoch: 12, Train loss: 0.0006,  Valid loss: 0.0007\n",
      "Epoch: 12, Train Accuracy: 0.8485007882118225,  Valid Accuracy: 0.8561499714851379\n"
     ]
    },
    {
     "data": {
      "application/vnd.jupyter.widget-view+json": {
       "model_id": "16e74f000d314e40a07eea3ec81497a7",
       "version_major": 2,
       "version_minor": 0
      },
      "text/plain": [
       "  0%|          | 0/49 [00:00<?, ?it/s]"
      ]
     },
     "metadata": {},
     "output_type": "display_data"
    },
    {
     "data": {
      "application/vnd.jupyter.widget-view+json": {
       "model_id": "b7a8d28c6e514fdb929fb3b86d5cfb4a",
       "version_major": 2,
       "version_minor": 0
      },
      "text/plain": [
       "  0%|          | 0/13 [00:00<?, ?it/s]"
      ]
     },
     "metadata": {},
     "output_type": "display_data"
    },
    {
     "name": "stdout",
     "output_type": "stream",
     "text": [
      "0.0006388719912094816 0.0006712977308554162\n",
      "Epoch: 13, Train loss: 0.0006,  Valid loss: 0.0007\n",
      "Epoch: 13, Train Accuracy: 0.8487432599067688,  Valid Accuracy: 0.8564732670783997\n"
     ]
    },
    {
     "data": {
      "application/vnd.jupyter.widget-view+json": {
       "model_id": "e22cd3de739a40a0ac78d29f3b732523",
       "version_major": 2,
       "version_minor": 0
      },
      "text/plain": [
       "  0%|          | 0/49 [00:00<?, ?it/s]"
      ]
     },
     "metadata": {},
     "output_type": "display_data"
    },
    {
     "data": {
      "application/vnd.jupyter.widget-view+json": {
       "model_id": "46111053b3a4499e9015c2b0857c1226",
       "version_major": 2,
       "version_minor": 0
      },
      "text/plain": [
       "  0%|          | 0/13 [00:00<?, ?it/s]"
      ]
     },
     "metadata": {},
     "output_type": "display_data"
    },
    {
     "name": "stdout",
     "output_type": "stream",
     "text": [
      "0.0006367823698098086 0.0006698893242551299\n",
      "Epoch: 14, Train loss: 0.0006,  Valid loss: 0.0007\n",
      "Epoch: 14, Train Accuracy: 0.84987473487854,  Valid Accuracy: 0.8564732670783997\n"
     ]
    },
    {
     "data": {
      "application/vnd.jupyter.widget-view+json": {
       "model_id": "7a2d95d916984f758cd935d470116b86",
       "version_major": 2,
       "version_minor": 0
      },
      "text/plain": [
       "  0%|          | 0/49 [00:00<?, ?it/s]"
      ]
     },
     "metadata": {},
     "output_type": "display_data"
    },
    {
     "data": {
      "application/vnd.jupyter.widget-view+json": {
       "model_id": "f2009a7ea3b645fb87989c883f0bfc04",
       "version_major": 2,
       "version_minor": 0
      },
      "text/plain": [
       "  0%|          | 0/13 [00:00<?, ?it/s]"
      ]
     },
     "metadata": {},
     "output_type": "display_data"
    },
    {
     "name": "stdout",
     "output_type": "stream",
     "text": [
      "0.0006330359483568726 0.0006682982742641899\n",
      "Epoch: 15, Train loss: 0.0006,  Valid loss: 0.0007\n",
      "Epoch: 15, Train Accuracy: 0.850157618522644,  Valid Accuracy: 0.8569581508636475\n"
     ]
    },
    {
     "data": {
      "application/vnd.jupyter.widget-view+json": {
       "model_id": "eee9ab05d91148958d3f86e5c77d1937",
       "version_major": 2,
       "version_minor": 0
      },
      "text/plain": [
       "  0%|          | 0/49 [00:00<?, ?it/s]"
      ]
     },
     "metadata": {},
     "output_type": "display_data"
    },
    {
     "data": {
      "application/vnd.jupyter.widget-view+json": {
       "model_id": "aefa9bdf8d654a85b7c943a5de00bf14",
       "version_major": 2,
       "version_minor": 0
      },
      "text/plain": [
       "  0%|          | 0/13 [00:00<?, ?it/s]"
      ]
     },
     "metadata": {},
     "output_type": "display_data"
    },
    {
     "name": "stdout",
     "output_type": "stream",
     "text": [
      "0.0006334149771496674 0.0006669815000509703\n",
      "Epoch: 16, Train loss: 0.0006,  Valid loss: 0.0007\n",
      "Epoch: 16, Train Accuracy: 0.8494302034378052,  Valid Accuracy: 0.8588976860046387\n"
     ]
    },
    {
     "data": {
      "application/vnd.jupyter.widget-view+json": {
       "model_id": "d4958631123843b4a950da39fa230a7b",
       "version_major": 2,
       "version_minor": 0
      },
      "text/plain": [
       "  0%|          | 0/49 [00:00<?, ?it/s]"
      ]
     },
     "metadata": {},
     "output_type": "display_data"
    },
    {
     "data": {
      "application/vnd.jupyter.widget-view+json": {
       "model_id": "bf202a54fced4fc6b2f23e7a4a22053a",
       "version_major": 2,
       "version_minor": 0
      },
      "text/plain": [
       "  0%|          | 0/13 [00:00<?, ?it/s]"
      ]
     },
     "metadata": {},
     "output_type": "display_data"
    },
    {
     "name": "stdout",
     "output_type": "stream",
     "text": [
      "0.0006283051699007337 0.0006674818775275036\n",
      "Epoch: 17, Train loss: 0.0006,  Valid loss: 0.0007\n",
      "Epoch: 17, Train Accuracy: 0.8506829142570496,  Valid Accuracy: 0.8569581508636475\n"
     ]
    },
    {
     "data": {
      "application/vnd.jupyter.widget-view+json": {
       "model_id": "7e48ad6b8285479596b92e8cd70cdea9",
       "version_major": 2,
       "version_minor": 0
      },
      "text/plain": [
       "  0%|          | 0/49 [00:00<?, ?it/s]"
      ]
     },
     "metadata": {},
     "output_type": "display_data"
    },
    {
     "data": {
      "application/vnd.jupyter.widget-view+json": {
       "model_id": "75a18d2f07914b3faaef51bf903f27f9",
       "version_major": 2,
       "version_minor": 0
      },
      "text/plain": [
       "  0%|          | 0/13 [00:00<?, ?it/s]"
      ]
     },
     "metadata": {},
     "output_type": "display_data"
    },
    {
     "name": "stdout",
     "output_type": "stream",
     "text": [
      "0.0006246682135124056 0.0006655321832964835\n",
      "Epoch: 18, Train loss: 0.0006,  Valid loss: 0.0007\n",
      "Epoch: 18, Train Accuracy: 0.8527438640594482,  Valid Accuracy: 0.8584128022193909\n"
     ]
    },
    {
     "data": {
      "application/vnd.jupyter.widget-view+json": {
       "model_id": "9d00e73bf39e4fa5ad59bb6bff086cc4",
       "version_major": 2,
       "version_minor": 0
      },
      "text/plain": [
       "  0%|          | 0/49 [00:00<?, ?it/s]"
      ]
     },
     "metadata": {},
     "output_type": "display_data"
    },
    {
     "data": {
      "application/vnd.jupyter.widget-view+json": {
       "model_id": "9103c875ef3c44c59fe5fdc457260f25",
       "version_major": 2,
       "version_minor": 0
      },
      "text/plain": [
       "  0%|          | 0/13 [00:00<?, ?it/s]"
      ]
     },
     "metadata": {},
     "output_type": "display_data"
    },
    {
     "name": "stdout",
     "output_type": "stream",
     "text": [
      "0.0006270490295912236 0.000664756118682854\n",
      "Epoch: 19, Train loss: 0.0006,  Valid loss: 0.0007\n",
      "Epoch: 19, Train Accuracy: 0.852178156375885,  Valid Accuracy: 0.8579279184341431\n"
     ]
    },
    {
     "data": {
      "application/vnd.jupyter.widget-view+json": {
       "model_id": "97e22563e2254e30b37f74228ad11ee7",
       "version_major": 2,
       "version_minor": 0
      },
      "text/plain": [
       "  0%|          | 0/49 [00:00<?, ?it/s]"
      ]
     },
     "metadata": {},
     "output_type": "display_data"
    },
    {
     "data": {
      "application/vnd.jupyter.widget-view+json": {
       "model_id": "7e19d4f1aaa046cb8915cb9b50d412e3",
       "version_major": 2,
       "version_minor": 0
      },
      "text/plain": [
       "  0%|          | 0/13 [00:00<?, ?it/s]"
      ]
     },
     "metadata": {},
     "output_type": "display_data"
    },
    {
     "name": "stdout",
     "output_type": "stream",
     "text": [
      "0.0006246289042178636 0.0006660961152972747\n",
      "Epoch: 20, Train loss: 0.0006,  Valid loss: 0.0007\n",
      "Epoch: 20, Train Accuracy: 0.8524205684661865,  Valid Accuracy: 0.8567965030670166\n"
     ]
    },
    {
     "data": {
      "application/vnd.jupyter.widget-view+json": {
       "model_id": "0ed4e6fa464f4360b719e9442e31681e",
       "version_major": 2,
       "version_minor": 0
      },
      "text/plain": [
       "  0%|          | 0/49 [00:00<?, ?it/s]"
      ]
     },
     "metadata": {},
     "output_type": "display_data"
    },
    {
     "data": {
      "application/vnd.jupyter.widget-view+json": {
       "model_id": "5b46ecb14ed8478cb3a0fc05ec8db615",
       "version_major": 2,
       "version_minor": 0
      },
      "text/plain": [
       "  0%|          | 0/13 [00:00<?, ?it/s]"
      ]
     },
     "metadata": {},
     "output_type": "display_data"
    },
    {
     "name": "stdout",
     "output_type": "stream",
     "text": [
      "0.0006206837143054402 0.0006647398904584926\n",
      "Epoch: 21, Train loss: 0.0006,  Valid loss: 0.0007\n",
      "Epoch: 21, Train Accuracy: 0.8527034521102905,  Valid Accuracy: 0.8572813868522644\n"
     ]
    },
    {
     "data": {
      "application/vnd.jupyter.widget-view+json": {
       "model_id": "1c6de02ba49046e7b585ab32f1336f55",
       "version_major": 2,
       "version_minor": 0
      },
      "text/plain": [
       "  0%|          | 0/49 [00:00<?, ?it/s]"
      ]
     },
     "metadata": {},
     "output_type": "display_data"
    },
    {
     "data": {
      "application/vnd.jupyter.widget-view+json": {
       "model_id": "d666aadedcf14ceeb4d990b86d8382da",
       "version_major": 2,
       "version_minor": 0
      },
      "text/plain": [
       "  0%|          | 0/13 [00:00<?, ?it/s]"
      ]
     },
     "metadata": {},
     "output_type": "display_data"
    },
    {
     "name": "stdout",
     "output_type": "stream",
     "text": [
      "0.0006214125163339523 0.0006644428691552648\n",
      "Epoch: 22, Train loss: 0.0006,  Valid loss: 0.0007\n",
      "Epoch: 22, Train Accuracy: 0.8530267477035522,  Valid Accuracy: 0.8579279184341431\n"
     ]
    },
    {
     "data": {
      "application/vnd.jupyter.widget-view+json": {
       "model_id": "5f640889c2744cdd824245727c4cfb8a",
       "version_major": 2,
       "version_minor": 0
      },
      "text/plain": [
       "  0%|          | 0/49 [00:00<?, ?it/s]"
      ]
     },
     "metadata": {},
     "output_type": "display_data"
    },
    {
     "data": {
      "application/vnd.jupyter.widget-view+json": {
       "model_id": "e3bc2dfb65764557bd786c8bd81102a6",
       "version_major": 2,
       "version_minor": 0
      },
      "text/plain": [
       "  0%|          | 0/13 [00:00<?, ?it/s]"
      ]
     },
     "metadata": {},
     "output_type": "display_data"
    },
    {
     "name": "stdout",
     "output_type": "stream",
     "text": [
      "0.0006195414613561739 0.000664486033630926\n",
      "Epoch: 23, Train loss: 0.0006,  Valid loss: 0.0007\n",
      "Epoch: 23, Train Accuracy: 0.851895272731781,  Valid Accuracy: 0.8574430346488953\n"
     ]
    },
    {
     "data": {
      "application/vnd.jupyter.widget-view+json": {
       "model_id": "d397a920d6ef4688b2cfd5ccf9561a9f",
       "version_major": 2,
       "version_minor": 0
      },
      "text/plain": [
       "  0%|          | 0/49 [00:00<?, ?it/s]"
      ]
     },
     "metadata": {},
     "output_type": "display_data"
    },
    {
     "data": {
      "application/vnd.jupyter.widget-view+json": {
       "model_id": "58d4f2cefe4f4707aa4eb9f6defb332c",
       "version_major": 2,
       "version_minor": 0
      },
      "text/plain": [
       "  0%|          | 0/13 [00:00<?, ?it/s]"
      ]
     },
     "metadata": {},
     "output_type": "display_data"
    },
    {
     "name": "stdout",
     "output_type": "stream",
     "text": [
      "0.0006236842659810207 0.0006654856517894098\n",
      "Epoch: 24, Train loss: 0.0006,  Valid loss: 0.0007\n",
      "Epoch: 24, Train Accuracy: 0.8534308671951294,  Valid Accuracy: 0.85825115442276\n"
     ]
    },
    {
     "data": {
      "application/vnd.jupyter.widget-view+json": {
       "model_id": "68464186fc1a4f9cacadc38aff05ce7c",
       "version_major": 2,
       "version_minor": 0
      },
      "text/plain": [
       "  0%|          | 0/49 [00:00<?, ?it/s]"
      ]
     },
     "metadata": {},
     "output_type": "display_data"
    },
    {
     "data": {
      "application/vnd.jupyter.widget-view+json": {
       "model_id": "43c2380ea7ab42dca7f25d01b3ba9a71",
       "version_major": 2,
       "version_minor": 0
      },
      "text/plain": [
       "  0%|          | 0/13 [00:00<?, ?it/s]"
      ]
     },
     "metadata": {},
     "output_type": "display_data"
    },
    {
     "name": "stdout",
     "output_type": "stream",
     "text": [
      "0.0006169923728336892 0.0006651478263043579\n",
      "Epoch: 25, Train loss: 0.0006,  Valid loss: 0.0007\n",
      "Epoch: 25, Train Accuracy: 0.8535116910934448,  Valid Accuracy: 0.8590593338012695\n"
     ]
    },
    {
     "data": {
      "application/vnd.jupyter.widget-view+json": {
       "model_id": "e5d8547e3cb24286a313f760c68b9c27",
       "version_major": 2,
       "version_minor": 0
      },
      "text/plain": [
       "  0%|          | 0/49 [00:00<?, ?it/s]"
      ]
     },
     "metadata": {},
     "output_type": "display_data"
    },
    {
     "data": {
      "application/vnd.jupyter.widget-view+json": {
       "model_id": "1e3e23f3ffdb4fa7ae84053c04d70373",
       "version_major": 2,
       "version_minor": 0
      },
      "text/plain": [
       "  0%|          | 0/13 [00:00<?, ?it/s]"
      ]
     },
     "metadata": {},
     "output_type": "display_data"
    },
    {
     "name": "stdout",
     "output_type": "stream",
     "text": [
      "0.0006199280750122354 0.0006642112665267335\n",
      "Epoch: 26, Train loss: 0.0006,  Valid loss: 0.0007\n",
      "Epoch: 26, Train Accuracy: 0.8544006943702698,  Valid Accuracy: 0.85825115442276\n"
     ]
    },
    {
     "data": {
      "application/vnd.jupyter.widget-view+json": {
       "model_id": "a2484f83a6ac47bf984c81549766e025",
       "version_major": 2,
       "version_minor": 0
      },
      "text/plain": [
       "  0%|          | 0/49 [00:00<?, ?it/s]"
      ]
     },
     "metadata": {},
     "output_type": "display_data"
    },
    {
     "data": {
      "application/vnd.jupyter.widget-view+json": {
       "model_id": "3704aad218b44ebea37872a8624fd65e",
       "version_major": 2,
       "version_minor": 0
      },
      "text/plain": [
       "  0%|          | 0/13 [00:00<?, ?it/s]"
      ]
     },
     "metadata": {},
     "output_type": "display_data"
    },
    {
     "name": "stdout",
     "output_type": "stream",
     "text": [
      "0.0006214598958362983 0.0006643877249841488\n",
      "Epoch: 27, Train loss: 0.0006,  Valid loss: 0.0007\n",
      "Epoch: 27, Train Accuracy: 0.8532692193984985,  Valid Accuracy: 0.8595442175865173\n"
     ]
    },
    {
     "data": {
      "application/vnd.jupyter.widget-view+json": {
       "model_id": "4e653fe76e524ecab1cf332163a7f85a",
       "version_major": 2,
       "version_minor": 0
      },
      "text/plain": [
       "  0%|          | 0/49 [00:00<?, ?it/s]"
      ]
     },
     "metadata": {},
     "output_type": "display_data"
    },
    {
     "data": {
      "application/vnd.jupyter.widget-view+json": {
       "model_id": "41eb5380226f41b1acef0d0a3a2e062c",
       "version_major": 2,
       "version_minor": 0
      },
      "text/plain": [
       "  0%|          | 0/13 [00:00<?, ?it/s]"
      ]
     },
     "metadata": {},
     "output_type": "display_data"
    },
    {
     "name": "stdout",
     "output_type": "stream",
     "text": [
      "0.0006195498344526905 0.0006661396410424007\n",
      "Epoch: 28, Train loss: 0.0006,  Valid loss: 0.0007\n",
      "Epoch: 28, Train Accuracy: 0.8552089333534241,  Valid Accuracy: 0.8574430346488953\n"
     ]
    },
    {
     "data": {
      "application/vnd.jupyter.widget-view+json": {
       "model_id": "d47dd42586df4da1ade5ac35c40559d9",
       "version_major": 2,
       "version_minor": 0
      },
      "text/plain": [
       "  0%|          | 0/49 [00:00<?, ?it/s]"
      ]
     },
     "metadata": {},
     "output_type": "display_data"
    },
    {
     "data": {
      "application/vnd.jupyter.widget-view+json": {
       "model_id": "a774289f38c04d72ab36d472bfdacab6",
       "version_major": 2,
       "version_minor": 0
      },
      "text/plain": [
       "  0%|          | 0/13 [00:00<?, ?it/s]"
      ]
     },
     "metadata": {},
     "output_type": "display_data"
    },
    {
     "name": "stdout",
     "output_type": "stream",
     "text": [
      "0.0006155958776282078 0.000664237196040458\n",
      "Epoch: 29, Train loss: 0.0006,  Valid loss: 0.0007\n",
      "Epoch: 29, Train Accuracy: 0.8542794585227966,  Valid Accuracy: 0.8580895662307739\n"
     ]
    }
   ],
   "source": [
    "client = MlflowClient()\n",
    "try:\n",
    "    experiment_id = client.create_experiment(\"Experiment_DeepFM\")\n",
    "except MlflowException:  # If such experiment already exist\n",
    "    experiment_id = client.get_experiment_by_name(\"Experiment_DeepFM\").experiment_id\n",
    "        \n",
    "with mlflow.start_run(run_name='MLFlow_run', experiment_id=experiment_id):\n",
    "    mlflow.log_param(\"epoches\", EPOCHES)\n",
    "    mlflow.log_param(\"batch_size\", BATCH_SIZE)\n",
    "    mlflow.log_param(\"optimizer\", 'Adam')\n",
    "    mlflow.log_param(\"learning_rate\", LEARNING_RATE)\n",
    "    mlflow.log_param(\"embedding_dim\", EMBEDDING_SIZE)\n",
    "    mlflow.log_param(\"NROF_LAYERS\", NROF_LAYERS)\n",
    "    mlflow.log_param(\"NROF_NEURONS\", NROF_NEURONS)\n",
    "    mlflow.log_param(\"DEEP_OUTPUT_SIZE\", DEEP_OUTPUT_SIZE)\n",
    "    mlflow.log_param(\"SEED\", SEED)\n",
    "    \n",
    "\n",
    "    experiment_mlflow(model, train_loader, valid_loader, EPOCHES, criterion, optimizer)"
   ]
  },
  {
   "attachments": {
    "image.png": {
     "image/png": "[encoded data removed]"
    }
   },
   "cell_type": "markdown",
   "id": "e7cdf98a",
   "metadata": {},
   "source": [
    "![image.png](attachment:image.png)"
   ]
  },
  {
   "attachments": {
    "image.png": {
     "image/png": "[encoded data removed]"
    }
   },
   "cell_type": "markdown",
   "id": "2930ad6a",
   "metadata": {},
   "source": [
    "![image.png](attachment:image.png)"
   ]
  },
  {
   "cell_type": "code",
   "execution_count": null,
   "id": "264db6ba",
   "metadata": {},
   "outputs": [],
   "source": []
  }
 ],
 "metadata": {
  "kernelspec": {
   "display_name": "Python 3",
   "language": "python",
   "name": "python3"
  },
  "language_info": {
   "codemirror_mode": {
    "name": "ipython",
    "version": 3
   },
   "file_extension": ".py",
   "mimetype": "text/x-python",
   "name": "python",
   "nbconvert_exporter": "python",
   "pygments_lexer": "ipython3",
   "version": "3.8.5"
  }
 },
 "nbformat": 4,
 "nbformat_minor": 5
}
