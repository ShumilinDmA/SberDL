{
 "cells": [
  {
   "cell_type": "code",
   "execution_count": 1,
   "metadata": {},
   "outputs": [
    {
     "name": "stdout",
     "output_type": "stream",
     "text": [
      "1.8.1+cu102\n"
     ]
    },
    {
     "ename": "ModuleNotFoundError",
     "evalue": "No module named 'tensorboard'",
     "output_type": "error",
     "traceback": [
      "\u001b[0;31m---------------------------------------------------------------------------\u001b[0m",
      "\u001b[0;31mModuleNotFoundError\u001b[0m                       Traceback (most recent call last)",
      "\u001b[0;32m<ipython-input-1-62f1ce0a14d1>\u001b[0m in \u001b[0;36m<module>\u001b[0;34m\u001b[0m\n\u001b[1;32m      5\u001b[0m \u001b[0;32mimport\u001b[0m \u001b[0mtorch\u001b[0m\u001b[0;34m.\u001b[0m\u001b[0mutils\u001b[0m\u001b[0;34m.\u001b[0m\u001b[0mdata\u001b[0m \u001b[0;32mas\u001b[0m \u001b[0mdata_utils\u001b[0m\u001b[0;34m\u001b[0m\u001b[0;34m\u001b[0m\u001b[0m\n\u001b[1;32m      6\u001b[0m \u001b[0;34m\u001b[0m\u001b[0m\n\u001b[0;32m----> 7\u001b[0;31m \u001b[0;32mfrom\u001b[0m \u001b[0mtorch\u001b[0m\u001b[0;34m.\u001b[0m\u001b[0mutils\u001b[0m\u001b[0;34m.\u001b[0m\u001b[0mtensorboard\u001b[0m \u001b[0;32mimport\u001b[0m \u001b[0mSummaryWriter\u001b[0m\u001b[0;34m\u001b[0m\u001b[0;34m\u001b[0m\u001b[0m\n\u001b[0m\u001b[1;32m      8\u001b[0m \u001b[0;32mfrom\u001b[0m \u001b[0mpytorch_lightning\u001b[0m\u001b[0;34m.\u001b[0m\u001b[0mmetrics\u001b[0m \u001b[0;32mimport\u001b[0m \u001b[0mAccuracy\u001b[0m\u001b[0;34m\u001b[0m\u001b[0;34m\u001b[0m\u001b[0m\n\u001b[1;32m      9\u001b[0m \u001b[0;34m\u001b[0m\u001b[0m\n",
      "\u001b[0;32m~/SberDL/HW4/venv/lib/python3.8/site-packages/torch/utils/tensorboard/__init__.py\u001b[0m in \u001b[0;36m<module>\u001b[0;34m\u001b[0m\n\u001b[0;32m----> 1\u001b[0;31m \u001b[0;32mimport\u001b[0m \u001b[0mtensorboard\u001b[0m\u001b[0;34m\u001b[0m\u001b[0;34m\u001b[0m\u001b[0m\n\u001b[0m\u001b[1;32m      2\u001b[0m \u001b[0;32mfrom\u001b[0m \u001b[0mdistutils\u001b[0m\u001b[0;34m.\u001b[0m\u001b[0mversion\u001b[0m \u001b[0;32mimport\u001b[0m \u001b[0mLooseVersion\u001b[0m\u001b[0;34m\u001b[0m\u001b[0;34m\u001b[0m\u001b[0m\n\u001b[1;32m      3\u001b[0m \u001b[0;32mif\u001b[0m \u001b[0;32mnot\u001b[0m \u001b[0mhasattr\u001b[0m\u001b[0;34m(\u001b[0m\u001b[0mtensorboard\u001b[0m\u001b[0;34m,\u001b[0m \u001b[0;34m'__version__'\u001b[0m\u001b[0;34m)\u001b[0m \u001b[0;32mor\u001b[0m \u001b[0mLooseVersion\u001b[0m\u001b[0;34m(\u001b[0m\u001b[0mtensorboard\u001b[0m\u001b[0;34m.\u001b[0m\u001b[0m__version__\u001b[0m\u001b[0;34m)\u001b[0m \u001b[0;34m<\u001b[0m \u001b[0mLooseVersion\u001b[0m\u001b[0;34m(\u001b[0m\u001b[0;34m'1.15'\u001b[0m\u001b[0;34m)\u001b[0m\u001b[0;34m:\u001b[0m\u001b[0;34m\u001b[0m\u001b[0;34m\u001b[0m\u001b[0m\n\u001b[1;32m      4\u001b[0m     \u001b[0;32mraise\u001b[0m \u001b[0mImportError\u001b[0m\u001b[0;34m(\u001b[0m\u001b[0;34m'TensorBoard logging requires TensorBoard version 1.15 or above'\u001b[0m\u001b[0;34m)\u001b[0m\u001b[0;34m\u001b[0m\u001b[0;34m\u001b[0m\u001b[0m\n\u001b[1;32m      5\u001b[0m \u001b[0;32mdel\u001b[0m \u001b[0mLooseVersion\u001b[0m\u001b[0;34m\u001b[0m\u001b[0;34m\u001b[0m\u001b[0m\n",
      "\u001b[0;31mModuleNotFoundError\u001b[0m: No module named 'tensorboard'"
     ]
    }
   ],
   "source": [
    "import torch\n",
    "print(torch.__version__)\n",
    "\n",
    "import torch.optim as optim\n",
    "import torch.utils.data as data_utils\n",
    "\n",
    "from torch.utils.tensorboard import SummaryWriter\n",
    "from pytorch_lightning.metrics import Accuracy\n",
    "\n",
    "from week11.deepFM.network import DeepFMNet\n",
    "from week11.deepFM.data_loader import CustomDataset"
   ]
  },
  {
   "cell_type": "code",
   "execution_count": null,
   "metadata": {},
   "outputs": [],
   "source": [
    "EPOCHS = 500\n",
    "EMBEDDING_SIZE = 5\n",
    "BATCH_SIZE = 512\n",
    "NROF_LAYERS = 3\n",
    "NROF_NEURONS = 50\n",
    "DEEP_OUTPUT_SIZE = 50\n",
    "NROF_OUT_CLASSES = 1\n",
    "LEARNING_RATE = 3e-4\n",
    "TRAIN_PATH = '/lessons_ma/data/train_adult.pickle'\n",
    "VALID_PATH = '/home/firiuza/sber_risk_DL/week11/data/valid_adult.pickle'"
   ]
  },
  {
   "cell_type": "code",
   "execution_count": null,
   "metadata": {},
   "outputs": [],
   "source": [
    "class DeepFM:\n",
    "    def __init__(self):\n",
    "        self.train_dataset = CustomDataset(TRAIN_PATH)\n",
    "        self.train_loader = data_utils.DataLoader(dataset=self.train_dataset,\n",
    "                                                  batch_size=BATCH_SIZE, shuffle=True)\n",
    "\n",
    "        self.build_model()\n",
    "\n",
    "        self.log_params()\n",
    "\n",
    "        self.train_writer = SummaryWriter('./logs/train')\n",
    "        self.valid_writer = SummaryWriter('./logs/valid')\n",
    "\n",
    "        return\n",
    "\n",
    "    def build_model(self):\n",
    "        self.network = DeepFMNet(nrof_cat=self.train_dataset.nrof_emb_categories, emb_dim=EMBEDDING_SIZE,\n",
    "                                 emb_columns=self.train_dataset.embedding_columns,\n",
    "                                 numeric_columns=self.train_dataset.numeric_columns,\n",
    "                                 nrof_layers=NROF_LAYERS, nrof_neurons=NROF_NEURONS,\n",
    "                                 output_size=DEEP_OUTPUT_SIZE,\n",
    "                                 nrof_out_classes=NROF_OUT_CLASSES)\n",
    "\n",
    "        self.loss = torch.nn.BCEWithLogitsLoss()\n",
    "        self.accuracy = Accuracy()\n",
    "        self.optimizer = optim.Adam(self.network.parameters(), lr=LEARNING_RATE)\n",
    "\n",
    "        return\n",
    "\n",
    "    def log_params(self):\n",
    "        return\n",
    "\n",
    "    def load_model(self, restore_path=''):\n",
    "        if restore_path == '':\n",
    "            self.step = 0\n",
    "        else:\n",
    "            pass\n",
    "\n",
    "        return\n",
    "\n",
    "    def run_train(self):\n",
    "        print('Run train ...')\n",
    "\n",
    "        self.load_model()\n",
    "\n",
    "        for epoch in range(EPOCHS):\n",
    "            self.network.train()\n",
    "\n",
    "            for features, label in self.train_loader:\n",
    "                # Reset gradients\n",
    "                self.optimizer.zero_grad()\n",
    "\n",
    "                output = self.network(features)\n",
    "                # Calculate error and backpropagate\n",
    "                loss = self.loss(output, label)\n",
    "\n",
    "                output = torch.sigmoid(output)\n",
    "\n",
    "                loss.backward()\n",
    "                acc = self.accuracy(output, label).item()\n",
    "\n",
    "                # Update weights with gradients\n",
    "                self.optimizer.step()\n",
    "\n",
    "                self.train_writer.add_scalar('CrossEntropyLoss', loss, self.step)\n",
    "                self.train_writer.add_scalar('Accuracy', acc, self.step)\n",
    "\n",
    "                self.step += 1\n",
    "\n",
    "                if self.step % 50 == 0:\n",
    "                    print('EPOCH %d STEP %d : train_loss: %f train_acc: %f' %\n",
    "                          (epoch, self.step, loss.item(), acc))\n",
    "\n",
    "            # self.train_writer.add_histogram('hidden_layer', self.network.linear1.weight.data, self.step)\n",
    "\n",
    "            # Run validation\n",
    "            #TODO\n",
    "\n",
    "        return"
   ]
  },
  {
   "cell_type": "code",
   "execution_count": null,
   "metadata": {},
   "outputs": [],
   "source": [
    "deep_fm = DeepFM()\n",
    "deep_fm.run_train()"
   ]
  }
 ],
 "metadata": {
  "kernelspec": {
   "display_name": "Python 3",
   "language": "python",
   "name": "python3"
  },
  "language_info": {
   "codemirror_mode": {
    "name": "ipython",
    "version": 3
   },
   "file_extension": ".py",
   "mimetype": "text/x-python",
   "name": "python",
   "nbconvert_exporter": "python",
   "pygments_lexer": "ipython3",
   "version": "3.8.5"
  }
 },
 "nbformat": 4,
 "nbformat_minor": 4
}
