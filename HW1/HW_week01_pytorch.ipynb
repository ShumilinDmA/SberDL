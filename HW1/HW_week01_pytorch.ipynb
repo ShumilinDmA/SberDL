{
 "cells": [
  {
   "cell_type": "markdown",
   "metadata": {
    "id": "kBXPhHqPuwQS"
   },
   "source": [
    "# Домашнее задание."
   ]
  },
  {
   "cell_type": "markdown",
   "metadata": {
    "id": "kP0iOkcGuwQZ"
   },
   "source": [
    "Нужно обучить нейронную сеть, точность классификация должна быть не меньше 64%. Как это можно получить:\n",
    "\n",
    "1. Посмотрите на данные, характеристики.\n",
    "2. Попробуйте менять гиперпараметры сети.\n",
    "3. Обратите внимание на саму архитектуру сети.\n",
    "4. Сделайте подсчет точности на валидационной выборке не через DataLoader."
   ]
  },
  {
   "cell_type": "code",
   "execution_count": 4,
   "metadata": {
    "id": "4S0aUeSiu1sV"
   },
   "outputs": [],
   "source": [
    "import os\n",
    "import numpy as np\n",
    "import pandas as pd\n",
    "import random\n",
    "from sklearn.model_selection import train_test_split\n",
    "import matplotlib.pyplot as plt\n",
    "\n",
    "import torch\n",
    "import torch.nn as nn\n",
    "import torch.nn.functional as F \n",
    "import torch.optim as optim\n",
    "import torch.utils.data as data_utils"
   ]
  },
  {
   "cell_type": "code",
   "execution_count": 5,
   "metadata": {
    "id": "_hq5OVcMxTte"
   },
   "outputs": [],
   "source": [
    "# Fix all seeds\n",
    "\n",
    "SEED = 42\n",
    "DEVICE = 'cuda' if torch.cuda.is_available() else 'cpu'\n",
    "\n",
    "random.seed(SEED)\n",
    "np.random.seed(SEED)\n",
    "torch.manual_seed(SEED)\n",
    "torch.cuda.manual_seed(SEED)\n",
    "torch.backends.cudnn.deterministic = True"
   ]
  },
  {
   "cell_type": "code",
   "execution_count": 6,
   "metadata": {
    "colab": {
     "base_uri": "https://localhost:8080/",
     "height": 275
    },
    "id": "341-Tnk0vMaB",
    "outputId": "91c0903a-c747-4302-b5bb-2e63a6834968"
   },
   "outputs": [
    {
     "name": "stdout",
     "output_type": "stream",
     "text": [
      "(26729, 37)\n"
     ]
    },
    {
     "data": {
      "text/html": [
       "<div>\n",
       "<style scoped>\n",
       "    .dataframe tbody tr th:only-of-type {\n",
       "        vertical-align: middle;\n",
       "    }\n",
       "\n",
       "    .dataframe tbody tr th {\n",
       "        vertical-align: top;\n",
       "    }\n",
       "\n",
       "    .dataframe thead th {\n",
       "        text-align: right;\n",
       "    }\n",
       "</style>\n",
       "<table border=\"1\" class=\"dataframe\">\n",
       "  <thead>\n",
       "    <tr style=\"text-align: right;\">\n",
       "      <th></th>\n",
       "      <th>IsDog</th>\n",
       "      <th>Age</th>\n",
       "      <th>HasName</th>\n",
       "      <th>NameLength</th>\n",
       "      <th>NameFreq</th>\n",
       "      <th>MixColor</th>\n",
       "      <th>ColorFreqAsIs</th>\n",
       "      <th>ColorFreqBase</th>\n",
       "      <th>TabbyColor</th>\n",
       "      <th>MixBreed</th>\n",
       "      <th>...</th>\n",
       "      <th>SexStatus_Flawed</th>\n",
       "      <th>SexStatus_Intact</th>\n",
       "      <th>SexStatus_Unknown</th>\n",
       "      <th>Weekday_0</th>\n",
       "      <th>Weekday_1</th>\n",
       "      <th>Weekday_2</th>\n",
       "      <th>Weekday_3</th>\n",
       "      <th>Weekday_4</th>\n",
       "      <th>Weekday_5</th>\n",
       "      <th>Weekday_6</th>\n",
       "    </tr>\n",
       "  </thead>\n",
       "  <tbody>\n",
       "    <tr>\n",
       "      <th>0</th>\n",
       "      <td>1</td>\n",
       "      <td>365.0</td>\n",
       "      <td>1</td>\n",
       "      <td>7</td>\n",
       "      <td>0.000157</td>\n",
       "      <td>1</td>\n",
       "      <td>0.032919</td>\n",
       "      <td>0.463624</td>\n",
       "      <td>0</td>\n",
       "      <td>1</td>\n",
       "      <td>...</td>\n",
       "      <td>1</td>\n",
       "      <td>0</td>\n",
       "      <td>0</td>\n",
       "      <td>0</td>\n",
       "      <td>0</td>\n",
       "      <td>1</td>\n",
       "      <td>0</td>\n",
       "      <td>0</td>\n",
       "      <td>0</td>\n",
       "      <td>0</td>\n",
       "    </tr>\n",
       "    <tr>\n",
       "      <th>1</th>\n",
       "      <td>0</td>\n",
       "      <td>365.0</td>\n",
       "      <td>1</td>\n",
       "      <td>5</td>\n",
       "      <td>0.000655</td>\n",
       "      <td>0</td>\n",
       "      <td>0.008092</td>\n",
       "      <td>0.015005</td>\n",
       "      <td>1</td>\n",
       "      <td>1</td>\n",
       "      <td>...</td>\n",
       "      <td>1</td>\n",
       "      <td>0</td>\n",
       "      <td>0</td>\n",
       "      <td>0</td>\n",
       "      <td>0</td>\n",
       "      <td>0</td>\n",
       "      <td>0</td>\n",
       "      <td>0</td>\n",
       "      <td>0</td>\n",
       "      <td>1</td>\n",
       "    </tr>\n",
       "    <tr>\n",
       "      <th>2</th>\n",
       "      <td>1</td>\n",
       "      <td>730.0</td>\n",
       "      <td>1</td>\n",
       "      <td>6</td>\n",
       "      <td>0.000052</td>\n",
       "      <td>1</td>\n",
       "      <td>0.026293</td>\n",
       "      <td>0.357521</td>\n",
       "      <td>0</td>\n",
       "      <td>1</td>\n",
       "      <td>...</td>\n",
       "      <td>1</td>\n",
       "      <td>0</td>\n",
       "      <td>0</td>\n",
       "      <td>0</td>\n",
       "      <td>0</td>\n",
       "      <td>0</td>\n",
       "      <td>0</td>\n",
       "      <td>0</td>\n",
       "      <td>1</td>\n",
       "      <td>0</td>\n",
       "    </tr>\n",
       "    <tr>\n",
       "      <th>3</th>\n",
       "      <td>0</td>\n",
       "      <td>21.0</td>\n",
       "      <td>0</td>\n",
       "      <td>7</td>\n",
       "      <td>0.285871</td>\n",
       "      <td>0</td>\n",
       "      <td>0.000471</td>\n",
       "      <td>0.058418</td>\n",
       "      <td>0</td>\n",
       "      <td>1</td>\n",
       "      <td>...</td>\n",
       "      <td>0</td>\n",
       "      <td>1</td>\n",
       "      <td>0</td>\n",
       "      <td>0</td>\n",
       "      <td>0</td>\n",
       "      <td>0</td>\n",
       "      <td>0</td>\n",
       "      <td>1</td>\n",
       "      <td>0</td>\n",
       "      <td>0</td>\n",
       "    </tr>\n",
       "    <tr>\n",
       "      <th>4</th>\n",
       "      <td>1</td>\n",
       "      <td>730.0</td>\n",
       "      <td>0</td>\n",
       "      <td>7</td>\n",
       "      <td>0.285871</td>\n",
       "      <td>0</td>\n",
       "      <td>0.023831</td>\n",
       "      <td>0.075353</td>\n",
       "      <td>0</td>\n",
       "      <td>0</td>\n",
       "      <td>...</td>\n",
       "      <td>1</td>\n",
       "      <td>0</td>\n",
       "      <td>0</td>\n",
       "      <td>0</td>\n",
       "      <td>0</td>\n",
       "      <td>0</td>\n",
       "      <td>0</td>\n",
       "      <td>1</td>\n",
       "      <td>0</td>\n",
       "      <td>0</td>\n",
       "    </tr>\n",
       "  </tbody>\n",
       "</table>\n",
       "<p>5 rows × 37 columns</p>\n",
       "</div>"
      ],
      "text/plain": [
       "   IsDog    Age  HasName  NameLength  NameFreq  MixColor  ColorFreqAsIs  \\\n",
       "0      1  365.0        1           7  0.000157         1       0.032919   \n",
       "1      0  365.0        1           5  0.000655         0       0.008092   \n",
       "2      1  730.0        1           6  0.000052         1       0.026293   \n",
       "3      0   21.0        0           7  0.285871         0       0.000471   \n",
       "4      1  730.0        0           7  0.285871         0       0.023831   \n",
       "\n",
       "   ColorFreqBase  TabbyColor  MixBreed  ...  SexStatus_Flawed  \\\n",
       "0       0.463624           0         1  ...                 1   \n",
       "1       0.015005           1         1  ...                 1   \n",
       "2       0.357521           0         1  ...                 1   \n",
       "3       0.058418           0         1  ...                 0   \n",
       "4       0.075353           0         0  ...                 1   \n",
       "\n",
       "   SexStatus_Intact  SexStatus_Unknown  Weekday_0  Weekday_1  Weekday_2  \\\n",
       "0                 0                  0          0          0          1   \n",
       "1                 0                  0          0          0          0   \n",
       "2                 0                  0          0          0          0   \n",
       "3                 1                  0          0          0          0   \n",
       "4                 0                  0          0          0          0   \n",
       "\n",
       "   Weekday_3  Weekday_4  Weekday_5  Weekday_6  \n",
       "0          0          0          0          0  \n",
       "1          0          0          0          1  \n",
       "2          0          0          1          0  \n",
       "3          0          1          0          0  \n",
       "4          0          1          0          0  \n",
       "\n",
       "[5 rows x 37 columns]"
      ]
     },
     "execution_count": 6,
     "metadata": {},
     "output_type": "execute_result"
    }
   ],
   "source": [
    "x_path = os.path.join(os.path.abspath(os.path.join(\".\", os.pardir)), \"data/X_cat.csv\")\n",
    "y_path = os.path.join(os.path.abspath(os.path.join(\".\", os.pardir)), \"data/y_cat.csv\")\n",
    "\n",
    "X = pd.read_csv(x_path, sep = '\\t', index_col=0)\n",
    "target = pd.read_csv(y_path, sep = '\\t', index_col=0, names=['status'])\n",
    "\n",
    "print(X.shape)\n",
    "X.head()"
   ]
  },
  {
   "cell_type": "code",
   "execution_count": 34,
   "metadata": {
    "id": "4Lg5dWl6vocn"
   },
   "outputs": [],
   "source": [
    "target = target.iloc[:, :]\n",
    "target[target == 'Died'] = 'Euthanasia'"
   ]
  },
  {
   "cell_type": "markdown",
   "metadata": {
    "id": "it0mnmWwDT-c"
   },
   "source": [
    "#### Small preprocessing step"
   ]
  },
  {
   "cell_type": "code",
   "execution_count": 35,
   "metadata": {
    "id": "zcQbt5u9vYA2"
   },
   "outputs": [],
   "source": [
    "numerical_features = ['Age', 'NameLength', 'NameFreq', 'ColorFreqAsIs', 'ColorFreqBase', 'Hour'] \n",
    "not_binary_categorical = ['Year', 'Month', 'Day', ] # To make this categories between 0 and 1 labels"
   ]
  },
  {
   "cell_type": "code",
   "execution_count": 36,
   "metadata": {
    "colab": {
     "base_uri": "https://localhost:8080/"
    },
    "id": "FxWvIVoOwrqX",
    "outputId": "d3dfb292-b593-41f9-92b6-033d1e620f62"
   },
   "outputs": [
    {
     "name": "stderr",
     "output_type": "stream",
     "text": [
      "/usr/local/lib/python3.7/dist-packages/sklearn/preprocessing/_label.py:251: DataConversionWarning: A column-vector y was passed when a 1d array was expected. Please change the shape of y to (n_samples, ), for example using ravel().\n",
      "  y = column_or_1d(y, warn=True)\n"
     ]
    }
   ],
   "source": [
    "from sklearn.preprocessing import LabelEncoder, StandardScaler\n",
    "from sklearn.metrics import accuracy_score\n",
    "encoder = LabelEncoder()\n",
    "scaler = StandardScaler()\n",
    "\n",
    "y = encoder.fit_transform(target)\n",
    "X[numerical_features+not_binary_categorical] = scaler.fit_transform(X[numerical_features+not_binary_categorical])"
   ]
  },
  {
   "cell_type": "code",
   "execution_count": 37,
   "metadata": {
    "id": "ipWyLvVYxuH3"
   },
   "outputs": [],
   "source": [
    "X_train, X_test, y_train, y_test = train_test_split(X.to_numpy(), y, test_size=0.2, stratify = y, random_state = SEED)"
   ]
  },
  {
   "cell_type": "markdown",
   "metadata": {
    "id": "wEt9VGSEyLoD"
   },
   "source": [
    "#### Creating loaders"
   ]
  },
  {
   "cell_type": "code",
   "execution_count": 38,
   "metadata": {
    "id": "e7t1FMvp-IhY"
   },
   "outputs": [],
   "source": [
    "BATCH_SIZE = 256\n",
    "EPOCHES = 50\n",
    "\n",
    "\n",
    "HIDDEN_SIZE = 25\n",
    "NUM_CLASSES = 4\n",
    "INPUT_SIZE = 37\n",
    "\n",
    "LEARNING_RATE = 1e-3"
   ]
  },
  {
   "cell_type": "code",
   "execution_count": 39,
   "metadata": {
    "id": "XDZMrO71yJ1r"
   },
   "outputs": [],
   "source": [
    "train_dataset = data_utils.TensorDataset(torch.tensor(X_train.astype(np.float32)), torch.tensor(y_train))\n",
    "test_dataset = data_utils.TensorDataset(torch.tensor(X_test.astype(np.float32)), torch.tensor(y_test))\n",
    "\n",
    "train_loader = data_utils.DataLoader(dataset=train_dataset,\n",
    "                                     batch_size=BATCH_SIZE,\n",
    "                                     shuffle=True)\n",
    "\n",
    "test_loader = data_utils.DataLoader(dataset=test_dataset,\n",
    "                                     batch_size=BATCH_SIZE,\n",
    "                                     shuffle=False)\n",
    "\n",
    "loaders = {'train':train_loader, 'test':test_loader}"
   ]
  },
  {
   "cell_type": "markdown",
   "metadata": {
    "id": "6x42I3AaDb0a"
   },
   "source": [
    "#### Defining a model"
   ]
  },
  {
   "cell_type": "code",
   "execution_count": 40,
   "metadata": {
    "id": "35Zbj52a4bta"
   },
   "outputs": [],
   "source": [
    "class SimpleNN(nn.Module):\n",
    "    def __init__(self, input_size, hidden_size, num_classes):\n",
    "        super(SimpleNN, self).__init__()\n",
    "\n",
    "        self.fc_1 = nn.Linear(in_features=input_size, out_features=hidden_size)\n",
    "        self.fc_2 = nn.Linear(in_features=hidden_size, out_features=hidden_size)\n",
    "        self.output = nn.Linear(in_features=hidden_size, out_features=num_classes)\n",
    "    \n",
    "    def forward(self, inputs):\n",
    "        x = self.fc_1(inputs)\n",
    "        x = F.relu(x)\n",
    "        x = self.fc_2(x)\n",
    "        x = F.relu(x)\n",
    "        x = self.output(x)\n",
    "        return x"
   ]
  },
  {
   "cell_type": "code",
   "execution_count": 51,
   "metadata": {
    "id": "8N2p0ypi59iC"
   },
   "outputs": [],
   "source": [
    "model = SimpleNN(input_size=INPUT_SIZE,\n",
    "                 hidden_size=HIDDEN_SIZE,\n",
    "                 num_classes=NUM_CLASSES)\n",
    "\n",
    "model = model.to(DEVICE)\n",
    "\n",
    "criterion = nn.CrossEntropyLoss()\n",
    "optimizer = optim.Adam(model.parameters(), lr=LEARNING_RATE)"
   ]
  },
  {
   "cell_type": "markdown",
   "metadata": {
    "id": "buYEIBh4DhzU"
   },
   "source": [
    "#### Training"
   ]
  },
  {
   "cell_type": "code",
   "execution_count": 52,
   "metadata": {
    "colab": {
     "base_uri": "https://localhost:8080/"
    },
    "id": "W8EPtQ9S7nNA",
    "outputId": "5f8b3824-025d-4685-ce9d-62fd95afe875"
   },
   "outputs": [
    {
     "name": "stdout",
     "output_type": "stream",
     "text": [
      "Epoch: 0, Train loss: 101.2632,     Valid loss: 21.8476, Valid Accuracy: 0.5632248410026188\n",
      "Epoch: 1, Train loss: 79.6231,     Valid loss: 18.8912, Valid Accuracy: 0.6352413019079686\n",
      "Epoch: 2, Train loss: 73.3369,     Valid loss: 18.4116, Valid Accuracy: 0.6389824167601945\n",
      "Epoch: 3, Train loss: 71.916,     Valid loss: 18.2572, Valid Accuracy: 0.644968200523756\n",
      "Epoch: 4, Train loss: 71.1421,     Valid loss: 18.0446, Valid Accuracy: 0.6462775907220352\n",
      "Epoch: 5, Train loss: 70.4666,     Valid loss: 17.8762, Valid Accuracy: 0.6537598204264871\n",
      "Epoch: 6, Train loss: 69.8264,     Valid loss: 17.746, Valid Accuracy: 0.6586232697343809\n",
      "Epoch: 7, Train loss: 69.329,     Valid loss: 17.721, Valid Accuracy: 0.6612420501309391\n",
      "Epoch: 8, Train loss: 68.9656,     Valid loss: 17.6071, Valid Accuracy: 0.657500935278713\n",
      "Epoch: 9, Train loss: 68.5083,     Valid loss: 17.5499, Valid Accuracy: 0.6625514403292181\n",
      "Epoch: 10, Train loss: 68.352,     Valid loss: 17.4823, Valid Accuracy: 0.6608679386457165\n",
      "Epoch: 11, Train loss: 67.9723,     Valid loss: 17.4259, Valid Accuracy: 0.6606808829031051\n",
      "Epoch: 12, Train loss: 67.691,     Valid loss: 17.3879, Valid Accuracy: 0.6653572764683876\n",
      "Epoch: 13, Train loss: 67.5317,     Valid loss: 17.3097, Valid Accuracy: 0.6621773288439955\n",
      "Epoch: 14, Train loss: 67.2506,     Valid loss: 17.336, Valid Accuracy: 0.6657313879536102\n",
      "Epoch: 15, Train loss: 67.0916,     Valid loss: 17.2706, Valid Accuracy: 0.6647961092405537\n",
      "Epoch: 16, Train loss: 66.9585,     Valid loss: 17.2099, Valid Accuracy: 0.6619902731013843\n",
      "Epoch: 17, Train loss: 66.6578,     Valid loss: 17.2063, Valid Accuracy: 0.6623643845866068\n",
      "Epoch: 18, Train loss: 66.521,     Valid loss: 17.1216, Valid Accuracy: 0.6627384960718294\n",
      "Epoch: 19, Train loss: 66.3919,     Valid loss: 17.0961, Valid Accuracy: 0.6618032173587729\n",
      "Epoch: 20, Train loss: 66.1752,     Valid loss: 17.1022, Valid Accuracy: 0.6627384960718294\n",
      "Epoch: 21, Train loss: 66.1301,     Valid loss: 17.0168, Valid Accuracy: 0.6621773288439955\n",
      "Epoch: 22, Train loss: 65.831,     Valid loss: 17.0862, Valid Accuracy: 0.664983164983165\n",
      "Epoch: 23, Train loss: 65.7191,     Valid loss: 16.9887, Valid Accuracy: 0.6659184436962214\n",
      "Epoch: 24, Train loss: 65.5883,     Valid loss: 16.9314, Valid Accuracy: 0.6644219977553311\n",
      "Epoch: 25, Train loss: 65.4396,     Valid loss: 16.9549, Valid Accuracy: 0.666292555181444\n",
      "Epoch: 26, Train loss: 65.3171,     Valid loss: 16.9146, Valid Accuracy: 0.6670407781518892\n",
      "Epoch: 27, Train loss: 65.1857,     Valid loss: 16.8852, Valid Accuracy: 0.6661054994388328\n",
      "Epoch: 28, Train loss: 65.0652,     Valid loss: 16.882, Valid Accuracy: 0.6694725028058361\n",
      "Epoch: 29, Train loss: 64.9062,     Valid loss: 16.8776, Valid Accuracy: 0.6702207257762813\n",
      "Epoch: 30, Train loss: 64.9068,     Valid loss: 16.8632, Valid Accuracy: 0.6677890011223344\n",
      "Epoch: 31, Train loss: 64.7878,     Valid loss: 16.8351, Valid Accuracy: 0.6704077815188926\n",
      "Epoch: 32, Train loss: 64.6607,     Valid loss: 16.8504, Valid Accuracy: 0.668163112607557\n",
      "Epoch: 33, Train loss: 64.6952,     Valid loss: 16.8022, Valid Accuracy: 0.6741488963711186\n",
      "Epoch: 34, Train loss: 64.5987,     Valid loss: 16.8548, Valid Accuracy: 0.67003367003367\n",
      "Epoch: 35, Train loss: 64.4566,     Valid loss: 16.8373, Valid Accuracy: 0.6728395061728395\n",
      "Epoch: 36, Train loss: 64.4417,     Valid loss: 16.7686, Valid Accuracy: 0.6694725028058361\n",
      "Epoch: 37, Train loss: 64.3599,     Valid loss: 16.7615, Valid Accuracy: 0.6707818930041153\n",
      "Epoch: 38, Train loss: 64.3059,     Valid loss: 16.7674, Valid Accuracy: 0.6709689487467265\n",
      "Epoch: 39, Train loss: 64.2479,     Valid loss: 16.784, Valid Accuracy: 0.6702207257762813\n",
      "Epoch: 40, Train loss: 64.1617,     Valid loss: 16.8029, Valid Accuracy: 0.6748971193415638\n",
      "Epoch: 41, Train loss: 64.1468,     Valid loss: 16.7952, Valid Accuracy: 0.6734006734006734\n",
      "Epoch: 42, Train loss: 64.042,     Valid loss: 16.751, Valid Accuracy: 0.6750841750841751\n",
      "Epoch: 43, Train loss: 64.1149,     Valid loss: 16.8174, Valid Accuracy: 0.6707818930041153\n",
      "Epoch: 44, Train loss: 64.002,     Valid loss: 16.8494, Valid Accuracy: 0.6661054994388328\n",
      "Epoch: 45, Train loss: 64.0349,     Valid loss: 16.7679, Valid Accuracy: 0.6702207257762813\n",
      "Epoch: 46, Train loss: 63.8828,     Valid loss: 16.7536, Valid Accuracy: 0.6707818930041153\n",
      "Epoch: 47, Train loss: 63.8218,     Valid loss: 16.7649, Valid Accuracy: 0.6719042274597831\n",
      "Epoch: 48, Train loss: 63.8712,     Valid loss: 16.7683, Valid Accuracy: 0.6715301159745605\n",
      "Epoch: 49, Train loss: 63.7171,     Valid loss: 16.7861, Valid Accuracy: 0.6734006734006734\n"
     ]
    }
   ],
   "source": [
    "history = {'train_loss': [], 'test_loss': []}\n",
    "for epoch in range(EPOCHES):\n",
    "    train_loss = 0\n",
    "    test_loss = 0\n",
    "    test_predict = np.random.rand(NUM_CLASSES)\n",
    "    for mode, data_loader in loaders.items():\n",
    "        for X_data, y_data in data_loader:\n",
    "            X_data, y_data = X_data.to(DEVICE), y_data.to(DEVICE)\n",
    "            if mode == 'train':\n",
    "                model.train()\n",
    "                optimizer.zero_grad()\n",
    "                output = model(X_data)\n",
    "                loss = criterion(output, y_data)\n",
    "                loss.backward()\n",
    "                optimizer.step()\n",
    "                train_loss += loss.item()\n",
    "            else:\n",
    "                model.eval()\n",
    "                with torch.no_grad():\n",
    "                    output = model(X_data)\n",
    "                    loss = criterion(output, y_data)\n",
    "                    test_loss += loss.item()\n",
    "                    output = output.cpu()\n",
    "                    test_predict = np.vstack((test_predict, output))\n",
    "    \n",
    "    history['train_loss'].append(train_loss)\n",
    "    history['test_loss'].append(test_loss)\n",
    "    test_predict = np.argmax(test_predict, axis=-1)\n",
    "    test_accuracy = accuracy_score(y_test, test_predict[1:])\n",
    "    print(f'Epoch: {epoch}, Train loss: {round(train_loss, 4)},\\\n",
    "     Valid loss: {round(test_loss, 4)}, Valid Accuracy: {test_accuracy}')"
   ]
  },
  {
   "cell_type": "code",
   "execution_count": 56,
   "metadata": {
    "colab": {
     "base_uri": "https://localhost:8080/",
     "height": 265
    },
    "id": "5kdhy58BG3fz",
    "outputId": "4437dda4-3134-443e-b3d2-0e62733852df"
   },
   "outputs": [
    {
     "data": {
      "image/png": "[encoded data removed]",
      "text/plain": [
       "<Figure size 432x288 with 1 Axes>"
      ]
     },
     "metadata": {
      "needs_background": "light",
      "tags": []
     },
     "output_type": "display_data"
    }
   ],
   "source": [
    "plt.plot(history['train_loss'], label='train_loss')\n",
    "plt.plot(history['test_loss'], label='test_loss')\n",
    "plt.legend();"
   ]
  },
  {
   "cell_type": "markdown",
   "metadata": {
    "id": "VWKoafX3Dl0b"
   },
   "source": [
    "#### Verification of Accuracy without DataLoader"
   ]
  },
  {
   "cell_type": "code",
   "execution_count": 49,
   "metadata": {
    "colab": {
     "base_uri": "https://localhost:8080/"
    },
    "id": "FL_UoEsqBIJM",
    "outputId": "e54b735d-4d62-48df-d018-896bfc92e0b7"
   },
   "outputs": [
    {
     "name": "stdout",
     "output_type": "stream",
     "text": [
      "Received accuracy without DataLoader 0.6623643845866068\n"
     ]
    }
   ],
   "source": [
    "X_verify = torch.Tensor(X_test)\n",
    "y_verify = torch.LongTensor(y_test)\n",
    "\n",
    "model.eval()\n",
    "with torch.no_grad():\n",
    "    logits = model(X_verify.to(DEVICE))\n",
    "    predict = torch.argmax(logits, dim=-1)\n",
    "    accuracy = accuracy_score(y_verify, predict.cpu())\n",
    "print(f'Received accuracy without DataLoader {accuracy}')"
   ]
  },
  {
   "cell_type": "markdown",
   "metadata": {
    "id": "o_ysLg5JuwQZ"
   },
   "source": [
    "## GitHub"
   ]
  },
  {
   "cell_type": "markdown",
   "metadata": {
    "id": "MFicEp5auwQa"
   },
   "source": [
    "1. Создайте private репозиторий на GitHub \n",
    "2. Сделайте push кода в удаленный репозиторий\n",
    "3. Добавьте Firyuza и solovyshka в качестве reviewers"
   ]
  },
  {
   "cell_type": "markdown",
   "metadata": {
    "id": "OW4l04GfCY-S"
   },
   "source": [
    "Done! =)"
   ]
  },
  {
   "cell_type": "code",
   "execution_count": null,
   "metadata": {
    "id": "74koRIqhCbY3"
   },
   "outputs": [],
   "source": []
  }
 ],
 "metadata": {
  "accelerator": "GPU",
  "colab": {
   "collapsed_sections": [],
   "name": "HW_week01_pytorch.ipynb",
   "provenance": [],
   "toc_visible": true
  },
  "kernelspec": {
   "display_name": "Python 3",
   "language": "python",
   "name": "python3"
  },
  "language_info": {
   "codemirror_mode": {
    "name": "ipython",
    "version": 3
   },
   "file_extension": ".py",
   "mimetype": "text/x-python",
   "name": "python",
   "nbconvert_exporter": "python",
   "pygments_lexer": "ipython3",
   "version": "3.8.5"
  }
 },
 "nbformat": 4,
 "nbformat_minor": 1
}
