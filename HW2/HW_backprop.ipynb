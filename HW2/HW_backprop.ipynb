{
  "nbformat": 4,
  "nbformat_minor": 0,
  "metadata": {
    "kernelspec": {
      "display_name": "Python 3",
      "language": "python",
      "name": "python3"
    },
    "language_info": {
      "codemirror_mode": {
        "name": "ipython",
        "version": 3
      },
      "file_extension": ".py",
      "mimetype": "text/x-python",
      "name": "python",
      "nbconvert_exporter": "python",
      "pygments_lexer": "ipython3",
      "version": "3.8.5"
    },
    "colab": {
      "name": "HW_backprop.ipynb",
      "provenance": [],
      "collapsed_sections": []
    }
  },
  "cells": [
    {
      "cell_type": "markdown",
      "metadata": {
        "id": "XSwlrdAUa0ys"
      },
      "source": [
        "# Домашние задание"
      ]
    },
    {
      "cell_type": "markdown",
      "metadata": {
        "id": "Y3YRReTca0y8"
      },
      "source": [
        "1. Добавить Bias и посчитать для них градиенты.\n",
        "2. Сравнить градинеты с тем, как считает PyTorch AutoGrad."
      ]
    },
    {
      "cell_type": "markdown",
      "metadata": {
        "id": "epCE9naTdo5o"
      },
      "source": [
        "Решение 1: Добавить столбец единиц к матрице признаков и получить градиенты по последним индексам в весах. Код для вычисления градиентов не меняется абсолютно, только препроцессинг данных.\n",
        "\n",
        "Решение 2: Посчитать все руками. Это решение приведено ниже."
      ]
    },
    {
      "cell_type": "code",
      "metadata": {
        "id": "Lq-QD4GVa0y9"
      },
      "source": [
        "import numpy as np\n",
        "import torch"
      ],
      "execution_count": 1,
      "outputs": []
    },
    {
      "cell_type": "code",
      "metadata": {
        "id": "QE89D-jubYKx"
      },
      "source": [
        "dtype = torch.float\n",
        "HARDWARE = 'cuda' if torch.cuda.is_available() else 'cpu'\n",
        "DEVICE = torch.device(HARDWARE)"
      ],
      "execution_count": 2,
      "outputs": []
    },
    {
      "cell_type": "code",
      "metadata": {
        "id": "PTq523BIbY-b"
      },
      "source": [
        "batch_size = 64\n",
        "input_size = 3\n",
        "hidden_size = 2\n",
        "output_size = 1"
      ],
      "execution_count": 3,
      "outputs": []
    },
    {
      "cell_type": "code",
      "metadata": {
        "colab": {
          "base_uri": "https://localhost:8080/"
        },
        "id": "fYUeFay5b27o",
        "outputId": "2cc418c4-717a-4054-a6f0-1b38582b0c44"
      },
      "source": [
        "# Create random input and output data\n",
        "x = torch.randn(batch_size, input_size, device=DEVICE, dtype=dtype)\n",
        "y = torch.randn(batch_size, output_size, device=DEVICE, dtype=dtype)\n",
        "\n",
        "# Randomly initialized weights\n",
        "w1 = torch.randn(input_size, hidden_size, device=DEVICE, dtype=dtype, requires_grad=True)\n",
        "w2 = torch.randn(hidden_size, output_size, device=DEVICE, dtype=dtype, requires_grad=True)\n",
        "\n",
        "# Randomly initialized biases\n",
        "b1 = torch.randn(hidden_size, device=DEVICE, dtype=dtype, requires_grad=True)\n",
        "b2 = torch.randn(output_size, device=DEVICE, dtype=dtype, requires_grad=True)\n",
        "\n",
        "# Check that it works\n",
        "hidden_1 = torch.mm(x, w1) + b1\n",
        "hidden_relu = torch.clamp_min(hidden_1, 0)\n",
        "output = torch.mm(hidden_relu, w2) + b2\n",
        "\n",
        "# Compute loss\n",
        "loss = (output - y).pow(2).sum().item()\n",
        "print(loss)"
      ],
      "execution_count": 4,
      "outputs": [
        {
          "output_type": "stream",
          "text": [
            "105.85748291015625\n"
          ],
          "name": "stdout"
        }
      ]
    },
    {
      "cell_type": "code",
      "metadata": {
        "id": "gQiOM0kfhySO"
      },
      "source": [
        "### Gradient flow\n",
        "s = 2 * (output - y)\n",
        "grad_w2 = torch.mm(s.T, hidden_relu)\n",
        "grad_b2 = s.sum()\n",
        "grad_relu = torch.mm(s, w2.T)\n",
        "grad_relu[hidden_relu<=0] = 0\n",
        "grad_w1 = torch.mm(x.T, grad_relu)\n",
        "grad_b1 = grad_relu.sum(dim=0)"
      ],
      "execution_count": 5,
      "outputs": []
    },
    {
      "cell_type": "code",
      "metadata": {
        "colab": {
          "base_uri": "https://localhost:8080/"
        },
        "id": "0lK_CsBqiKgH",
        "outputId": "194443e9-ad69-4659-884c-4dd4fe9d62a1"
      },
      "source": [
        "learning_rate = 1e-6\n",
        "for t in range(500):\n",
        "\n",
        "    ### Forward pass \n",
        "    hidden_1 = torch.mm(x, w1) + b1\n",
        "    hidden_relu = torch.clamp_min(hidden_1, 0)\n",
        "    output = torch.mm(hidden_relu, w2) + b2\n",
        "\n",
        "    loss = (output - y).pow(2).sum()\n",
        "    loss.backward()\n",
        "    # if t % 100 == 99:\n",
        "    #     print(t, loss.item())\n",
        "    \n",
        "    ### Check autograd values:\n",
        "    auto_w1 = torch.norm(w1.grad)\n",
        "    auto_w2 = torch.norm(w2.grad)\n",
        "    auto_b1 = torch.norm(b1.grad)\n",
        "    auto_b2 = torch.norm(b2.grad)\n",
        "\n",
        "    ### Backward pass\n",
        "    s = 2 * (output - y)\n",
        "    grad_w2 = torch.mm(hidden_relu.T, s)\n",
        "    grad_b2 = s.sum()\n",
        "    grad_relu = torch.mm(s, w2.T)\n",
        "    grad_relu[hidden_relu<=0] = 0\n",
        "    grad_w1 = torch.mm(x.T, grad_relu)\n",
        "    grad_b1 = grad_relu.sum(dim=0)\n",
        "\n",
        "    ### Check my grad values:\n",
        "    my_w2 = torch.norm(grad_w2)\n",
        "    my_w1 = torch.norm(grad_w1)\n",
        "    my_b1 = torch.norm(grad_b1)\n",
        "    my_b2 = torch.norm(grad_b2)\n",
        "   \n",
        "    # Обновляем значение весов, но укзаываем, чтобы PyTorch не считал эту операцию, \n",
        "    # которая бы учавствовала бы при подсчете градиентов в chain rule\n",
        "    with torch.no_grad():\n",
        "        w1 -= learning_rate * grad_w1\n",
        "        w2 -= learning_rate * grad_w2\n",
        "        b1 -= learning_rate * grad_b1\n",
        "        b2 -= learning_rate * grad_b2\n",
        "\n",
        "        w1.grad.zero_()\n",
        "        w2.grad.zero_()\n",
        "        b1.grad.zero_()\n",
        "        b2.grad.zero_()\n",
        "\n",
        "    if t % 100 == 99:\n",
        "        print(f'Iter: {t}, Loss: {loss.item()}')\n",
        "        print(f'W1: {my_w1}:{auto_w1}, W2: {my_w2}:{auto_w2}')\n",
        "        print(f'b1: {my_b1}:{auto_b1}, W2: {my_b2}:{auto_b2}')"
      ],
      "execution_count": 9,
      "outputs": [
        {
          "output_type": "stream",
          "text": [
            "Iter: 99, Loss: 94.03270721435547\n",
            "W1: 46.97631072998047:46.97631072998047, W2: 103.0:102.5866470336914\n",
            "b1: 11.786527633666992:11.786527633666992, W2: 1.3186211585998535:1.3186211585998535\n",
            "Iter: 199, Loss: 92.79016876220703\n",
            "W1: 45.59490203857422:45.59490203857422, W2: 99.0:98.95589447021484\n",
            "b1: 10.796223640441895:10.796223640441895, W2: 0.05169105529785156:0.05169105529785156\n",
            "Iter: 299, Loss: 91.63225555419922\n",
            "W1: 44.28825759887695:44.28825759887695, W2: 95.0:95.48926544189453\n",
            "b1: 9.871001243591309:9.871001243591309, W2: 1.1476178169250488:1.1476178169250488\n",
            "Iter: 399, Loss: 90.5518798828125\n",
            "W1: 43.05105209350586:43.05105209350586, W2: 92.0:92.17737579345703\n",
            "b1: 9.006209373474121:9.006209373474121, W2: 2.2829675674438477:2.2829675674438477\n",
            "Iter: 499, Loss: 89.5426025390625\n",
            "W1: 41.878379821777344:41.878379821777344, W2: 89.0:89.01138305664062\n",
            "b1: 8.197602272033691:8.197602272033691, W2: 3.3577866554260254:3.3577866554260254\n"
          ],
          "name": "stdout"
        }
      ]
    },
    {
      "cell_type": "markdown",
      "metadata": {
        "id": "Yn9PA5DWnysk"
      },
      "source": [
        "Все отлично совпадает с вычисленными автоматически градиентами!"
      ]
    },
    {
      "cell_type": "code",
      "metadata": {
        "id": "swdQTEjZn5Ex"
      },
      "source": [
        ""
      ],
      "execution_count": null,
      "outputs": []
    }
  ]
}