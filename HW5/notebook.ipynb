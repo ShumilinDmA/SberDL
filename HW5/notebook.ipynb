{
 "cells": [
  {
   "cell_type": "code",
   "execution_count": 1,
   "id": "3d3e70fe",
   "metadata": {},
   "outputs": [],
   "source": [
    "import pandas as pd\n",
    "import os\n",
    "from dataset.datasets import CustomDataset\n",
    "from torch.utils.data import DataLoader\n",
    "from model.layers import DenseFeatureLayer, TransformerBlock"
   ]
  },
  {
   "cell_type": "code",
   "execution_count": 2,
   "id": "3672f4b1",
   "metadata": {},
   "outputs": [],
   "source": [
    "DATA_PATH = os.path.join(os.path.abspath(\".\"), \"data/encoded_dataset.csv\")"
   ]
  },
  {
   "cell_type": "code",
   "execution_count": 3,
   "id": "f9960113",
   "metadata": {},
   "outputs": [],
   "source": [
    "df = pd.read_csv(DATA_PATH)"
   ]
  },
  {
   "cell_type": "code",
   "execution_count": 4,
   "id": "736aef9f",
   "metadata": {},
   "outputs": [
    {
     "data": {
      "text/html": [
       "<div>\n",
       "<style scoped>\n",
       "    .dataframe tbody tr th:only-of-type {\n",
       "        vertical-align: middle;\n",
       "    }\n",
       "\n",
       "    .dataframe tbody tr th {\n",
       "        vertical-align: top;\n",
       "    }\n",
       "\n",
       "    .dataframe thead th {\n",
       "        text-align: right;\n",
       "    }\n",
       "</style>\n",
       "<table border=\"1\" class=\"dataframe\">\n",
       "  <thead>\n",
       "    <tr style=\"text-align: right;\">\n",
       "      <th></th>\n",
       "      <th>Unnamed: 0</th>\n",
       "      <th>workclass</th>\n",
       "      <th>education</th>\n",
       "      <th>education-num</th>\n",
       "      <th>marital-status</th>\n",
       "      <th>occupation</th>\n",
       "      <th>relationship</th>\n",
       "      <th>race</th>\n",
       "      <th>sex</th>\n",
       "      <th>capital-gain</th>\n",
       "      <th>salary</th>\n",
       "      <th>age_log</th>\n",
       "      <th>fnlwgt_log</th>\n",
       "      <th>capital_loss_log</th>\n",
       "      <th>hours_per_week_bins</th>\n",
       "      <th>native_country</th>\n",
       "    </tr>\n",
       "  </thead>\n",
       "  <tbody>\n",
       "    <tr>\n",
       "      <th>0</th>\n",
       "      <td>0</td>\n",
       "      <td>3</td>\n",
       "      <td>0</td>\n",
       "      <td>12.0</td>\n",
       "      <td>1</td>\n",
       "      <td>0</td>\n",
       "      <td>5</td>\n",
       "      <td>1</td>\n",
       "      <td>0</td>\n",
       "      <td>0</td>\n",
       "      <td>1</td>\n",
       "      <td>3.891820</td>\n",
       "      <td>11.526039</td>\n",
       "      <td>7.551187</td>\n",
       "      <td>2</td>\n",
       "      <td>1</td>\n",
       "    </tr>\n",
       "    <tr>\n",
       "      <th>1</th>\n",
       "      <td>1</td>\n",
       "      <td>3</td>\n",
       "      <td>4</td>\n",
       "      <td>14.0</td>\n",
       "      <td>0</td>\n",
       "      <td>3</td>\n",
       "      <td>1</td>\n",
       "      <td>1</td>\n",
       "      <td>1</td>\n",
       "      <td>10520</td>\n",
       "      <td>1</td>\n",
       "      <td>3.784190</td>\n",
       "      <td>12.374743</td>\n",
       "      <td>0.000000</td>\n",
       "      <td>3</td>\n",
       "      <td>1</td>\n",
       "    </tr>\n",
       "    <tr>\n",
       "      <th>2</th>\n",
       "      <td>2</td>\n",
       "      <td>3</td>\n",
       "      <td>3</td>\n",
       "      <td>10.0</td>\n",
       "      <td>0</td>\n",
       "      <td>0</td>\n",
       "      <td>4</td>\n",
       "      <td>0</td>\n",
       "      <td>0</td>\n",
       "      <td>0</td>\n",
       "      <td>0</td>\n",
       "      <td>3.637586</td>\n",
       "      <td>11.474029</td>\n",
       "      <td>0.000000</td>\n",
       "      <td>2</td>\n",
       "      <td>1</td>\n",
       "    </tr>\n",
       "    <tr>\n",
       "      <th>3</th>\n",
       "      <td>3</td>\n",
       "      <td>4</td>\n",
       "      <td>6</td>\n",
       "      <td>15.0</td>\n",
       "      <td>1</td>\n",
       "      <td>8</td>\n",
       "      <td>0</td>\n",
       "      <td>2</td>\n",
       "      <td>1</td>\n",
       "      <td>0</td>\n",
       "      <td>1</td>\n",
       "      <td>3.637586</td>\n",
       "      <td>11.633788</td>\n",
       "      <td>0.000000</td>\n",
       "      <td>2</td>\n",
       "      <td>1</td>\n",
       "    </tr>\n",
       "    <tr>\n",
       "      <th>4</th>\n",
       "      <td>4</td>\n",
       "      <td>5</td>\n",
       "      <td>7</td>\n",
       "      <td>10.0</td>\n",
       "      <td>1</td>\n",
       "      <td>7</td>\n",
       "      <td>5</td>\n",
       "      <td>0</td>\n",
       "      <td>0</td>\n",
       "      <td>0</td>\n",
       "      <td>0</td>\n",
       "      <td>3.737670</td>\n",
       "      <td>11.318090</td>\n",
       "      <td>0.000000</td>\n",
       "      <td>3</td>\n",
       "      <td>1</td>\n",
       "    </tr>\n",
       "  </tbody>\n",
       "</table>\n",
       "</div>"
      ],
      "text/plain": [
       "   Unnamed: 0  workclass  education  education-num  marital-status  \\\n",
       "0           0          3          0           12.0               1   \n",
       "1           1          3          4           14.0               0   \n",
       "2           2          3          3           10.0               0   \n",
       "3           3          4          6           15.0               1   \n",
       "4           4          5          7           10.0               1   \n",
       "\n",
       "   occupation  relationship  race  sex  capital-gain  salary   age_log  \\\n",
       "0           0             5     1    0             0       1  3.891820   \n",
       "1           3             1     1    1         10520       1  3.784190   \n",
       "2           0             4     0    0             0       0  3.637586   \n",
       "3           8             0     2    1             0       1  3.637586   \n",
       "4           7             5     0    0             0       0  3.737670   \n",
       "\n",
       "   fnlwgt_log  capital_loss_log  hours_per_week_bins  native_country  \n",
       "0   11.526039          7.551187                    2               1  \n",
       "1   12.374743          0.000000                    3               1  \n",
       "2   11.474029          0.000000                    2               1  \n",
       "3   11.633788          0.000000                    2               1  \n",
       "4   11.318090          0.000000                    3               1  "
      ]
     },
     "execution_count": 4,
     "metadata": {},
     "output_type": "execute_result"
    }
   ],
   "source": [
    "df.head()"
   ]
  },
  {
   "cell_type": "code",
   "execution_count": null,
   "id": "0c36a967",
   "metadata": {},
   "outputs": [],
   "source": []
  },
  {
   "cell_type": "code",
   "execution_count": 5,
   "id": "7aa09cae",
   "metadata": {},
   "outputs": [],
   "source": [
    "categorical_columns = ['workclass', \"education\", \"marital-status\", \"occupation\", 'relationship',\n",
    "                       'race', 'sex', 'hours_per_week_bins', 'native_country']\n",
    "numerical_columns = ['age_log', 'fnlwgt_log', \"education-num\", 'capital-gain', 'capital_loss_log']\n",
    "target = 'salary'"
   ]
  },
  {
   "cell_type": "code",
   "execution_count": 6,
   "id": "901c7294",
   "metadata": {},
   "outputs": [],
   "source": [
    "dataset = CustomDataset(df=df, numerical_columns=numerical_columns,\n",
    "                       categorical_columns=categorical_columns, target=target)"
   ]
  },
  {
   "cell_type": "code",
   "execution_count": 7,
   "id": "59f3858a",
   "metadata": {},
   "outputs": [
    {
     "data": {
      "text/plain": [
       "({'workclass': tensor(3),\n",
       "  'education': tensor(0),\n",
       "  'marital-status': tensor(1),\n",
       "  'occupation': tensor(0),\n",
       "  'relationship': tensor(5),\n",
       "  'race': tensor(1),\n",
       "  'sex': tensor(0),\n",
       "  'hours_per_week_bins': tensor(2),\n",
       "  'native_country': tensor(1)},\n",
       " array([ 3.8918203 , 11.5260391 , 12.        ,  0.        ,  7.55118687]),\n",
       " 1)"
      ]
     },
     "execution_count": 7,
     "metadata": {},
     "output_type": "execute_result"
    }
   ],
   "source": [
    "dataset[0]"
   ]
  },
  {
   "cell_type": "code",
   "execution_count": 8,
   "id": "186d8610",
   "metadata": {},
   "outputs": [],
   "source": [
    "dataloader = DataLoader(dataset, batch_size=2)"
   ]
  },
  {
   "cell_type": "code",
   "execution_count": 9,
   "id": "125818de",
   "metadata": {},
   "outputs": [],
   "source": [
    "batch = next(iter(dataloader))"
   ]
  },
  {
   "cell_type": "code",
   "execution_count": 10,
   "id": "e23ce38a",
   "metadata": {},
   "outputs": [
    {
     "data": {
      "text/plain": [
       "{'workclass': tensor([3, 3]),\n",
       " 'education': tensor([0, 4]),\n",
       " 'marital-status': tensor([1, 0]),\n",
       " 'occupation': tensor([0, 3]),\n",
       " 'relationship': tensor([5, 1]),\n",
       " 'race': tensor([1, 1]),\n",
       " 'sex': tensor([0, 1]),\n",
       " 'hours_per_week_bins': tensor([2, 3]),\n",
       " 'native_country': tensor([1, 1])}"
      ]
     },
     "execution_count": 10,
     "metadata": {},
     "output_type": "execute_result"
    }
   ],
   "source": [
    "batch[0]"
   ]
  },
  {
   "cell_type": "code",
   "execution_count": 15,
   "id": "7527455c",
   "metadata": {},
   "outputs": [],
   "source": [
    "features = DenseFeatureLayer(num_unique_values_dict=dataset.num_unique_values_dict,\n",
    "                          embedding_size=5,\n",
    "                          numerical_columns=len(numerical_columns))\n",
    "\n",
    "trans_block = TransformerBlock(features.output_shape, skip=True)"
   ]
  },
  {
   "cell_type": "code",
   "execution_count": 16,
   "id": "ac4df896",
   "metadata": {},
   "outputs": [],
   "source": [
    "res = features(batch[0], batch[1])"
   ]
  },
  {
   "cell_type": "code",
   "execution_count": 17,
   "id": "b6a5ccdd",
   "metadata": {},
   "outputs": [
    {
     "ename": "TypeError",
     "evalue": "sqrt(): argument 'input' (position 1) must be Tensor, not float",
     "output_type": "error",
     "traceback": [
      "\u001b[0;31m---------------------------------------------------------------------------\u001b[0m",
      "\u001b[0;31mTypeError\u001b[0m                                 Traceback (most recent call last)",
      "\u001b[0;32m<ipython-input-17-f51325dcfbdd>\u001b[0m in \u001b[0;36m<module>\u001b[0;34m\u001b[0m\n\u001b[0;32m----> 1\u001b[0;31m \u001b[0mres\u001b[0m \u001b[0;34m=\u001b[0m \u001b[0mtrans_block\u001b[0m\u001b[0;34m(\u001b[0m\u001b[0mres\u001b[0m\u001b[0;34m)\u001b[0m\u001b[0;34m\u001b[0m\u001b[0;34m\u001b[0m\u001b[0m\n\u001b[0m",
      "\u001b[0;32m~/SberDL/HW5/venv/lib/python3.8/site-packages/torch/nn/modules/module.py\u001b[0m in \u001b[0;36m_call_impl\u001b[0;34m(self, *input, **kwargs)\u001b[0m\n\u001b[1;32m    887\u001b[0m             \u001b[0mresult\u001b[0m \u001b[0;34m=\u001b[0m \u001b[0mself\u001b[0m\u001b[0;34m.\u001b[0m\u001b[0m_slow_forward\u001b[0m\u001b[0;34m(\u001b[0m\u001b[0;34m*\u001b[0m\u001b[0minput\u001b[0m\u001b[0;34m,\u001b[0m \u001b[0;34m**\u001b[0m\u001b[0mkwargs\u001b[0m\u001b[0;34m)\u001b[0m\u001b[0;34m\u001b[0m\u001b[0;34m\u001b[0m\u001b[0m\n\u001b[1;32m    888\u001b[0m         \u001b[0;32melse\u001b[0m\u001b[0;34m:\u001b[0m\u001b[0;34m\u001b[0m\u001b[0;34m\u001b[0m\u001b[0m\n\u001b[0;32m--> 889\u001b[0;31m             \u001b[0mresult\u001b[0m \u001b[0;34m=\u001b[0m \u001b[0mself\u001b[0m\u001b[0;34m.\u001b[0m\u001b[0mforward\u001b[0m\u001b[0;34m(\u001b[0m\u001b[0;34m*\u001b[0m\u001b[0minput\u001b[0m\u001b[0;34m,\u001b[0m \u001b[0;34m**\u001b[0m\u001b[0mkwargs\u001b[0m\u001b[0;34m)\u001b[0m\u001b[0;34m\u001b[0m\u001b[0;34m\u001b[0m\u001b[0m\n\u001b[0m\u001b[1;32m    890\u001b[0m         for hook in itertools.chain(\n\u001b[1;32m    891\u001b[0m                 \u001b[0m_global_forward_hooks\u001b[0m\u001b[0;34m.\u001b[0m\u001b[0mvalues\u001b[0m\u001b[0;34m(\u001b[0m\u001b[0;34m)\u001b[0m\u001b[0;34m,\u001b[0m\u001b[0;34m\u001b[0m\u001b[0;34m\u001b[0m\u001b[0m\n",
      "\u001b[0;32m~/SberDL/HW5/model/layers.py\u001b[0m in \u001b[0;36mforward\u001b[0;34m(self, data)\u001b[0m\n\u001b[1;32m     36\u001b[0m         \u001b[0mx\u001b[0m \u001b[0;34m=\u001b[0m \u001b[0mf\u001b[0m\u001b[0;34m.\u001b[0m\u001b[0mglu\u001b[0m\u001b[0;34m(\u001b[0m\u001b[0mx\u001b[0m\u001b[0;34m)\u001b[0m\u001b[0;34m\u001b[0m\u001b[0;34m\u001b[0m\u001b[0m\n\u001b[1;32m     37\u001b[0m         \u001b[0;32mif\u001b[0m \u001b[0mself\u001b[0m\u001b[0;34m.\u001b[0m\u001b[0mskip\u001b[0m\u001b[0;34m:\u001b[0m\u001b[0;34m\u001b[0m\u001b[0;34m\u001b[0m\u001b[0m\n\u001b[0;32m---> 38\u001b[0;31m             \u001b[0mx\u001b[0m \u001b[0;34m=\u001b[0m \u001b[0mx\u001b[0m \u001b[0;34m+\u001b[0m \u001b[0mtorch\u001b[0m\u001b[0;34m.\u001b[0m\u001b[0msqrt\u001b[0m\u001b[0;34m(\u001b[0m\u001b[0;36m0.5\u001b[0m\u001b[0;34m)\u001b[0m\u001b[0;34m*\u001b[0m\u001b[0mdata\u001b[0m\u001b[0;34m\u001b[0m\u001b[0;34m\u001b[0m\u001b[0m\n\u001b[0m\u001b[1;32m     39\u001b[0m         \u001b[0;32mreturn\u001b[0m \u001b[0mx\u001b[0m\u001b[0;34m\u001b[0m\u001b[0;34m\u001b[0m\u001b[0m\n",
      "\u001b[0;31mTypeError\u001b[0m: sqrt(): argument 'input' (position 1) must be Tensor, not float"
     ]
    }
   ],
   "source": [
    "res = trans_block(res)"
   ]
  },
  {
   "cell_type": "code",
   "execution_count": 14,
   "id": "d2f9b4eb",
   "metadata": {
    "scrolled": false
   },
   "outputs": [
    {
     "data": {
      "text/plain": [
       "tensor([[-0.2690, -0.7310, -0.7300, -0.7310, -0.7256,  0.2689, -0.7310, -0.2689,\n",
       "         -0.7310, -0.7310, -0.2690, -0.2690,  0.2692, -0.2689, -0.2689, -0.2689,\n",
       "         -0.7310,  0.7310, -0.7310,  0.2692, -0.7310,  0.7310,  0.2671, -0.2689,\n",
       "          0.2690,  0.7309,  0.7310, -0.2689,  0.7309, -0.7310,  0.7311,  0.7302,\n",
       "         -0.7309,  0.2692,  0.2689,  0.7310, -0.2689, -0.2690,  0.7309,  0.7308,\n",
       "          0.2689,  0.2690, -0.7309, -0.7310, -0.2685,  0.2688,  0.2676,  0.2688,\n",
       "          0.7310,  0.2689],\n",
       "        [ 0.7310,  0.2690,  0.2688,  0.2689,  0.2669, -0.7310,  0.2690,  0.7310,\n",
       "          0.2689,  0.2690,  0.7310,  0.7310, -0.7307,  0.7310,  0.7310,  0.7309,\n",
       "          0.2690, -0.2690,  0.2689, -0.7308,  0.2690, -0.2689, -0.7259,  0.7310,\n",
       "         -0.7310, -0.2691, -0.2690,  0.7310, -0.2689,  0.2689, -0.2689, -0.2686,\n",
       "          0.2690, -0.7308, -0.7310, -0.2689,  0.7310,  0.7310, -0.2689, -0.2689,\n",
       "         -0.7310, -0.7309,  0.2689,  0.2689,  0.7298, -0.7307, -0.7272, -0.7306,\n",
       "         -0.2690, -0.7309]], grad_fn=<GluBackward>)"
      ]
     },
     "execution_count": 14,
     "metadata": {},
     "output_type": "execute_result"
    }
   ],
   "source": [
    "res"
   ]
  },
  {
   "cell_type": "code",
   "execution_count": null,
   "id": "e92618da",
   "metadata": {},
   "outputs": [],
   "source": []
  }
 ],
 "metadata": {
  "kernelspec": {
   "display_name": "Python 3",
   "language": "python",
   "name": "python3"
  },
  "language_info": {
   "codemirror_mode": {
    "name": "ipython",
    "version": 3
   },
   "file_extension": ".py",
   "mimetype": "text/x-python",
   "name": "python",
   "nbconvert_exporter": "python",
   "pygments_lexer": "ipython3",
   "version": "3.8.5"
  }
 },
 "nbformat": 4,
 "nbformat_minor": 5
}
