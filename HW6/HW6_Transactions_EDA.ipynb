{
 "cells": [
  {
   "cell_type": "code",
   "execution_count": 1,
   "metadata": {},
   "outputs": [],
   "source": [
    "import gc\n",
    "import pandas as pd\n",
    "import numpy as np\n",
    "import matplotlib.pyplot as plt\n",
    "import seaborn as sns\n",
    "from sklearn.preprocessing import LabelEncoder\n",
    "from tqdm.notebook import tqdm\n",
    "import pickle"
   ]
  },
  {
   "cell_type": "markdown",
   "metadata": {},
   "source": [
    "## Load data"
   ]
  },
  {
   "cell_type": "code",
   "execution_count": 2,
   "metadata": {},
   "outputs": [],
   "source": [
    "DATA_PATH = './data/transactions_train_valid_test_splits.pickle'"
   ]
  },
  {
   "cell_type": "code",
   "execution_count": 3,
   "metadata": {},
   "outputs": [],
   "source": [
    "with open(DATA_PATH, 'rb') as f:\n",
    "    data = pickle.load(f)\n",
    "df = data['train']\n",
    "valid_data = data['valid']\n",
    "test_data = data['test']\n",
    "\n",
    "df.rename(columns={\"Errors?\":\"Errors\", \"Is Fraud?\": \"Fraud\"}, inplace=True)\n",
    "valid_data.rename(columns={\"Errors?\":\"Errors\", \"Is Fraud?\": \"Fraud\"}, inplace=True)\n",
    "test_data.rename(columns={\"Errors?\":\"Errors\", \"Is Fraud?\": \"Fraud\"}, inplace=True)"
   ]
  },
  {
   "cell_type": "code",
   "execution_count": 4,
   "metadata": {},
   "outputs": [
    {
     "data": {
      "text/html": [
       "<div>\n",
       "<style scoped>\n",
       "    .dataframe tbody tr th:only-of-type {\n",
       "        vertical-align: middle;\n",
       "    }\n",
       "\n",
       "    .dataframe tbody tr th {\n",
       "        vertical-align: top;\n",
       "    }\n",
       "\n",
       "    .dataframe thead th {\n",
       "        text-align: right;\n",
       "    }\n",
       "</style>\n",
       "<table border=\"1\" class=\"dataframe\">\n",
       "  <thead>\n",
       "    <tr style=\"text-align: right;\">\n",
       "      <th></th>\n",
       "      <th>User</th>\n",
       "      <th>Card</th>\n",
       "      <th>Year</th>\n",
       "      <th>Month</th>\n",
       "      <th>Day</th>\n",
       "      <th>Time</th>\n",
       "      <th>Amount</th>\n",
       "      <th>Use Chip</th>\n",
       "      <th>Merchant Name</th>\n",
       "      <th>Merchant City</th>\n",
       "      <th>Merchant State</th>\n",
       "      <th>Zip</th>\n",
       "      <th>MCC</th>\n",
       "      <th>Errors</th>\n",
       "      <th>Fraud</th>\n",
       "      <th>IsFraud_target</th>\n",
       "    </tr>\n",
       "  </thead>\n",
       "  <tbody>\n",
       "    <tr>\n",
       "      <th>0</th>\n",
       "      <td>0</td>\n",
       "      <td>0</td>\n",
       "      <td>2002</td>\n",
       "      <td>9</td>\n",
       "      <td>1</td>\n",
       "      <td>06:21</td>\n",
       "      <td>$134.09</td>\n",
       "      <td>Swipe Transaction</td>\n",
       "      <td>3527213246127876953</td>\n",
       "      <td>La Verne</td>\n",
       "      <td>CA</td>\n",
       "      <td>91750.0</td>\n",
       "      <td>5300</td>\n",
       "      <td>NaN</td>\n",
       "      <td>No</td>\n",
       "      <td>1</td>\n",
       "    </tr>\n",
       "    <tr>\n",
       "      <th>1</th>\n",
       "      <td>0</td>\n",
       "      <td>0</td>\n",
       "      <td>2002</td>\n",
       "      <td>9</td>\n",
       "      <td>1</td>\n",
       "      <td>06:42</td>\n",
       "      <td>$38.48</td>\n",
       "      <td>Swipe Transaction</td>\n",
       "      <td>-727612092139916043</td>\n",
       "      <td>Monterey Park</td>\n",
       "      <td>CA</td>\n",
       "      <td>91754.0</td>\n",
       "      <td>5411</td>\n",
       "      <td>NaN</td>\n",
       "      <td>No</td>\n",
       "      <td>1</td>\n",
       "    </tr>\n",
       "    <tr>\n",
       "      <th>2</th>\n",
       "      <td>0</td>\n",
       "      <td>0</td>\n",
       "      <td>2002</td>\n",
       "      <td>9</td>\n",
       "      <td>2</td>\n",
       "      <td>06:22</td>\n",
       "      <td>$120.34</td>\n",
       "      <td>Swipe Transaction</td>\n",
       "      <td>-727612092139916043</td>\n",
       "      <td>Monterey Park</td>\n",
       "      <td>CA</td>\n",
       "      <td>91754.0</td>\n",
       "      <td>5411</td>\n",
       "      <td>NaN</td>\n",
       "      <td>No</td>\n",
       "      <td>1</td>\n",
       "    </tr>\n",
       "    <tr>\n",
       "      <th>3</th>\n",
       "      <td>0</td>\n",
       "      <td>0</td>\n",
       "      <td>2002</td>\n",
       "      <td>9</td>\n",
       "      <td>2</td>\n",
       "      <td>17:45</td>\n",
       "      <td>$128.95</td>\n",
       "      <td>Swipe Transaction</td>\n",
       "      <td>3414527459579106770</td>\n",
       "      <td>Monterey Park</td>\n",
       "      <td>CA</td>\n",
       "      <td>91754.0</td>\n",
       "      <td>5651</td>\n",
       "      <td>NaN</td>\n",
       "      <td>No</td>\n",
       "      <td>1</td>\n",
       "    </tr>\n",
       "    <tr>\n",
       "      <th>4</th>\n",
       "      <td>0</td>\n",
       "      <td>0</td>\n",
       "      <td>2002</td>\n",
       "      <td>9</td>\n",
       "      <td>3</td>\n",
       "      <td>06:23</td>\n",
       "      <td>$104.71</td>\n",
       "      <td>Swipe Transaction</td>\n",
       "      <td>5817218446178736267</td>\n",
       "      <td>La Verne</td>\n",
       "      <td>CA</td>\n",
       "      <td>91750.0</td>\n",
       "      <td>5912</td>\n",
       "      <td>NaN</td>\n",
       "      <td>No</td>\n",
       "      <td>1</td>\n",
       "    </tr>\n",
       "  </tbody>\n",
       "</table>\n",
       "</div>"
      ],
      "text/plain": [
       "   User  Card  Year  Month  Day   Time   Amount           Use Chip  \\\n",
       "0     0     0  2002      9    1  06:21  $134.09  Swipe Transaction   \n",
       "1     0     0  2002      9    1  06:42   $38.48  Swipe Transaction   \n",
       "2     0     0  2002      9    2  06:22  $120.34  Swipe Transaction   \n",
       "3     0     0  2002      9    2  17:45  $128.95  Swipe Transaction   \n",
       "4     0     0  2002      9    3  06:23  $104.71  Swipe Transaction   \n",
       "\n",
       "         Merchant Name  Merchant City Merchant State      Zip   MCC Errors  \\\n",
       "0  3527213246127876953       La Verne             CA  91750.0  5300    NaN   \n",
       "1  -727612092139916043  Monterey Park             CA  91754.0  5411    NaN   \n",
       "2  -727612092139916043  Monterey Park             CA  91754.0  5411    NaN   \n",
       "3  3414527459579106770  Monterey Park             CA  91754.0  5651    NaN   \n",
       "4  5817218446178736267       La Verne             CA  91750.0  5912    NaN   \n",
       "\n",
       "  Fraud  IsFraud_target  \n",
       "0    No               1  \n",
       "1    No               1  \n",
       "2    No               1  \n",
       "3    No               1  \n",
       "4    No               1  "
      ]
     },
     "execution_count": 4,
     "metadata": {},
     "output_type": "execute_result"
    }
   ],
   "source": [
    "df.head()"
   ]
  },
  {
   "cell_type": "code",
   "execution_count": 5,
   "metadata": {},
   "outputs": [
    {
     "name": "stderr",
     "output_type": "stream",
     "text": [
      "<ipython-input-5-9ed154b522da>:1: FutureWarning: null_counts is deprecated. Use show_counts instead\n",
      "  df.info(null_counts=True, memory_usage=True)\n"
     ]
    },
    {
     "name": "stdout",
     "output_type": "stream",
     "text": [
      "<class 'pandas.core.frame.DataFrame'>\n",
      "Int64Index: 17397216 entries, 0 to 24386899\n",
      "Data columns (total 16 columns):\n",
      " #   Column          Non-Null Count     Dtype  \n",
      "---  ------          --------------     -----  \n",
      " 0   User            17397216 non-null  int64  \n",
      " 1   Card            17397216 non-null  int64  \n",
      " 2   Year            17397216 non-null  int64  \n",
      " 3   Month           17397216 non-null  int64  \n",
      " 4   Day             17397216 non-null  int64  \n",
      " 5   Time            17397216 non-null  object \n",
      " 6   Amount          17397216 non-null  object \n",
      " 7   Use Chip        17397216 non-null  object \n",
      " 8   Merchant Name   17397216 non-null  int64  \n",
      " 9   Merchant City   17397216 non-null  object \n",
      " 10  Merchant State  15431786 non-null  object \n",
      " 11  Zip             15321318 non-null  float64\n",
      " 12  MCC             17397216 non-null  int64  \n",
      " 13  Errors          279498 non-null    object \n",
      " 14  Fraud           17397216 non-null  object \n",
      " 15  IsFraud_target  17397216 non-null  int64  \n",
      "dtypes: float64(1), int64(8), object(7)\n",
      "memory usage: 2.2+ GB\n"
     ]
    }
   ],
   "source": [
    "df.info(null_counts=True, memory_usage=True)"
   ]
  },
  {
   "cell_type": "markdown",
   "metadata": {},
   "source": [
    "## Casting dataset to decrease a size in RAM"
   ]
  },
  {
   "cell_type": "code",
   "execution_count": 7,
   "metadata": {},
   "outputs": [],
   "source": [
    "def casting_dataframe(df):\n",
    "    df[\"Date\"] = df.Year.astype(str)+\"-\"+df.Month.astype(str)+\"-\"+df.Day.astype(str) + \" \" + df.Time\n",
    "    df.User = df.User.astype(np.int16)\n",
    "    df.Card = df.Card.astype(np.int8)\n",
    "    df.Year = df.Year.astype(np.int16)\n",
    "    df.Month = df.Month.astype(np.int8)\n",
    "    df.Day = df.Day.astype(np.int8)\n",
    "    df.Amount = df.Amount.str.strip(\"$\").astype(np.float32)\n",
    "    df.Zip = df.Zip.astype(np.float32)\n",
    "    df.Errors = df.Errors.fillna(\"Empty\")\n",
    "    df.IsFraud_target = df.IsFraud_target.astype(np.int8)\n",
    "    df.MCC = df.MCC.astype('object')\n",
    "    df[\"Date\"] = pd.to_datetime(df.Date, format='%Y-%m-%d %H:%M')\n",
    "    df[\"Dow\"] = df.Date.dt.dayofweek.astype(np.int8)\n",
    "    df[\"Hour\"] = df.Time.apply(lambda x: x.split(\":\")[0]).astype(np.int8)\n",
    "    df[\"Minute\"] = df.Time.apply(lambda x: x.split(\":\")[1]).astype(np.int8)\n",
    "    df[\"Outcome\"] = (df.Amount<0).astype(np.int8)\n",
    "    df.drop(columns=[\"Time\", \"Fraud\"], inplace=True)\n",
    "    return df"
   ]
  },
  {
   "cell_type": "code",
   "execution_count": 8,
   "metadata": {},
   "outputs": [],
   "source": [
    "df = casting_dataframe(df)\n",
    "valid_data = casting_dataframe(valid_data)\n",
    "test_data = casting_dataframe(test_data)"
   ]
  },
  {
   "cell_type": "code",
   "execution_count": 9,
   "metadata": {},
   "outputs": [
    {
     "name": "stdout",
     "output_type": "stream",
     "text": [
      "<class 'pandas.core.frame.DataFrame'>\n",
      "Int64Index: 17397216 entries, 0 to 24386899\n",
      "Data columns (total 19 columns):\n",
      " #   Column          Dtype         \n",
      "---  ------          -----         \n",
      " 0   User            int16         \n",
      " 1   Card            int8          \n",
      " 2   Year            int16         \n",
      " 3   Month           int8          \n",
      " 4   Day             int8          \n",
      " 5   Amount          float32       \n",
      " 6   Use Chip        object        \n",
      " 7   Merchant Name   int64         \n",
      " 8   Merchant City   object        \n",
      " 9   Merchant State  object        \n",
      " 10  Zip             float32       \n",
      " 11  MCC             object        \n",
      " 12  Errors          object        \n",
      " 13  IsFraud_target  int8          \n",
      " 14  Date            datetime64[ns]\n",
      " 15  Dow             int8          \n",
      " 16  Hour            int8          \n",
      " 17  Minute          int8          \n",
      " 18  Outcome         int8          \n",
      "dtypes: datetime64[ns](1), float32(2), int16(2), int64(1), int8(8), object(5)\n",
      "memory usage: 1.4+ GB\n"
     ]
    }
   ],
   "source": [
    "df.info()"
   ]
  },
  {
   "cell_type": "code",
   "execution_count": 10,
   "metadata": {},
   "outputs": [
    {
     "data": {
      "text/plain": [
       "54"
      ]
     },
     "execution_count": 10,
     "metadata": {},
     "output_type": "execute_result"
    }
   ],
   "source": [
    "gc.collect()"
   ]
  },
  {
   "cell_type": "code",
   "execution_count": 11,
   "metadata": {},
   "outputs": [],
   "source": [
    "def preprocessing(df, something):\n",
    "    ## Sort values by date\n",
    "    df.sort_values(by='Date', inplace=True,ignore_index=True)\n",
    "    \n",
    "    # Take difference between some actions in time in seconds\n",
    "    df[\"Time_diff\"] = df.groupby(by='User').Date.diff()\n",
    "    df[\"Time_diff\"].fillna(pd.Timedelta(seconds=0), inplace=True)\n",
    "    df[\"Time_diff\"] = df[\"Time_diff\"].apply(lambda x: x.seconds)\n",
    "    \n",
    "    # FIll NA in merchant State\n",
    "    df[\"Merchant State\"].fillna(\"ONLINE\", inplace=True)\n",
    "    \n",
    "    # Exclude rare errors\n",
    "    indexes_with_low_proba = something[\"Errors\"]\n",
    "    df.loc[df.Errors.isin(indexes_with_low_proba), \"Errors\"] = \"Rare\"\n",
    "    \n",
    "    # Binary mask if merchant is'n most frequent\n",
    "    df[\"is_diff_merchant\"] = df.groupby('User')[\"Merchant Name\"].diff()\n",
    "    df.is_diff_merchant.fillna(0, inplace=True)\n",
    "    df.loc[df.is_diff_merchant!=0, 'is_diff_merchant']=1\n",
    "    df.is_diff_merchant = df.is_diff_merchant.astype(np.int8)\n",
    "    \n",
    "    # Binary mask if city is different than most frequent for user\n",
    "    tmp = df.groupby(by='User')[\"Merchant City\"].agg(lambda x:x.value_counts().index[0])\n",
    "    for user in tqdm(df.User.unique()):\n",
    "        df.loc[df.User==user, 'Merchant City'] = (df.loc[df.User==user, 'Merchant City'] == tmp[user]).astype(np.int8)\n",
    "    \n",
    "    # Binary mask if state is different than most frequent for user\n",
    "    tmp = df.groupby(by='User')[\"Merchant State\"].agg(lambda x:x.value_counts().index[0])\n",
    "    for user in tqdm(df.User.unique()):\n",
    "        df.loc[df.User==user, 'Merchant State'] = (df.loc[df.User==user, 'Merchant State'] == tmp[user]).astype(np.int8)\n",
    "\n",
    "    return df"
   ]
  },
  {
   "cell_type": "code",
   "execution_count": 12,
   "metadata": {},
   "outputs": [],
   "source": [
    "df.sort_values(by='Date', inplace=True,ignore_index=True)\n",
    "df[\"Time_diff\"] = df.groupby(by='User').Date.diff()\n",
    "df[\"Time_diff\"].fillna(pd.Timedelta(seconds=0), inplace=True)\n",
    "df[\"Time_diff\"] = df[\"Time_diff\"].apply(lambda x: x.seconds)"
   ]
  },
  {
   "cell_type": "markdown",
   "metadata": {},
   "source": [
    "## Descriptive statistics"
   ]
  },
  {
   "cell_type": "code",
   "execution_count": 13,
   "metadata": {},
   "outputs": [
    {
     "data": {
      "text/plain": [
       "User                    0\n",
       "Card                    0\n",
       "Year                    0\n",
       "Month                   0\n",
       "Day                     0\n",
       "Amount                  0\n",
       "Use Chip                0\n",
       "Merchant Name           0\n",
       "Merchant City           0\n",
       "Merchant State    1965430\n",
       "Zip               2075898\n",
       "MCC                     0\n",
       "Errors                  0\n",
       "IsFraud_target          0\n",
       "Date                    0\n",
       "Dow                     0\n",
       "Hour                    0\n",
       "Minute                  0\n",
       "Outcome                 0\n",
       "Time_diff               0\n",
       "dtype: int64"
      ]
     },
     "execution_count": 13,
     "metadata": {},
     "output_type": "execute_result"
    }
   ],
   "source": [
    "df.isna().sum(axis=0)"
   ]
  },
  {
   "cell_type": "code",
   "execution_count": 14,
   "metadata": {},
   "outputs": [
    {
     "data": {
      "text/plain": [
       "User                 1400\n",
       "Card                    9\n",
       "Year                   30\n",
       "Month                  12\n",
       "Day                    31\n",
       "Amount              88599\n",
       "Use Chip                3\n",
       "Merchant Name       82349\n",
       "Merchant City       12907\n",
       "Merchant State        220\n",
       "Zip                 26121\n",
       "MCC                   109\n",
       "Errors                 24\n",
       "IsFraud_target          2\n",
       "Date              7001898\n",
       "Dow                     7\n",
       "Hour                   24\n",
       "Minute                 60\n",
       "Outcome                 2\n",
       "Time_diff            1440\n",
       "dtype: int64"
      ]
     },
     "execution_count": 14,
     "metadata": {},
     "output_type": "execute_result"
    }
   ],
   "source": [
    "df.nunique()"
   ]
  },
  {
   "cell_type": "markdown",
   "metadata": {},
   "source": [
    "## Along features"
   ]
  },
  {
   "cell_type": "markdown",
   "metadata": {},
   "source": [
    "#### Users"
   ]
  },
  {
   "cell_type": "code",
   "execution_count": 15,
   "metadata": {},
   "outputs": [
    {
     "data": {
      "text/plain": [
       "486     82355\n",
       "396     80749\n",
       "332     70010\n",
       "262     68089\n",
       "1249    65644\n",
       "        ...  \n",
       "397        29\n",
       "312        28\n",
       "810        26\n",
       "457        25\n",
       "1767       16\n",
       "Name: User, Length: 1400, dtype: int64"
      ]
     },
     "execution_count": 15,
     "metadata": {},
     "output_type": "execute_result"
    }
   ],
   "source": [
    "df.User.value_counts()"
   ]
  },
  {
   "cell_type": "code",
   "execution_count": 16,
   "metadata": {},
   "outputs": [
    {
     "data": {
      "text/html": [
       "<div>\n",
       "<style scoped>\n",
       "    .dataframe tbody tr th:only-of-type {\n",
       "        vertical-align: middle;\n",
       "    }\n",
       "\n",
       "    .dataframe tbody tr th {\n",
       "        vertical-align: top;\n",
       "    }\n",
       "\n",
       "    .dataframe thead th {\n",
       "        text-align: right;\n",
       "    }\n",
       "</style>\n",
       "<table border=\"1\" class=\"dataframe\">\n",
       "  <thead>\n",
       "    <tr style=\"text-align: right;\">\n",
       "      <th></th>\n",
       "      <th>count</th>\n",
       "      <th>sum</th>\n",
       "    </tr>\n",
       "    <tr>\n",
       "      <th>User</th>\n",
       "      <th></th>\n",
       "      <th></th>\n",
       "    </tr>\n",
       "  </thead>\n",
       "  <tbody>\n",
       "    <tr>\n",
       "      <th>486</th>\n",
       "      <td>82355</td>\n",
       "      <td>0.0</td>\n",
       "    </tr>\n",
       "    <tr>\n",
       "      <th>396</th>\n",
       "      <td>80749</td>\n",
       "      <td>0.0</td>\n",
       "    </tr>\n",
       "    <tr>\n",
       "      <th>332</th>\n",
       "      <td>70010</td>\n",
       "      <td>0.0</td>\n",
       "    </tr>\n",
       "    <tr>\n",
       "      <th>262</th>\n",
       "      <td>68089</td>\n",
       "      <td>0.0</td>\n",
       "    </tr>\n",
       "    <tr>\n",
       "      <th>1249</th>\n",
       "      <td>65644</td>\n",
       "      <td>0.0</td>\n",
       "    </tr>\n",
       "    <tr>\n",
       "      <th>...</th>\n",
       "      <td>...</td>\n",
       "      <td>...</td>\n",
       "    </tr>\n",
       "    <tr>\n",
       "      <th>397</th>\n",
       "      <td>29</td>\n",
       "      <td>0.0</td>\n",
       "    </tr>\n",
       "    <tr>\n",
       "      <th>312</th>\n",
       "      <td>28</td>\n",
       "      <td>0.0</td>\n",
       "    </tr>\n",
       "    <tr>\n",
       "      <th>810</th>\n",
       "      <td>26</td>\n",
       "      <td>0.0</td>\n",
       "    </tr>\n",
       "    <tr>\n",
       "      <th>457</th>\n",
       "      <td>25</td>\n",
       "      <td>0.0</td>\n",
       "    </tr>\n",
       "    <tr>\n",
       "      <th>1767</th>\n",
       "      <td>16</td>\n",
       "      <td>0.0</td>\n",
       "    </tr>\n",
       "  </tbody>\n",
       "</table>\n",
       "<p>1400 rows × 2 columns</p>\n",
       "</div>"
      ],
      "text/plain": [
       "      count  sum\n",
       "User            \n",
       "486   82355  0.0\n",
       "396   80749  0.0\n",
       "332   70010  0.0\n",
       "262   68089  0.0\n",
       "1249  65644  0.0\n",
       "...     ...  ...\n",
       "397      29  0.0\n",
       "312      28  0.0\n",
       "810      26  0.0\n",
       "457      25  0.0\n",
       "1767     16  0.0\n",
       "\n",
       "[1400 rows x 2 columns]"
      ]
     },
     "execution_count": 16,
     "metadata": {},
     "output_type": "execute_result"
    }
   ],
   "source": [
    "df.groupby(by='User').IsFraud_target.agg(['count', 'sum']).sort_values(by='count', ascending=False)"
   ]
  },
  {
   "cell_type": "code",
   "execution_count": 17,
   "metadata": {},
   "outputs": [
    {
     "data": {
      "text/plain": [
       "0.39785714285714285"
      ]
     },
     "execution_count": 17,
     "metadata": {},
     "output_type": "execute_result"
    }
   ],
   "source": [
    "(df.groupby(by='User').IsFraud_target.sum()!=0).mean()"
   ]
  },
  {
   "cell_type": "markdown",
   "metadata": {},
   "source": [
    "* Here is 1400 users with different number of observations for each user. Max observation number is 82355, min 16\n",
    "* ~40% Users are fraude"
   ]
  },
  {
   "cell_type": "markdown",
   "metadata": {},
   "source": [
    "#### Cards"
   ]
  },
  {
   "cell_type": "code",
   "execution_count": 18,
   "metadata": {},
   "outputs": [
    {
     "data": {
      "text/plain": [
       "array([1, 4, 5, 2, 0, 3, 6, 7, 8], dtype=int8)"
      ]
     },
     "execution_count": 18,
     "metadata": {},
     "output_type": "execute_result"
    }
   ],
   "source": [
    "df.Card.unique()"
   ]
  },
  {
   "cell_type": "code",
   "execution_count": 19,
   "metadata": {},
   "outputs": [
    {
     "data": {
      "text/plain": [
       "0    6150297\n",
       "1    4585879\n",
       "2    3064642\n",
       "3    2048736\n",
       "4     994779\n",
       "5     380737\n",
       "6     145891\n",
       "7      24292\n",
       "8       1963\n",
       "Name: Card, dtype: int64"
      ]
     },
     "execution_count": 19,
     "metadata": {},
     "output_type": "execute_result"
    }
   ],
   "source": [
    "df.Card.value_counts()"
   ]
  },
  {
   "cell_type": "code",
   "execution_count": 20,
   "metadata": {},
   "outputs": [
    {
     "data": {
      "text/html": [
       "<div>\n",
       "<style scoped>\n",
       "    .dataframe tbody tr th:only-of-type {\n",
       "        vertical-align: middle;\n",
       "    }\n",
       "\n",
       "    .dataframe tbody tr th {\n",
       "        vertical-align: top;\n",
       "    }\n",
       "\n",
       "    .dataframe thead th {\n",
       "        text-align: right;\n",
       "    }\n",
       "</style>\n",
       "<table border=\"1\" class=\"dataframe\">\n",
       "  <thead>\n",
       "    <tr style=\"text-align: right;\">\n",
       "      <th></th>\n",
       "      <th>count</th>\n",
       "      <th>mean</th>\n",
       "      <th>sum</th>\n",
       "    </tr>\n",
       "    <tr>\n",
       "      <th>Card</th>\n",
       "      <th></th>\n",
       "      <th></th>\n",
       "      <th></th>\n",
       "    </tr>\n",
       "  </thead>\n",
       "  <tbody>\n",
       "    <tr>\n",
       "      <th>0</th>\n",
       "      <td>6150297</td>\n",
       "      <td>0.371229</td>\n",
       "      <td>2283170.0</td>\n",
       "    </tr>\n",
       "    <tr>\n",
       "      <th>1</th>\n",
       "      <td>4585879</td>\n",
       "      <td>0.459036</td>\n",
       "      <td>2105085.0</td>\n",
       "    </tr>\n",
       "    <tr>\n",
       "      <th>2</th>\n",
       "      <td>3064642</td>\n",
       "      <td>0.508623</td>\n",
       "      <td>1558746.0</td>\n",
       "    </tr>\n",
       "    <tr>\n",
       "      <th>3</th>\n",
       "      <td>2048736</td>\n",
       "      <td>0.549799</td>\n",
       "      <td>1126394.0</td>\n",
       "    </tr>\n",
       "    <tr>\n",
       "      <th>4</th>\n",
       "      <td>994779</td>\n",
       "      <td>0.610494</td>\n",
       "      <td>607307.0</td>\n",
       "    </tr>\n",
       "    <tr>\n",
       "      <th>5</th>\n",
       "      <td>380737</td>\n",
       "      <td>0.686001</td>\n",
       "      <td>261186.0</td>\n",
       "    </tr>\n",
       "    <tr>\n",
       "      <th>6</th>\n",
       "      <td>145891</td>\n",
       "      <td>0.760163</td>\n",
       "      <td>110901.0</td>\n",
       "    </tr>\n",
       "    <tr>\n",
       "      <th>7</th>\n",
       "      <td>24292</td>\n",
       "      <td>0.592047</td>\n",
       "      <td>14382.0</td>\n",
       "    </tr>\n",
       "    <tr>\n",
       "      <th>8</th>\n",
       "      <td>1963</td>\n",
       "      <td>1.000000</td>\n",
       "      <td>1963.0</td>\n",
       "    </tr>\n",
       "  </tbody>\n",
       "</table>\n",
       "</div>"
      ],
      "text/plain": [
       "        count      mean        sum\n",
       "Card                              \n",
       "0     6150297  0.371229  2283170.0\n",
       "1     4585879  0.459036  2105085.0\n",
       "2     3064642  0.508623  1558746.0\n",
       "3     2048736  0.549799  1126394.0\n",
       "4      994779  0.610494   607307.0\n",
       "5      380737  0.686001   261186.0\n",
       "6      145891  0.760163   110901.0\n",
       "7       24292  0.592047    14382.0\n",
       "8        1963  1.000000     1963.0"
      ]
     },
     "execution_count": 20,
     "metadata": {},
     "output_type": "execute_result"
    }
   ],
   "source": [
    "df.groupby(by='Card').IsFraud_target.agg(['count', 'mean', 'sum']).sort_values(by='count', ascending=False)"
   ]
  },
  {
   "cell_type": "code",
   "execution_count": 21,
   "metadata": {},
   "outputs": [
    {
     "data": {
      "text/html": [
       "<div>\n",
       "<style scoped>\n",
       "    .dataframe tbody tr th:only-of-type {\n",
       "        vertical-align: middle;\n",
       "    }\n",
       "\n",
       "    .dataframe tbody tr th {\n",
       "        vertical-align: top;\n",
       "    }\n",
       "\n",
       "    .dataframe thead th {\n",
       "        text-align: right;\n",
       "    }\n",
       "</style>\n",
       "<table border=\"1\" class=\"dataframe\">\n",
       "  <thead>\n",
       "    <tr style=\"text-align: right;\">\n",
       "      <th>IsFraud_target</th>\n",
       "      <th>0</th>\n",
       "      <th>1</th>\n",
       "    </tr>\n",
       "    <tr>\n",
       "      <th>Card</th>\n",
       "      <th></th>\n",
       "      <th></th>\n",
       "    </tr>\n",
       "  </thead>\n",
       "  <tbody>\n",
       "    <tr>\n",
       "      <th>0</th>\n",
       "      <td>3867127</td>\n",
       "      <td>2283170</td>\n",
       "    </tr>\n",
       "    <tr>\n",
       "      <th>1</th>\n",
       "      <td>2480794</td>\n",
       "      <td>2105085</td>\n",
       "    </tr>\n",
       "    <tr>\n",
       "      <th>2</th>\n",
       "      <td>1505896</td>\n",
       "      <td>1558746</td>\n",
       "    </tr>\n",
       "    <tr>\n",
       "      <th>3</th>\n",
       "      <td>922342</td>\n",
       "      <td>1126394</td>\n",
       "    </tr>\n",
       "    <tr>\n",
       "      <th>4</th>\n",
       "      <td>387472</td>\n",
       "      <td>607307</td>\n",
       "    </tr>\n",
       "    <tr>\n",
       "      <th>5</th>\n",
       "      <td>119551</td>\n",
       "      <td>261186</td>\n",
       "    </tr>\n",
       "    <tr>\n",
       "      <th>6</th>\n",
       "      <td>34990</td>\n",
       "      <td>110901</td>\n",
       "    </tr>\n",
       "    <tr>\n",
       "      <th>7</th>\n",
       "      <td>9910</td>\n",
       "      <td>14382</td>\n",
       "    </tr>\n",
       "    <tr>\n",
       "      <th>8</th>\n",
       "      <td>0</td>\n",
       "      <td>1963</td>\n",
       "    </tr>\n",
       "  </tbody>\n",
       "</table>\n",
       "</div>"
      ],
      "text/plain": [
       "IsFraud_target        0        1\n",
       "Card                            \n",
       "0               3867127  2283170\n",
       "1               2480794  2105085\n",
       "2               1505896  1558746\n",
       "3                922342  1126394\n",
       "4                387472   607307\n",
       "5                119551   261186\n",
       "6                 34990   110901\n",
       "7                  9910    14382\n",
       "8                     0     1963"
      ]
     },
     "execution_count": 21,
     "metadata": {},
     "output_type": "execute_result"
    }
   ],
   "source": [
    "pd.crosstab(df.Card, df.IsFraud_target)"
   ]
  },
  {
   "cell_type": "markdown",
   "metadata": {},
   "source": [
    "* Here is 9 different types of card. \n",
    "* Some users have several cards\n",
    "* Fraud level is increasing with level of card"
   ]
  },
  {
   "cell_type": "markdown",
   "metadata": {},
   "source": [
    "#### Year"
   ]
  },
  {
   "cell_type": "code",
   "execution_count": 22,
   "metadata": {},
   "outputs": [
    {
     "data": {
      "text/plain": [
       "array([1991, 1992, 1993, 1994, 1995, 1996, 1997, 1998, 1999, 2000, 2001,\n",
       "       2002, 2003, 2004, 2005, 2006, 2007, 2008, 2009, 2010, 2011, 2012,\n",
       "       2013, 2014, 2015, 2016, 2017, 2018, 2019, 2020], dtype=int16)"
      ]
     },
     "execution_count": 22,
     "metadata": {},
     "output_type": "execute_result"
    }
   ],
   "source": [
    "np.sort(df.Year.unique())"
   ]
  },
  {
   "cell_type": "code",
   "execution_count": 23,
   "metadata": {},
   "outputs": [
    {
     "data": {
      "text/plain": [
       "Year\n",
       "1991        806\n",
       "1992       3625\n",
       "1993       6225\n",
       "1994      11355\n",
       "1995      15399\n",
       "1996      21269\n",
       "1997      34713\n",
       "1998      54293\n",
       "1999      79185\n",
       "2000     126135\n",
       "2001     188978\n",
       "2002     258573\n",
       "2003     340326\n",
       "2004     425653\n",
       "2005     527032\n",
       "2006     642940\n",
       "2007     755493\n",
       "2008     876132\n",
       "2009     971638\n",
       "2010    1061076\n",
       "2011    1120082\n",
       "2012    1152285\n",
       "2013    1180519\n",
       "2014    1196394\n",
       "2015    1215340\n",
       "2016    1217403\n",
       "2017    1227592\n",
       "2018    1225147\n",
       "2019    1224532\n",
       "2020     237076\n",
       "Name: User, dtype: int64"
      ]
     },
     "execution_count": 23,
     "metadata": {},
     "output_type": "execute_result"
    },
    {
     "data": {
      "image/png": "[encoded data removed]",
      "text/plain": [
       "<Figure size 432x288 with 1 Axes>"
      ]
     },
     "metadata": {
      "needs_background": "light"
     },
     "output_type": "display_data"
    }
   ],
   "source": [
    "tmp = df.groupby(by=[\"Year\"]).User.count()\n",
    "\n",
    "plt.plot(tmp.index,tmp.values, label='count')\n",
    "plt.title(\"Number of transaction per year\")\n",
    "plt.xlabel(\"Year\")\n",
    "plt.ylabel(\"Count\")\n",
    "tmp"
   ]
  },
  {
   "cell_type": "code",
   "execution_count": 24,
   "metadata": {},
   "outputs": [
    {
     "data": {
      "text/plain": [
       "1991      2\n",
       "1992      2\n",
       "1993      3\n",
       "1994      6\n",
       "1995      5\n",
       "1996     10\n",
       "1997     18\n",
       "1998     22\n",
       "1999     37\n",
       "2000     47\n",
       "2001     70\n",
       "2002     88\n",
       "2003     79\n",
       "2004     92\n",
       "2005     96\n",
       "2006    100\n",
       "2007    105\n",
       "2008     96\n",
       "2009     61\n",
       "2010     59\n",
       "2011     40\n",
       "2012     18\n",
       "2013     14\n",
       "2014     13\n",
       "2015     17\n",
       "2016      9\n",
       "2017      9\n",
       "2018      7\n",
       "2019     38\n",
       "2020    237\n",
       "Name: Year, dtype: int64"
      ]
     },
     "execution_count": 24,
     "metadata": {},
     "output_type": "execute_result"
    },
    {
     "data": {
      "image/png": "[encoded data removed]",
      "text/plain": [
       "<Figure size 432x288 with 1 Axes>"
      ]
     },
     "metadata": {
      "needs_background": "light"
     },
     "output_type": "display_data"
    }
   ],
   "source": [
    "# Number of new users per Year\n",
    "tmp = df.groupby(by='User').Year.min().value_counts().sort_index()\n",
    "\n",
    "plt.plot(tmp.index,tmp.values, label='count')\n",
    "plt.title(\"Number of new user per year\")\n",
    "plt.xlabel(\"Year\")\n",
    "plt.ylabel(\"Count\")\n",
    "\n",
    "tmp"
   ]
  },
  {
   "cell_type": "code",
   "execution_count": 25,
   "metadata": {},
   "outputs": [],
   "source": [
    "tmp1=df.groupby(by='User').Year.min().value_counts().sort_index()\n",
    "tmp2=df.groupby(by=[\"Year\"]).User.count()\n",
    "tmp3 = (df.groupby(by=['User', \"Year\"]).IsFraud_target.sum()!=0).groupby('Year').sum()\n",
    "tmp = pd.DataFrame()\n",
    "tmp['n_new_user'] = tmp1\n",
    "tmp['n_fraud_in_year'] = tmp3\n",
    "tmp['n_transaction'] = tmp2"
   ]
  },
  {
   "cell_type": "code",
   "execution_count": 26,
   "metadata": {},
   "outputs": [],
   "source": [
    "tmp = tmp/tmp.max()"
   ]
  },
  {
   "cell_type": "code",
   "execution_count": 27,
   "metadata": {},
   "outputs": [
    {
     "data": {
      "image/png": "[encoded data removed]",
      "text/plain": [
       "<Figure size 432x288 with 1 Axes>"
      ]
     },
     "metadata": {
      "needs_background": "light"
     },
     "output_type": "display_data"
    }
   ],
   "source": [
    "plt.plot(tmp.index,tmp.n_new_user.values, label='n_new_user')\n",
    "plt.plot(tmp.index,tmp.n_transaction.values, label='n_transaction')\n",
    "plt.plot(tmp.index,tmp.n_fraud_in_year.values, label='n_fraud_in_year')\n",
    "plt.xlabel(\"Year\")\n",
    "plt.ylabel(\"Proportion\")\n",
    "plt.legend();"
   ]
  },
  {
   "cell_type": "markdown",
   "metadata": {},
   "source": [
    "* Here is data which take place since 1991 up to 2020\n",
    "* Number of users in dataset increase to 2020 year. Last year is not full in data term\n",
    "* More transaction - more fraud (Your Capitan :D)\n",
    "* Since 2001 there is lot of fraud in data\n",
    "* If number of new users drop - number of fraud drops also. Probably some people use face accounts to retrieve benefits"
   ]
  },
  {
   "cell_type": "markdown",
   "metadata": {},
   "source": [
    "#### Month"
   ]
  },
  {
   "cell_type": "code",
   "execution_count": 28,
   "metadata": {},
   "outputs": [
    {
     "data": {
      "text/plain": [
       "Month\n",
       "1     556\n",
       "2     556\n",
       "3     557\n",
       "4     557\n",
       "5     557\n",
       "6     557\n",
       "7     557\n",
       "8     557\n",
       "9     556\n",
       "10    556\n",
       "11    556\n",
       "12    556\n",
       "Name: IsFraud_target, dtype: int64"
      ]
     },
     "execution_count": 28,
     "metadata": {},
     "output_type": "execute_result"
    }
   ],
   "source": [
    "(df.groupby(by=['User', \"Month\"]).IsFraud_target.sum()!=0).groupby('Month').sum()"
   ]
  },
  {
   "cell_type": "markdown",
   "metadata": {},
   "source": [
    "* Here is the same level of fraud during months"
   ]
  },
  {
   "cell_type": "markdown",
   "metadata": {},
   "source": [
    "#### Day and DoW"
   ]
  },
  {
   "cell_type": "code",
   "execution_count": 29,
   "metadata": {},
   "outputs": [
    {
     "data": {
      "text/plain": [
       "Dow\n",
       "0    2485145\n",
       "1    2474816\n",
       "2    2478082\n",
       "3    2492976\n",
       "4    2483767\n",
       "5    2496215\n",
       "6    2486215\n",
       "Name: Day, dtype: int64"
      ]
     },
     "execution_count": 29,
     "metadata": {},
     "output_type": "execute_result"
    }
   ],
   "source": [
    "df.groupby(by=['User', 'IsFraud_target', \"Dow\"]).Day.count().groupby('Dow').sum()"
   ]
  },
  {
   "cell_type": "code",
   "execution_count": 30,
   "metadata": {},
   "outputs": [
    {
     "data": {
      "text/plain": [
       "<AxesSubplot:xlabel='Day'>"
      ]
     },
     "execution_count": 30,
     "metadata": {},
     "output_type": "execute_result"
    },
    {
     "data": {
      "image/png": "[encoded data removed]",
      "text/plain": [
       "<Figure size 432x288 with 1 Axes>"
      ]
     },
     "metadata": {
      "needs_background": "light"
     },
     "output_type": "display_data"
    }
   ],
   "source": [
    "df.groupby(by='Day').IsFraud_target.sum().plot()"
   ]
  },
  {
   "cell_type": "code",
   "execution_count": 31,
   "metadata": {},
   "outputs": [
    {
     "data": {
      "text/plain": [
       "<AxesSubplot:xlabel='Dow'>"
      ]
     },
     "execution_count": 31,
     "metadata": {},
     "output_type": "execute_result"
    },
    {
     "data": {
      "image/png": "[encoded data removed]",
      "text/plain": [
       "<Figure size 432x288 with 1 Axes>"
      ]
     },
     "metadata": {
      "needs_background": "light"
     },
     "output_type": "display_data"
    }
   ],
   "source": [
    "df.groupby(by='Dow').IsFraud_target.sum().plot()"
   ]
  },
  {
   "cell_type": "markdown",
   "metadata": {},
   "source": [
    "* Much more fraud happens on Tursday, and Saturday.\n",
    "* In data here is also some seasonality during the month"
   ]
  },
  {
   "cell_type": "markdown",
   "metadata": {},
   "source": [
    "#### Amount"
   ]
  },
  {
   "cell_type": "code",
   "execution_count": 32,
   "metadata": {},
   "outputs": [
    {
     "data": {
      "text/plain": [
       "(44.02154, 28.83)"
      ]
     },
     "execution_count": 32,
     "metadata": {},
     "output_type": "execute_result"
    }
   ],
   "source": [
    "df[df.IsFraud_target==1].Amount.mean(), df[df.IsFraud_target==1].Amount.median()"
   ]
  },
  {
   "cell_type": "code",
   "execution_count": 33,
   "metadata": {},
   "outputs": [
    {
     "data": {
      "text/plain": [
       "(-78.0, 212.9600067138672)"
      ]
     },
     "execution_count": 33,
     "metadata": {},
     "output_type": "execute_result"
    }
   ],
   "source": [
    "df[df.IsFraud_target==1].Amount.quantile(0.025) ,df[df.IsFraud_target==1].Amount.quantile(0.975)"
   ]
  },
  {
   "cell_type": "code",
   "execution_count": 34,
   "metadata": {},
   "outputs": [
    {
     "data": {
      "text/plain": [
       "(42.93745, 31.67)"
      ]
     },
     "execution_count": 34,
     "metadata": {},
     "output_type": "execute_result"
    }
   ],
   "source": [
    "df[df.IsFraud_target==0].Amount.mean(), df[df.IsFraud_target==0].Amount.median()"
   ]
  },
  {
   "cell_type": "code",
   "execution_count": 35,
   "metadata": {},
   "outputs": [
    {
     "data": {
      "text/plain": [
       "(-80.0, 187.3000030517578)"
      ]
     },
     "execution_count": 35,
     "metadata": {},
     "output_type": "execute_result"
    }
   ],
   "source": [
    "df[df.IsFraud_target==0].Amount.quantile(0.025) ,df[df.IsFraud_target==0].Amount.quantile(0.975)"
   ]
  },
  {
   "cell_type": "code",
   "execution_count": 36,
   "metadata": {},
   "outputs": [],
   "source": [
    "# bins = pd.IntervalIndex.from_tuples([(-np.inf, -213), (-213, -80), (-80, -1), (-1, 198), (198, 500), (500, np.inf)])\n",
    "# df[\"Amount_cat\"] = pd.cut(df.Amount, bins=bins, labels=False)\n",
    "# df[\"Amount_cat\"] = LabelEncoder().fit_transform(df[\"Amount_cat\"])"
   ]
  },
  {
   "cell_type": "code",
   "execution_count": 37,
   "metadata": {},
   "outputs": [],
   "source": [
    "# fig, ax = plt.subplots(1,2,figsize=(16,10))\n",
    "# sns.countplot(data=df, x='Outcome', hue='IsFraud_target', ax=ax[0])\n",
    "# sns.countplot(data=df, x='Amount_cat', hue='IsFraud_target', ax=ax[1])"
   ]
  },
  {
   "cell_type": "markdown",
   "metadata": {},
   "source": [
    "#### Use Chip"
   ]
  },
  {
   "cell_type": "code",
   "execution_count": 38,
   "metadata": {},
   "outputs": [
    {
     "data": {
      "text/plain": [
       "<AxesSubplot:xlabel='Use Chip', ylabel='count'>"
      ]
     },
     "execution_count": 38,
     "metadata": {},
     "output_type": "execute_result"
    },
    {
     "data": {
      "image/png": "[encoded data removed]",
      "text/plain": [
       "<Figure size 432x288 with 1 Axes>"
      ]
     },
     "metadata": {
      "needs_background": "light"
     },
     "output_type": "display_data"
    }
   ],
   "source": [
    "sns.countplot(data=df, x='Use Chip', hue='IsFraud_target')"
   ]
  },
  {
   "cell_type": "markdown",
   "metadata": {},
   "source": [
    "#### Merchant state and city"
   ]
  },
  {
   "cell_type": "code",
   "execution_count": 39,
   "metadata": {},
   "outputs": [
    {
     "data": {
      "text/plain": [
       "array([' ONLINE'], dtype=object)"
      ]
     },
     "execution_count": 39,
     "metadata": {},
     "output_type": "execute_result"
    }
   ],
   "source": [
    "df[df[\"Merchant State\"].isnull()][\"Merchant City\"].unique()"
   ]
  },
  {
   "cell_type": "code",
   "execution_count": 40,
   "metadata": {},
   "outputs": [
    {
     "data": {
      "text/plain": [
       "0"
      ]
     },
     "execution_count": 40,
     "metadata": {},
     "output_type": "execute_result"
    }
   ],
   "source": [
    "df[df[\"Merchant City\"]!=\" ONLINE\"][\"Merchant State\"].isnull().sum()"
   ]
  },
  {
   "cell_type": "code",
   "execution_count": 41,
   "metadata": {},
   "outputs": [],
   "source": [
    "df[\"Merchant State\"].fillna(\"ONLINE\", inplace=True)"
   ]
  },
  {
   "cell_type": "code",
   "execution_count": 42,
   "metadata": {},
   "outputs": [
    {
     "data": {
      "text/html": [
       "<div>\n",
       "<style scoped>\n",
       "    .dataframe tbody tr th:only-of-type {\n",
       "        vertical-align: middle;\n",
       "    }\n",
       "\n",
       "    .dataframe tbody tr th {\n",
       "        vertical-align: top;\n",
       "    }\n",
       "\n",
       "    .dataframe thead th {\n",
       "        text-align: right;\n",
       "    }\n",
       "</style>\n",
       "<table border=\"1\" class=\"dataframe\">\n",
       "  <thead>\n",
       "    <tr style=\"text-align: right;\">\n",
       "      <th></th>\n",
       "      <th>User</th>\n",
       "      <th>Card</th>\n",
       "      <th>Year</th>\n",
       "      <th>Month</th>\n",
       "      <th>Day</th>\n",
       "      <th>Amount</th>\n",
       "      <th>Use Chip</th>\n",
       "      <th>Merchant Name</th>\n",
       "      <th>Merchant City</th>\n",
       "      <th>Merchant State</th>\n",
       "      <th>Zip</th>\n",
       "      <th>MCC</th>\n",
       "      <th>Errors</th>\n",
       "      <th>IsFraud_target</th>\n",
       "      <th>Date</th>\n",
       "      <th>Dow</th>\n",
       "      <th>Hour</th>\n",
       "      <th>Minute</th>\n",
       "      <th>Outcome</th>\n",
       "      <th>Time_diff</th>\n",
       "    </tr>\n",
       "  </thead>\n",
       "  <tbody>\n",
       "    <tr>\n",
       "      <th>0</th>\n",
       "      <td>791</td>\n",
       "      <td>1</td>\n",
       "      <td>1991</td>\n",
       "      <td>1</td>\n",
       "      <td>2</td>\n",
       "      <td>68.000000</td>\n",
       "      <td>Swipe Transaction</td>\n",
       "      <td>2027553650310142703</td>\n",
       "      <td>Burke</td>\n",
       "      <td>VA</td>\n",
       "      <td>22015.0</td>\n",
       "      <td>5541</td>\n",
       "      <td>Empty</td>\n",
       "      <td>1</td>\n",
       "      <td>1991-01-02 07:10:00</td>\n",
       "      <td>2</td>\n",
       "      <td>7</td>\n",
       "      <td>10</td>\n",
       "      <td>0</td>\n",
       "      <td>0</td>\n",
       "    </tr>\n",
       "    <tr>\n",
       "      <th>1</th>\n",
       "      <td>791</td>\n",
       "      <td>1</td>\n",
       "      <td>1991</td>\n",
       "      <td>1</td>\n",
       "      <td>2</td>\n",
       "      <td>-68.000000</td>\n",
       "      <td>Swipe Transaction</td>\n",
       "      <td>2027553650310142703</td>\n",
       "      <td>Burke</td>\n",
       "      <td>VA</td>\n",
       "      <td>22015.0</td>\n",
       "      <td>5541</td>\n",
       "      <td>Empty</td>\n",
       "      <td>1</td>\n",
       "      <td>1991-01-02 07:17:00</td>\n",
       "      <td>2</td>\n",
       "      <td>7</td>\n",
       "      <td>17</td>\n",
       "      <td>1</td>\n",
       "      <td>420</td>\n",
       "    </tr>\n",
       "    <tr>\n",
       "      <th>2</th>\n",
       "      <td>791</td>\n",
       "      <td>1</td>\n",
       "      <td>1991</td>\n",
       "      <td>1</td>\n",
       "      <td>2</td>\n",
       "      <td>113.620003</td>\n",
       "      <td>Swipe Transaction</td>\n",
       "      <td>2027553650310142703</td>\n",
       "      <td>Burke</td>\n",
       "      <td>VA</td>\n",
       "      <td>22015.0</td>\n",
       "      <td>5541</td>\n",
       "      <td>Empty</td>\n",
       "      <td>1</td>\n",
       "      <td>1991-01-02 07:21:00</td>\n",
       "      <td>2</td>\n",
       "      <td>7</td>\n",
       "      <td>21</td>\n",
       "      <td>0</td>\n",
       "      <td>240</td>\n",
       "    </tr>\n",
       "    <tr>\n",
       "      <th>3</th>\n",
       "      <td>791</td>\n",
       "      <td>1</td>\n",
       "      <td>1991</td>\n",
       "      <td>1</td>\n",
       "      <td>2</td>\n",
       "      <td>114.730003</td>\n",
       "      <td>Swipe Transaction</td>\n",
       "      <td>-7269691894846892021</td>\n",
       "      <td>Burke</td>\n",
       "      <td>VA</td>\n",
       "      <td>22015.0</td>\n",
       "      <td>5411</td>\n",
       "      <td>Empty</td>\n",
       "      <td>1</td>\n",
       "      <td>1991-01-02 17:30:00</td>\n",
       "      <td>2</td>\n",
       "      <td>17</td>\n",
       "      <td>30</td>\n",
       "      <td>0</td>\n",
       "      <td>36540</td>\n",
       "    </tr>\n",
       "    <tr>\n",
       "      <th>4</th>\n",
       "      <td>791</td>\n",
       "      <td>1</td>\n",
       "      <td>1991</td>\n",
       "      <td>1</td>\n",
       "      <td>3</td>\n",
       "      <td>251.710007</td>\n",
       "      <td>Swipe Transaction</td>\n",
       "      <td>-3693650930986299431</td>\n",
       "      <td>Burke</td>\n",
       "      <td>VA</td>\n",
       "      <td>22015.0</td>\n",
       "      <td>4814</td>\n",
       "      <td>Empty</td>\n",
       "      <td>1</td>\n",
       "      <td>1991-01-03 09:03:00</td>\n",
       "      <td>3</td>\n",
       "      <td>9</td>\n",
       "      <td>3</td>\n",
       "      <td>0</td>\n",
       "      <td>55980</td>\n",
       "    </tr>\n",
       "  </tbody>\n",
       "</table>\n",
       "</div>"
      ],
      "text/plain": [
       "   User  Card  Year  Month  Day      Amount           Use Chip  \\\n",
       "0   791     1  1991      1    2   68.000000  Swipe Transaction   \n",
       "1   791     1  1991      1    2  -68.000000  Swipe Transaction   \n",
       "2   791     1  1991      1    2  113.620003  Swipe Transaction   \n",
       "3   791     1  1991      1    2  114.730003  Swipe Transaction   \n",
       "4   791     1  1991      1    3  251.710007  Swipe Transaction   \n",
       "\n",
       "         Merchant Name Merchant City Merchant State      Zip   MCC Errors  \\\n",
       "0  2027553650310142703         Burke             VA  22015.0  5541  Empty   \n",
       "1  2027553650310142703         Burke             VA  22015.0  5541  Empty   \n",
       "2  2027553650310142703         Burke             VA  22015.0  5541  Empty   \n",
       "3 -7269691894846892021         Burke             VA  22015.0  5411  Empty   \n",
       "4 -3693650930986299431         Burke             VA  22015.0  4814  Empty   \n",
       "\n",
       "   IsFraud_target                Date  Dow  Hour  Minute  Outcome  Time_diff  \n",
       "0               1 1991-01-02 07:10:00    2     7      10        0          0  \n",
       "1               1 1991-01-02 07:17:00    2     7      17        1        420  \n",
       "2               1 1991-01-02 07:21:00    2     7      21        0        240  \n",
       "3               1 1991-01-02 17:30:00    2    17      30        0      36540  \n",
       "4               1 1991-01-03 09:03:00    3     9       3        0      55980  "
      ]
     },
     "execution_count": 42,
     "metadata": {},
     "output_type": "execute_result"
    }
   ],
   "source": [
    "df.head()"
   ]
  },
  {
   "cell_type": "markdown",
   "metadata": {},
   "source": [
    "#### Errrors"
   ]
  },
  {
   "cell_type": "code",
   "execution_count": 43,
   "metadata": {},
   "outputs": [
    {
     "data": {
      "text/plain": [
       "array(['Empty', 'Insufficient Balance,', 'Bad Zipcode,',\n",
       "       'Technical Glitch,', 'Bad PIN,', 'Bad PIN,Insufficient Balance,',\n",
       "       'Bad Zipcode,Technical Glitch,', 'Bad Expiration,',\n",
       "       'Bad Card Number,', 'Insufficient Balance,Technical Glitch,',\n",
       "       'Bad CVV,', 'Bad Card Number,Technical Glitch,',\n",
       "       'Bad PIN,Technical Glitch,', 'Bad CVV,Technical Glitch,',\n",
       "       'Bad Card Number,Bad Expiration,',\n",
       "       'Bad Card Number,Insufficient Balance,', 'Bad Expiration,Bad CVV,',\n",
       "       'Bad Expiration,Insufficient Balance,',\n",
       "       'Bad Zipcode,Insufficient Balance,',\n",
       "       'Bad CVV,Insufficient Balance,',\n",
       "       'Bad Expiration,Technical Glitch,',\n",
       "       'Bad Card Number,Bad Expiration,Technical Glitch,',\n",
       "       'Bad Card Number,Bad CVV,',\n",
       "       'Bad Card Number,Bad Expiration,Insufficient Balance,'],\n",
       "      dtype=object)"
      ]
     },
     "execution_count": 43,
     "metadata": {},
     "output_type": "execute_result"
    }
   ],
   "source": [
    "df.Errors.unique()"
   ]
  },
  {
   "cell_type": "code",
   "execution_count": 44,
   "metadata": {
    "scrolled": false
   },
   "outputs": [
    {
     "data": {
      "text/html": [
       "<div>\n",
       "<style scoped>\n",
       "    .dataframe tbody tr th:only-of-type {\n",
       "        vertical-align: middle;\n",
       "    }\n",
       "\n",
       "    .dataframe tbody tr th {\n",
       "        vertical-align: top;\n",
       "    }\n",
       "\n",
       "    .dataframe thead th {\n",
       "        text-align: right;\n",
       "    }\n",
       "</style>\n",
       "<table border=\"1\" class=\"dataframe\">\n",
       "  <thead>\n",
       "    <tr style=\"text-align: right;\">\n",
       "      <th>IsFraud_target</th>\n",
       "      <th>0</th>\n",
       "      <th>1</th>\n",
       "    </tr>\n",
       "    <tr>\n",
       "      <th>Errors</th>\n",
       "      <th></th>\n",
       "      <th></th>\n",
       "    </tr>\n",
       "  </thead>\n",
       "  <tbody>\n",
       "    <tr>\n",
       "      <th>Bad CVV,</th>\n",
       "      <td>4429</td>\n",
       "      <td>3349</td>\n",
       "    </tr>\n",
       "    <tr>\n",
       "      <th>Bad CVV,Insufficient Balance,</th>\n",
       "      <td>32</td>\n",
       "      <td>30</td>\n",
       "    </tr>\n",
       "    <tr>\n",
       "      <th>Bad CVV,Technical Glitch,</th>\n",
       "      <td>11</td>\n",
       "      <td>2</td>\n",
       "    </tr>\n",
       "    <tr>\n",
       "      <th>Bad Card Number,</th>\n",
       "      <td>5570</td>\n",
       "      <td>4084</td>\n",
       "    </tr>\n",
       "    <tr>\n",
       "      <th>Bad Card Number,Bad CVV,</th>\n",
       "      <td>28</td>\n",
       "      <td>19</td>\n",
       "    </tr>\n",
       "    <tr>\n",
       "      <th>Bad Card Number,Bad Expiration,</th>\n",
       "      <td>24</td>\n",
       "      <td>10</td>\n",
       "    </tr>\n",
       "    <tr>\n",
       "      <th>Bad Card Number,Bad Expiration,Insufficient Balance,</th>\n",
       "      <td>1</td>\n",
       "      <td>1</td>\n",
       "    </tr>\n",
       "    <tr>\n",
       "      <th>Bad Card Number,Bad Expiration,Technical Glitch,</th>\n",
       "      <td>0</td>\n",
       "      <td>1</td>\n",
       "    </tr>\n",
       "    <tr>\n",
       "      <th>Bad Card Number,Insufficient Balance,</th>\n",
       "      <td>60</td>\n",
       "      <td>35</td>\n",
       "    </tr>\n",
       "    <tr>\n",
       "      <th>Bad Card Number,Technical Glitch,</th>\n",
       "      <td>6</td>\n",
       "      <td>15</td>\n",
       "    </tr>\n",
       "    <tr>\n",
       "      <th>Bad Expiration,</th>\n",
       "      <td>4501</td>\n",
       "      <td>3264</td>\n",
       "    </tr>\n",
       "    <tr>\n",
       "      <th>Bad Expiration,Bad CVV,</th>\n",
       "      <td>19</td>\n",
       "      <td>19</td>\n",
       "    </tr>\n",
       "    <tr>\n",
       "      <th>Bad Expiration,Insufficient Balance,</th>\n",
       "      <td>29</td>\n",
       "      <td>28</td>\n",
       "    </tr>\n",
       "    <tr>\n",
       "      <th>Bad Expiration,Technical Glitch,</th>\n",
       "      <td>13</td>\n",
       "      <td>9</td>\n",
       "    </tr>\n",
       "    <tr>\n",
       "      <th>Bad PIN,</th>\n",
       "      <td>21861</td>\n",
       "      <td>19826</td>\n",
       "    </tr>\n",
       "    <tr>\n",
       "      <th>Bad PIN,Insufficient Balance,</th>\n",
       "      <td>230</td>\n",
       "      <td>209</td>\n",
       "    </tr>\n",
       "    <tr>\n",
       "      <th>Bad PIN,Technical Glitch,</th>\n",
       "      <td>33</td>\n",
       "      <td>53</td>\n",
       "    </tr>\n",
       "    <tr>\n",
       "      <th>Bad Zipcode,</th>\n",
       "      <td>905</td>\n",
       "      <td>630</td>\n",
       "    </tr>\n",
       "    <tr>\n",
       "      <th>Bad Zipcode,Insufficient Balance,</th>\n",
       "      <td>5</td>\n",
       "      <td>4</td>\n",
       "    </tr>\n",
       "    <tr>\n",
       "      <th>Bad Zipcode,Technical Glitch,</th>\n",
       "      <td>2</td>\n",
       "      <td>3</td>\n",
       "    </tr>\n",
       "    <tr>\n",
       "      <th>Empty</th>\n",
       "      <td>9175818</td>\n",
       "      <td>7941900</td>\n",
       "    </tr>\n",
       "    <tr>\n",
       "      <th>Insufficient Balance,</th>\n",
       "      <td>95713</td>\n",
       "      <td>79766</td>\n",
       "    </tr>\n",
       "    <tr>\n",
       "      <th>Insufficient Balance,Technical Glitch,</th>\n",
       "      <td>188</td>\n",
       "      <td>136</td>\n",
       "    </tr>\n",
       "    <tr>\n",
       "      <th>Technical Glitch,</th>\n",
       "      <td>18604</td>\n",
       "      <td>15741</td>\n",
       "    </tr>\n",
       "  </tbody>\n",
       "</table>\n",
       "</div>"
      ],
      "text/plain": [
       "IsFraud_target                                            0        1\n",
       "Errors                                                              \n",
       "Bad CVV,                                               4429     3349\n",
       "Bad CVV,Insufficient Balance,                            32       30\n",
       "Bad CVV,Technical Glitch,                                11        2\n",
       "Bad Card Number,                                       5570     4084\n",
       "Bad Card Number,Bad CVV,                                 28       19\n",
       "Bad Card Number,Bad Expiration,                          24       10\n",
       "Bad Card Number,Bad Expiration,Insufficient Bal...        1        1\n",
       "Bad Card Number,Bad Expiration,Technical Glitch,          0        1\n",
       "Bad Card Number,Insufficient Balance,                    60       35\n",
       "Bad Card Number,Technical Glitch,                         6       15\n",
       "Bad Expiration,                                        4501     3264\n",
       "Bad Expiration,Bad CVV,                                  19       19\n",
       "Bad Expiration,Insufficient Balance,                     29       28\n",
       "Bad Expiration,Technical Glitch,                         13        9\n",
       "Bad PIN,                                              21861    19826\n",
       "Bad PIN,Insufficient Balance,                           230      209\n",
       "Bad PIN,Technical Glitch,                                33       53\n",
       "Bad Zipcode,                                            905      630\n",
       "Bad Zipcode,Insufficient Balance,                         5        4\n",
       "Bad Zipcode,Technical Glitch,                             2        3\n",
       "Empty                                               9175818  7941900\n",
       "Insufficient Balance,                                 95713    79766\n",
       "Insufficient Balance,Technical Glitch,                  188      136\n",
       "Technical Glitch,                                     18604    15741"
      ]
     },
     "execution_count": 44,
     "metadata": {},
     "output_type": "execute_result"
    }
   ],
   "source": [
    "tmp = pd.crosstab(df.Errors, df.IsFraud_target)\n",
    "tmp"
   ]
  },
  {
   "cell_type": "code",
   "execution_count": 45,
   "metadata": {},
   "outputs": [],
   "source": [
    "indexes_with_low_proba = []\n",
    "for indx in tmp.index:\n",
    "    if tmp.loc[indx,:].sum() < 2500:\n",
    "        indexes_with_low_proba.append(indx)\n",
    "        \n",
    "something = {}\n",
    "something[\"Errors\"]=indexes_with_low_proba"
   ]
  },
  {
   "cell_type": "code",
   "execution_count": 46,
   "metadata": {},
   "outputs": [],
   "source": [
    "df.loc[df.Errors.isin(indexes_with_low_proba), \"Errors\"] = \"Rare\""
   ]
  },
  {
   "cell_type": "code",
   "execution_count": 47,
   "metadata": {},
   "outputs": [
    {
     "data": {
      "text/html": [
       "<div>\n",
       "<style scoped>\n",
       "    .dataframe tbody tr th:only-of-type {\n",
       "        vertical-align: middle;\n",
       "    }\n",
       "\n",
       "    .dataframe tbody tr th {\n",
       "        vertical-align: top;\n",
       "    }\n",
       "\n",
       "    .dataframe thead th {\n",
       "        text-align: right;\n",
       "    }\n",
       "</style>\n",
       "<table border=\"1\" class=\"dataframe\">\n",
       "  <thead>\n",
       "    <tr style=\"text-align: right;\">\n",
       "      <th>IsFraud_target</th>\n",
       "      <th>0</th>\n",
       "      <th>1</th>\n",
       "    </tr>\n",
       "    <tr>\n",
       "      <th>Errors</th>\n",
       "      <th></th>\n",
       "      <th></th>\n",
       "    </tr>\n",
       "  </thead>\n",
       "  <tbody>\n",
       "    <tr>\n",
       "      <th>Bad CVV,</th>\n",
       "      <td>4429</td>\n",
       "      <td>3349</td>\n",
       "    </tr>\n",
       "    <tr>\n",
       "      <th>Bad Card Number,</th>\n",
       "      <td>5570</td>\n",
       "      <td>4084</td>\n",
       "    </tr>\n",
       "    <tr>\n",
       "      <th>Bad Expiration,</th>\n",
       "      <td>4501</td>\n",
       "      <td>3264</td>\n",
       "    </tr>\n",
       "    <tr>\n",
       "      <th>Bad PIN,</th>\n",
       "      <td>21861</td>\n",
       "      <td>19826</td>\n",
       "    </tr>\n",
       "    <tr>\n",
       "      <th>Empty</th>\n",
       "      <td>9175818</td>\n",
       "      <td>7941900</td>\n",
       "    </tr>\n",
       "    <tr>\n",
       "      <th>Insufficient Balance,</th>\n",
       "      <td>95713</td>\n",
       "      <td>79766</td>\n",
       "    </tr>\n",
       "    <tr>\n",
       "      <th>Rare</th>\n",
       "      <td>1586</td>\n",
       "      <td>1204</td>\n",
       "    </tr>\n",
       "    <tr>\n",
       "      <th>Technical Glitch,</th>\n",
       "      <td>18604</td>\n",
       "      <td>15741</td>\n",
       "    </tr>\n",
       "  </tbody>\n",
       "</table>\n",
       "</div>"
      ],
      "text/plain": [
       "IsFraud_target               0        1\n",
       "Errors                                 \n",
       "Bad CVV,                  4429     3349\n",
       "Bad Card Number,          5570     4084\n",
       "Bad Expiration,           4501     3264\n",
       "Bad PIN,                 21861    19826\n",
       "Empty                  9175818  7941900\n",
       "Insufficient Balance,    95713    79766\n",
       "Rare                      1586     1204\n",
       "Technical Glitch,        18604    15741"
      ]
     },
     "execution_count": 47,
     "metadata": {},
     "output_type": "execute_result"
    }
   ],
   "source": [
    "tmp = pd.crosstab(df.Errors, df.IsFraud_target)\n",
    "tmp"
   ]
  },
  {
   "cell_type": "markdown",
   "metadata": {},
   "source": [
    "#### Merchant name"
   ]
  },
  {
   "cell_type": "code",
   "execution_count": 48,
   "metadata": {},
   "outputs": [
    {
     "data": {
      "text/plain": [
       "82349"
      ]
     },
     "execution_count": 48,
     "metadata": {},
     "output_type": "execute_result"
    }
   ],
   "source": [
    "len(df[\"Merchant Name\"].unique())"
   ]
  },
  {
   "cell_type": "code",
   "execution_count": 49,
   "metadata": {},
   "outputs": [],
   "source": [
    "df[\"is_diff_merchant\"] = df.groupby('User')[\"Merchant Name\"].diff()\n",
    "df.is_diff_merchant.fillna(0, inplace=True)\n",
    "df.loc[df.is_diff_merchant!=0, 'is_diff_merchant']=1\n",
    "df.is_diff_merchant = df.is_diff_merchant.astype(np.int8)\n",
    "df.drop(columns=\"Merchant Name\", inplace=True)"
   ]
  },
  {
   "cell_type": "code",
   "execution_count": 50,
   "metadata": {},
   "outputs": [
    {
     "data": {
      "text/html": [
       "<div>\n",
       "<style scoped>\n",
       "    .dataframe tbody tr th:only-of-type {\n",
       "        vertical-align: middle;\n",
       "    }\n",
       "\n",
       "    .dataframe tbody tr th {\n",
       "        vertical-align: top;\n",
       "    }\n",
       "\n",
       "    .dataframe thead th {\n",
       "        text-align: right;\n",
       "    }\n",
       "</style>\n",
       "<table border=\"1\" class=\"dataframe\">\n",
       "  <thead>\n",
       "    <tr style=\"text-align: right;\">\n",
       "      <th></th>\n",
       "      <th>User</th>\n",
       "      <th>Card</th>\n",
       "      <th>Year</th>\n",
       "      <th>Month</th>\n",
       "      <th>Day</th>\n",
       "      <th>Amount</th>\n",
       "      <th>Use Chip</th>\n",
       "      <th>Merchant City</th>\n",
       "      <th>Merchant State</th>\n",
       "      <th>Zip</th>\n",
       "      <th>MCC</th>\n",
       "      <th>Errors</th>\n",
       "      <th>IsFraud_target</th>\n",
       "      <th>Date</th>\n",
       "      <th>Dow</th>\n",
       "      <th>Hour</th>\n",
       "      <th>Minute</th>\n",
       "      <th>Outcome</th>\n",
       "      <th>Time_diff</th>\n",
       "      <th>is_diff_merchant</th>\n",
       "    </tr>\n",
       "  </thead>\n",
       "  <tbody>\n",
       "    <tr>\n",
       "      <th>0</th>\n",
       "      <td>791</td>\n",
       "      <td>1</td>\n",
       "      <td>1991</td>\n",
       "      <td>1</td>\n",
       "      <td>2</td>\n",
       "      <td>68.000000</td>\n",
       "      <td>Swipe Transaction</td>\n",
       "      <td>Burke</td>\n",
       "      <td>VA</td>\n",
       "      <td>22015.0</td>\n",
       "      <td>5541</td>\n",
       "      <td>Empty</td>\n",
       "      <td>1</td>\n",
       "      <td>1991-01-02 07:10:00</td>\n",
       "      <td>2</td>\n",
       "      <td>7</td>\n",
       "      <td>10</td>\n",
       "      <td>0</td>\n",
       "      <td>0</td>\n",
       "      <td>0</td>\n",
       "    </tr>\n",
       "    <tr>\n",
       "      <th>1</th>\n",
       "      <td>791</td>\n",
       "      <td>1</td>\n",
       "      <td>1991</td>\n",
       "      <td>1</td>\n",
       "      <td>2</td>\n",
       "      <td>-68.000000</td>\n",
       "      <td>Swipe Transaction</td>\n",
       "      <td>Burke</td>\n",
       "      <td>VA</td>\n",
       "      <td>22015.0</td>\n",
       "      <td>5541</td>\n",
       "      <td>Empty</td>\n",
       "      <td>1</td>\n",
       "      <td>1991-01-02 07:17:00</td>\n",
       "      <td>2</td>\n",
       "      <td>7</td>\n",
       "      <td>17</td>\n",
       "      <td>1</td>\n",
       "      <td>420</td>\n",
       "      <td>0</td>\n",
       "    </tr>\n",
       "    <tr>\n",
       "      <th>2</th>\n",
       "      <td>791</td>\n",
       "      <td>1</td>\n",
       "      <td>1991</td>\n",
       "      <td>1</td>\n",
       "      <td>2</td>\n",
       "      <td>113.620003</td>\n",
       "      <td>Swipe Transaction</td>\n",
       "      <td>Burke</td>\n",
       "      <td>VA</td>\n",
       "      <td>22015.0</td>\n",
       "      <td>5541</td>\n",
       "      <td>Empty</td>\n",
       "      <td>1</td>\n",
       "      <td>1991-01-02 07:21:00</td>\n",
       "      <td>2</td>\n",
       "      <td>7</td>\n",
       "      <td>21</td>\n",
       "      <td>0</td>\n",
       "      <td>240</td>\n",
       "      <td>0</td>\n",
       "    </tr>\n",
       "    <tr>\n",
       "      <th>3</th>\n",
       "      <td>791</td>\n",
       "      <td>1</td>\n",
       "      <td>1991</td>\n",
       "      <td>1</td>\n",
       "      <td>2</td>\n",
       "      <td>114.730003</td>\n",
       "      <td>Swipe Transaction</td>\n",
       "      <td>Burke</td>\n",
       "      <td>VA</td>\n",
       "      <td>22015.0</td>\n",
       "      <td>5411</td>\n",
       "      <td>Empty</td>\n",
       "      <td>1</td>\n",
       "      <td>1991-01-02 17:30:00</td>\n",
       "      <td>2</td>\n",
       "      <td>17</td>\n",
       "      <td>30</td>\n",
       "      <td>0</td>\n",
       "      <td>36540</td>\n",
       "      <td>1</td>\n",
       "    </tr>\n",
       "    <tr>\n",
       "      <th>4</th>\n",
       "      <td>791</td>\n",
       "      <td>1</td>\n",
       "      <td>1991</td>\n",
       "      <td>1</td>\n",
       "      <td>3</td>\n",
       "      <td>251.710007</td>\n",
       "      <td>Swipe Transaction</td>\n",
       "      <td>Burke</td>\n",
       "      <td>VA</td>\n",
       "      <td>22015.0</td>\n",
       "      <td>4814</td>\n",
       "      <td>Empty</td>\n",
       "      <td>1</td>\n",
       "      <td>1991-01-03 09:03:00</td>\n",
       "      <td>3</td>\n",
       "      <td>9</td>\n",
       "      <td>3</td>\n",
       "      <td>0</td>\n",
       "      <td>55980</td>\n",
       "      <td>1</td>\n",
       "    </tr>\n",
       "  </tbody>\n",
       "</table>\n",
       "</div>"
      ],
      "text/plain": [
       "   User  Card  Year  Month  Day      Amount           Use Chip Merchant City  \\\n",
       "0   791     1  1991      1    2   68.000000  Swipe Transaction         Burke   \n",
       "1   791     1  1991      1    2  -68.000000  Swipe Transaction         Burke   \n",
       "2   791     1  1991      1    2  113.620003  Swipe Transaction         Burke   \n",
       "3   791     1  1991      1    2  114.730003  Swipe Transaction         Burke   \n",
       "4   791     1  1991      1    3  251.710007  Swipe Transaction         Burke   \n",
       "\n",
       "  Merchant State      Zip   MCC Errors  IsFraud_target                Date  \\\n",
       "0             VA  22015.0  5541  Empty               1 1991-01-02 07:10:00   \n",
       "1             VA  22015.0  5541  Empty               1 1991-01-02 07:17:00   \n",
       "2             VA  22015.0  5541  Empty               1 1991-01-02 07:21:00   \n",
       "3             VA  22015.0  5411  Empty               1 1991-01-02 17:30:00   \n",
       "4             VA  22015.0  4814  Empty               1 1991-01-03 09:03:00   \n",
       "\n",
       "   Dow  Hour  Minute  Outcome  Time_diff  is_diff_merchant  \n",
       "0    2     7      10        0          0                 0  \n",
       "1    2     7      17        1        420                 0  \n",
       "2    2     7      21        0        240                 0  \n",
       "3    2    17      30        0      36540                 1  \n",
       "4    3     9       3        0      55980                 1  "
      ]
     },
     "execution_count": 50,
     "metadata": {},
     "output_type": "execute_result"
    }
   ],
   "source": [
    "df.head()"
   ]
  },
  {
   "cell_type": "markdown",
   "metadata": {},
   "source": [
    "#### MCC"
   ]
  },
  {
   "cell_type": "code",
   "execution_count": 51,
   "metadata": {},
   "outputs": [
    {
     "data": {
      "text/html": [
       "<div>\n",
       "<style scoped>\n",
       "    .dataframe tbody tr th:only-of-type {\n",
       "        vertical-align: middle;\n",
       "    }\n",
       "\n",
       "    .dataframe tbody tr th {\n",
       "        vertical-align: top;\n",
       "    }\n",
       "\n",
       "    .dataframe thead th {\n",
       "        text-align: right;\n",
       "    }\n",
       "</style>\n",
       "<table border=\"1\" class=\"dataframe\">\n",
       "  <thead>\n",
       "    <tr style=\"text-align: right;\">\n",
       "      <th>IsFraud_target</th>\n",
       "      <th>0</th>\n",
       "      <th>1</th>\n",
       "      <th>portion</th>\n",
       "    </tr>\n",
       "    <tr>\n",
       "      <th>MCC</th>\n",
       "      <th></th>\n",
       "      <th></th>\n",
       "      <th></th>\n",
       "    </tr>\n",
       "  </thead>\n",
       "  <tbody>\n",
       "    <tr>\n",
       "      <th>1711</th>\n",
       "      <td>1961</td>\n",
       "      <td>2359</td>\n",
       "      <td>1.202958</td>\n",
       "    </tr>\n",
       "    <tr>\n",
       "      <th>3000</th>\n",
       "      <td>1839</td>\n",
       "      <td>2190</td>\n",
       "      <td>1.190865</td>\n",
       "    </tr>\n",
       "    <tr>\n",
       "      <th>3001</th>\n",
       "      <td>1866</td>\n",
       "      <td>2196</td>\n",
       "      <td>1.176849</td>\n",
       "    </tr>\n",
       "    <tr>\n",
       "      <th>3005</th>\n",
       "      <td>233</td>\n",
       "      <td>292</td>\n",
       "      <td>1.253219</td>\n",
       "    </tr>\n",
       "    <tr>\n",
       "      <th>3006</th>\n",
       "      <td>216</td>\n",
       "      <td>271</td>\n",
       "      <td>1.254630</td>\n",
       "    </tr>\n",
       "    <tr>\n",
       "      <th>...</th>\n",
       "      <td>...</td>\n",
       "      <td>...</td>\n",
       "      <td>...</td>\n",
       "    </tr>\n",
       "    <tr>\n",
       "      <th>8062</th>\n",
       "      <td>2187</td>\n",
       "      <td>2543</td>\n",
       "      <td>1.162780</td>\n",
       "    </tr>\n",
       "    <tr>\n",
       "      <th>8099</th>\n",
       "      <td>9038</td>\n",
       "      <td>10297</td>\n",
       "      <td>1.139301</td>\n",
       "    </tr>\n",
       "    <tr>\n",
       "      <th>8111</th>\n",
       "      <td>3421</td>\n",
       "      <td>5857</td>\n",
       "      <td>1.712072</td>\n",
       "    </tr>\n",
       "    <tr>\n",
       "      <th>8931</th>\n",
       "      <td>2305</td>\n",
       "      <td>2465</td>\n",
       "      <td>1.069414</td>\n",
       "    </tr>\n",
       "    <tr>\n",
       "      <th>9402</th>\n",
       "      <td>61307</td>\n",
       "      <td>59585</td>\n",
       "      <td>0.971912</td>\n",
       "    </tr>\n",
       "  </tbody>\n",
       "</table>\n",
       "<p>109 rows × 3 columns</p>\n",
       "</div>"
      ],
      "text/plain": [
       "IsFraud_target      0      1   portion\n",
       "MCC                                   \n",
       "1711             1961   2359  1.202958\n",
       "3000             1839   2190  1.190865\n",
       "3001             1866   2196  1.176849\n",
       "3005              233    292  1.253219\n",
       "3006              216    271  1.254630\n",
       "...               ...    ...       ...\n",
       "8062             2187   2543  1.162780\n",
       "8099             9038  10297  1.139301\n",
       "8111             3421   5857  1.712072\n",
       "8931             2305   2465  1.069414\n",
       "9402            61307  59585  0.971912\n",
       "\n",
       "[109 rows x 3 columns]"
      ]
     },
     "execution_count": 51,
     "metadata": {},
     "output_type": "execute_result"
    }
   ],
   "source": [
    "tmp = pd.crosstab(df.MCC, df.IsFraud_target)\n",
    "tmp[\"portion\"]=tmp[1]/tmp[0]\n",
    "tmp"
   ]
  },
  {
   "cell_type": "markdown",
   "metadata": {},
   "source": [
    "#### Merchant City and State"
   ]
  },
  {
   "cell_type": "code",
   "execution_count": 52,
   "metadata": {},
   "outputs": [
    {
     "data": {
      "text/plain": [
       "array(['VA', 'CA', 'NJ', 'NY', 'PA', 'OH', 'NV', 'HI', 'MA', 'TX', 'WA',\n",
       "       'AK', 'GA', 'IL', 'OR', 'Mexico', 'United Arab Emirates',\n",
       "       'Jamaica', 'CO', 'NC', 'MO', 'SD', 'IN', 'ND', 'LA', 'FL', 'Spain',\n",
       "       'AZ', 'MI', 'RI', 'MN', 'NH', 'MS', 'NM', 'DE', 'Netherlands',\n",
       "       'AL', 'MD', 'SC', 'KY', 'Sweden', 'AR', 'China', 'MT', 'Israel',\n",
       "       'ONLINE', 'France', 'Germany', 'South Korea', 'KS', 'Italy', 'DC',\n",
       "       'UT', 'IA', 'ID', 'TN', 'Philippines', 'CT', 'OK', 'WI', 'ME',\n",
       "       'WV', 'Fiji', 'Colombia', 'Austria', 'United Kingdom', 'WY',\n",
       "       'Aruba', 'VT', 'Japan', 'NE', 'Bangladesh', 'Brazil', 'Canada',\n",
       "       'AA', 'The Bahamas', 'Greece', 'Algeria', 'Switzerland',\n",
       "       'South Africa', 'Dominican Republic', 'Singapore', 'Thailand',\n",
       "       'Hong Kong', 'Iraq', 'Saudi Arabia', 'Argentina', 'Taiwan',\n",
       "       'Pakistan', 'Norway', 'Ireland', 'Morocco', 'Nigeria', 'Paraguay',\n",
       "       'Denmark', 'Macedonia', 'Portugal', 'India', 'Egypt', 'Liberia',\n",
       "       'Bulgaria', 'Peru', 'Ethiopia', 'Slovakia', 'Poland', 'Latvia',\n",
       "       'Finland', 'Hungary', 'Saint Lucia', 'Costa Rica', 'Belgium',\n",
       "       'New Zealand', 'Venezuela', 'Australia', 'Turkey', 'Uzbekistan',\n",
       "       'Indonesia', 'Ecuador', 'Mozambique', 'Togo', 'Haiti', 'Malaysia',\n",
       "       'Estonia', 'Malawi', 'Ghana', 'Djibouti', 'Czech Republic',\n",
       "       'Myanmar (Burma)', 'Suriname', 'Serbia', 'Chile', 'Russia',\n",
       "       'Liechtenstein', 'Uganda', 'Lebanon', 'Vatican City',\n",
       "       'Central African Republic', 'Slovenia', 'Cambodia', 'Somalia',\n",
       "       'Burkina Faso', 'Luxembourg', 'Malta', 'Iceland',\n",
       "       'Sao Tome and Principe', 'Vietnam', 'Sri Lanka', 'Barbados',\n",
       "       'Democratic Republic of the Congo', 'Tunisia', 'Cameroon',\n",
       "       'Croatia', 'Mali', 'Uruguay', 'Tanzania', 'El Salvador',\n",
       "       'Cabo Verde', 'Angola', 'Benin', 'Swaziland', 'Kiribati', 'Kosovo',\n",
       "       'Nicaragua', 'Kenya', 'Monaco', 'Micronesia', 'Belize', 'Mongolia',\n",
       "       'Moldova', 'Tuvalu', 'Oman', 'Lithuania', 'Comoros', 'Bahrain',\n",
       "       'Azerbaijan', 'Montenegro', 'Syria', 'Brunei', 'Sierra Leone',\n",
       "       'Guatemala', 'Marshall Islands', 'Bosnia and Herzegovina',\n",
       "       'Antigua and Barbuda', 'Andorra', 'Tonga', 'Eritrea',\n",
       "       'Solomon Islands', 'Romania', 'Honduras', 'Jordan', 'Niger',\n",
       "       'Ukraine', 'South Sudan', 'Yemen', 'Albania', 'Qatar', 'Maldives',\n",
       "       'Zimbabwe', 'Equatorial Guinea', 'Kuwait', 'Belarus', 'Zambia',\n",
       "       'Georgia', 'Samoa', 'Guyana', 'Cyprus', 'Gabon', 'Kyrgyzstan',\n",
       "       'Botswana', 'Seychelles', 'Vanuatu', 'Panama', \"Cote d'Ivoire\",\n",
       "       'Senegal', 'Iran', 'Guinea', 'Papua New Guinea',\n",
       "       'East Timor (Timor-Leste)', 'Trinidad and Tobago',\n",
       "       'Republic of the Congo', 'Nauru'], dtype=object)"
      ]
     },
     "execution_count": 52,
     "metadata": {},
     "output_type": "execute_result"
    }
   ],
   "source": [
    "df[\"Merchant State\"].unique()"
   ]
  },
  {
   "cell_type": "code",
   "execution_count": 53,
   "metadata": {},
   "outputs": [
    {
     "data": {
      "text/plain": [
       "12907"
      ]
     },
     "execution_count": 53,
     "metadata": {},
     "output_type": "execute_result"
    }
   ],
   "source": [
    "len(df[\"Merchant City\"].unique())"
   ]
  },
  {
   "cell_type": "code",
   "execution_count": 54,
   "metadata": {},
   "outputs": [
    {
     "data": {
      "text/plain": [
       "User\n",
       "0           La Verne\n",
       "1        Little Neck\n",
       "2             ONLINE\n",
       "3           New York\n",
       "6         Louisville\n",
       "            ...     \n",
       "1995     Garden City\n",
       "1996    Independence\n",
       "1997       Elizabeth\n",
       "1998       Camp Hill\n",
       "1999       Merrimack\n",
       "Name: Merchant City, Length: 1400, dtype: object"
      ]
     },
     "execution_count": 54,
     "metadata": {},
     "output_type": "execute_result"
    }
   ],
   "source": [
    "tmp = df.groupby(by='User')[\"Merchant City\"].agg(lambda x:x.value_counts().index[0])\n",
    "tmp"
   ]
  },
  {
   "cell_type": "code",
   "execution_count": 55,
   "metadata": {},
   "outputs": [
    {
     "data": {
      "application/vnd.jupyter.widget-view+json": {
       "model_id": "49e923f40316494785f86b74d3aa5df3",
       "version_major": 2,
       "version_minor": 0
      },
      "text/plain": [
       "  0%|          | 0/1400 [00:00<?, ?it/s]"
      ]
     },
     "metadata": {},
     "output_type": "display_data"
    },
    {
     "name": "stdout",
     "output_type": "stream",
     "text": [
      "CPU times: user 3min 47s, sys: 2min 21s, total: 6min 9s\n",
      "Wall time: 6min 8s\n"
     ]
    }
   ],
   "source": [
    "%%time\n",
    "for user in tqdm(df.User.unique()):\n",
    "    df.loc[df.User==user, 'Merchant City'] = (df.loc[df.User==user, 'Merchant City'] == tmp[user]).astype(np.int8)"
   ]
  },
  {
   "cell_type": "code",
   "execution_count": 56,
   "metadata": {},
   "outputs": [
    {
     "data": {
      "text/html": [
       "<div>\n",
       "<style scoped>\n",
       "    .dataframe tbody tr th:only-of-type {\n",
       "        vertical-align: middle;\n",
       "    }\n",
       "\n",
       "    .dataframe tbody tr th {\n",
       "        vertical-align: top;\n",
       "    }\n",
       "\n",
       "    .dataframe thead th {\n",
       "        text-align: right;\n",
       "    }\n",
       "</style>\n",
       "<table border=\"1\" class=\"dataframe\">\n",
       "  <thead>\n",
       "    <tr style=\"text-align: right;\">\n",
       "      <th></th>\n",
       "      <th>User</th>\n",
       "      <th>Card</th>\n",
       "      <th>Year</th>\n",
       "      <th>Month</th>\n",
       "      <th>Day</th>\n",
       "      <th>Amount</th>\n",
       "      <th>Use Chip</th>\n",
       "      <th>Merchant City</th>\n",
       "      <th>Merchant State</th>\n",
       "      <th>Zip</th>\n",
       "      <th>MCC</th>\n",
       "      <th>Errors</th>\n",
       "      <th>IsFraud_target</th>\n",
       "      <th>Date</th>\n",
       "      <th>Dow</th>\n",
       "      <th>Hour</th>\n",
       "      <th>Minute</th>\n",
       "      <th>Outcome</th>\n",
       "      <th>Time_diff</th>\n",
       "      <th>is_diff_merchant</th>\n",
       "    </tr>\n",
       "  </thead>\n",
       "  <tbody>\n",
       "    <tr>\n",
       "      <th>0</th>\n",
       "      <td>791</td>\n",
       "      <td>1</td>\n",
       "      <td>1991</td>\n",
       "      <td>1</td>\n",
       "      <td>2</td>\n",
       "      <td>68.000000</td>\n",
       "      <td>Swipe Transaction</td>\n",
       "      <td>1</td>\n",
       "      <td>VA</td>\n",
       "      <td>22015.0</td>\n",
       "      <td>5541</td>\n",
       "      <td>Empty</td>\n",
       "      <td>1</td>\n",
       "      <td>1991-01-02 07:10:00</td>\n",
       "      <td>2</td>\n",
       "      <td>7</td>\n",
       "      <td>10</td>\n",
       "      <td>0</td>\n",
       "      <td>0</td>\n",
       "      <td>0</td>\n",
       "    </tr>\n",
       "    <tr>\n",
       "      <th>1</th>\n",
       "      <td>791</td>\n",
       "      <td>1</td>\n",
       "      <td>1991</td>\n",
       "      <td>1</td>\n",
       "      <td>2</td>\n",
       "      <td>-68.000000</td>\n",
       "      <td>Swipe Transaction</td>\n",
       "      <td>1</td>\n",
       "      <td>VA</td>\n",
       "      <td>22015.0</td>\n",
       "      <td>5541</td>\n",
       "      <td>Empty</td>\n",
       "      <td>1</td>\n",
       "      <td>1991-01-02 07:17:00</td>\n",
       "      <td>2</td>\n",
       "      <td>7</td>\n",
       "      <td>17</td>\n",
       "      <td>1</td>\n",
       "      <td>420</td>\n",
       "      <td>0</td>\n",
       "    </tr>\n",
       "    <tr>\n",
       "      <th>2</th>\n",
       "      <td>791</td>\n",
       "      <td>1</td>\n",
       "      <td>1991</td>\n",
       "      <td>1</td>\n",
       "      <td>2</td>\n",
       "      <td>113.620003</td>\n",
       "      <td>Swipe Transaction</td>\n",
       "      <td>1</td>\n",
       "      <td>VA</td>\n",
       "      <td>22015.0</td>\n",
       "      <td>5541</td>\n",
       "      <td>Empty</td>\n",
       "      <td>1</td>\n",
       "      <td>1991-01-02 07:21:00</td>\n",
       "      <td>2</td>\n",
       "      <td>7</td>\n",
       "      <td>21</td>\n",
       "      <td>0</td>\n",
       "      <td>240</td>\n",
       "      <td>0</td>\n",
       "    </tr>\n",
       "    <tr>\n",
       "      <th>3</th>\n",
       "      <td>791</td>\n",
       "      <td>1</td>\n",
       "      <td>1991</td>\n",
       "      <td>1</td>\n",
       "      <td>2</td>\n",
       "      <td>114.730003</td>\n",
       "      <td>Swipe Transaction</td>\n",
       "      <td>1</td>\n",
       "      <td>VA</td>\n",
       "      <td>22015.0</td>\n",
       "      <td>5411</td>\n",
       "      <td>Empty</td>\n",
       "      <td>1</td>\n",
       "      <td>1991-01-02 17:30:00</td>\n",
       "      <td>2</td>\n",
       "      <td>17</td>\n",
       "      <td>30</td>\n",
       "      <td>0</td>\n",
       "      <td>36540</td>\n",
       "      <td>1</td>\n",
       "    </tr>\n",
       "    <tr>\n",
       "      <th>4</th>\n",
       "      <td>791</td>\n",
       "      <td>1</td>\n",
       "      <td>1991</td>\n",
       "      <td>1</td>\n",
       "      <td>3</td>\n",
       "      <td>251.710007</td>\n",
       "      <td>Swipe Transaction</td>\n",
       "      <td>1</td>\n",
       "      <td>VA</td>\n",
       "      <td>22015.0</td>\n",
       "      <td>4814</td>\n",
       "      <td>Empty</td>\n",
       "      <td>1</td>\n",
       "      <td>1991-01-03 09:03:00</td>\n",
       "      <td>3</td>\n",
       "      <td>9</td>\n",
       "      <td>3</td>\n",
       "      <td>0</td>\n",
       "      <td>55980</td>\n",
       "      <td>1</td>\n",
       "    </tr>\n",
       "  </tbody>\n",
       "</table>\n",
       "</div>"
      ],
      "text/plain": [
       "   User  Card  Year  Month  Day      Amount           Use Chip Merchant City  \\\n",
       "0   791     1  1991      1    2   68.000000  Swipe Transaction             1   \n",
       "1   791     1  1991      1    2  -68.000000  Swipe Transaction             1   \n",
       "2   791     1  1991      1    2  113.620003  Swipe Transaction             1   \n",
       "3   791     1  1991      1    2  114.730003  Swipe Transaction             1   \n",
       "4   791     1  1991      1    3  251.710007  Swipe Transaction             1   \n",
       "\n",
       "  Merchant State      Zip   MCC Errors  IsFraud_target                Date  \\\n",
       "0             VA  22015.0  5541  Empty               1 1991-01-02 07:10:00   \n",
       "1             VA  22015.0  5541  Empty               1 1991-01-02 07:17:00   \n",
       "2             VA  22015.0  5541  Empty               1 1991-01-02 07:21:00   \n",
       "3             VA  22015.0  5411  Empty               1 1991-01-02 17:30:00   \n",
       "4             VA  22015.0  4814  Empty               1 1991-01-03 09:03:00   \n",
       "\n",
       "   Dow  Hour  Minute  Outcome  Time_diff  is_diff_merchant  \n",
       "0    2     7      10        0          0                 0  \n",
       "1    2     7      17        1        420                 0  \n",
       "2    2     7      21        0        240                 0  \n",
       "3    2    17      30        0      36540                 1  \n",
       "4    3     9       3        0      55980                 1  "
      ]
     },
     "execution_count": 56,
     "metadata": {},
     "output_type": "execute_result"
    }
   ],
   "source": [
    "df.head()"
   ]
  },
  {
   "cell_type": "code",
   "execution_count": 57,
   "metadata": {},
   "outputs": [
    {
     "data": {
      "text/plain": [
       "User\n",
       "0       CA\n",
       "1       NY\n",
       "2       CA\n",
       "3       NY\n",
       "6       KY\n",
       "        ..\n",
       "1995    NY\n",
       "1996    KY\n",
       "1997    NJ\n",
       "1998    PA\n",
       "1999    NH\n",
       "Name: Merchant State, Length: 1400, dtype: object"
      ]
     },
     "execution_count": 57,
     "metadata": {},
     "output_type": "execute_result"
    }
   ],
   "source": [
    "tmp = df.groupby(by='User')[\"Merchant State\"].agg(lambda x:x.value_counts().index[0])\n",
    "tmp"
   ]
  },
  {
   "cell_type": "code",
   "execution_count": 58,
   "metadata": {},
   "outputs": [
    {
     "data": {
      "application/vnd.jupyter.widget-view+json": {
       "model_id": "3a81a0c43f724396b0a9c5b6d4ff1700",
       "version_major": 2,
       "version_minor": 0
      },
      "text/plain": [
       "  0%|          | 0/1400 [00:00<?, ?it/s]"
      ]
     },
     "metadata": {},
     "output_type": "display_data"
    },
    {
     "name": "stdout",
     "output_type": "stream",
     "text": [
      "CPU times: user 4min 17s, sys: 2min 27s, total: 6min 45s\n",
      "Wall time: 6min 44s\n"
     ]
    }
   ],
   "source": [
    "%%time\n",
    "for user in tqdm(df.User.unique()):\n",
    "    df.loc[df.User==user, 'Merchant State'] = (df.loc[df.User==user, 'Merchant State'] == tmp[user]).astype(np.int8)"
   ]
  },
  {
   "cell_type": "markdown",
   "metadata": {},
   "source": [
    "### Casting and apply cyclic preprocessing"
   ]
  },
  {
   "cell_type": "code",
   "execution_count": 59,
   "metadata": {},
   "outputs": [],
   "source": [
    "cyclic_features = [\"Month\", \"Day\", \"Dow\", \"Hour\", \"Minute\"]"
   ]
  },
  {
   "cell_type": "code",
   "execution_count": 60,
   "metadata": {},
   "outputs": [],
   "source": [
    "def cyclic_preprocessing(X, col):\n",
    "    \"\"\"\n",
    "    Apply sin and cos transformation over cyclic variable\n",
    "    \"\"\"\n",
    "    x = X[col]\n",
    "    number_unique_values = len(x.unique())\n",
    "    sin = np.sin(2 * np.pi * x / number_unique_values)\n",
    "    cos = np.cos(2 * np.pi * x / number_unique_values)\n",
    "    return sin, cos"
   ]
  },
  {
   "cell_type": "code",
   "execution_count": 61,
   "metadata": {},
   "outputs": [],
   "source": [
    "def preprocces_cyclic_features(X, features):\n",
    "    for feature in features:\n",
    "        X[feature+'_sin'], X[feature+'_cos'] = cyclic_preprocessing(X, feature)\n",
    "        \n",
    "    X.drop(columns=features, inplace=True)\n",
    "    return X"
   ]
  },
  {
   "cell_type": "code",
   "execution_count": 62,
   "metadata": {},
   "outputs": [],
   "source": [
    "df = preprocces_cyclic_features(df, cyclic_features)"
   ]
  },
  {
   "cell_type": "code",
   "execution_count": 63,
   "metadata": {},
   "outputs": [
    {
     "data": {
      "text/html": [
       "<div>\n",
       "<style scoped>\n",
       "    .dataframe tbody tr th:only-of-type {\n",
       "        vertical-align: middle;\n",
       "    }\n",
       "\n",
       "    .dataframe tbody tr th {\n",
       "        vertical-align: top;\n",
       "    }\n",
       "\n",
       "    .dataframe thead th {\n",
       "        text-align: right;\n",
       "    }\n",
       "</style>\n",
       "<table border=\"1\" class=\"dataframe\">\n",
       "  <thead>\n",
       "    <tr style=\"text-align: right;\">\n",
       "      <th></th>\n",
       "      <th>User</th>\n",
       "      <th>Card</th>\n",
       "      <th>Year</th>\n",
       "      <th>Amount</th>\n",
       "      <th>Use Chip</th>\n",
       "      <th>Merchant City</th>\n",
       "      <th>Merchant State</th>\n",
       "      <th>Zip</th>\n",
       "      <th>MCC</th>\n",
       "      <th>Errors</th>\n",
       "      <th>...</th>\n",
       "      <th>Month_sin</th>\n",
       "      <th>Month_cos</th>\n",
       "      <th>Day_sin</th>\n",
       "      <th>Day_cos</th>\n",
       "      <th>Dow_sin</th>\n",
       "      <th>Dow_cos</th>\n",
       "      <th>Hour_sin</th>\n",
       "      <th>Hour_cos</th>\n",
       "      <th>Minute_sin</th>\n",
       "      <th>Minute_cos</th>\n",
       "    </tr>\n",
       "  </thead>\n",
       "  <tbody>\n",
       "    <tr>\n",
       "      <th>0</th>\n",
       "      <td>791</td>\n",
       "      <td>1</td>\n",
       "      <td>1991</td>\n",
       "      <td>68.000000</td>\n",
       "      <td>Swipe Transaction</td>\n",
       "      <td>1</td>\n",
       "      <td>1</td>\n",
       "      <td>22015.0</td>\n",
       "      <td>5541</td>\n",
       "      <td>Empty</td>\n",
       "      <td>...</td>\n",
       "      <td>0.5</td>\n",
       "      <td>0.866025</td>\n",
       "      <td>0.394356</td>\n",
       "      <td>0.918958</td>\n",
       "      <td>0.974928</td>\n",
       "      <td>-0.222521</td>\n",
       "      <td>0.965926</td>\n",
       "      <td>-0.258819</td>\n",
       "      <td>8.660254e-01</td>\n",
       "      <td>0.500000</td>\n",
       "    </tr>\n",
       "    <tr>\n",
       "      <th>1</th>\n",
       "      <td>791</td>\n",
       "      <td>1</td>\n",
       "      <td>1991</td>\n",
       "      <td>-68.000000</td>\n",
       "      <td>Swipe Transaction</td>\n",
       "      <td>1</td>\n",
       "      <td>1</td>\n",
       "      <td>22015.0</td>\n",
       "      <td>5541</td>\n",
       "      <td>Empty</td>\n",
       "      <td>...</td>\n",
       "      <td>0.5</td>\n",
       "      <td>0.866025</td>\n",
       "      <td>0.394356</td>\n",
       "      <td>0.918958</td>\n",
       "      <td>0.974928</td>\n",
       "      <td>-0.222521</td>\n",
       "      <td>0.965926</td>\n",
       "      <td>-0.258819</td>\n",
       "      <td>9.781476e-01</td>\n",
       "      <td>-0.207912</td>\n",
       "    </tr>\n",
       "    <tr>\n",
       "      <th>2</th>\n",
       "      <td>791</td>\n",
       "      <td>1</td>\n",
       "      <td>1991</td>\n",
       "      <td>113.620003</td>\n",
       "      <td>Swipe Transaction</td>\n",
       "      <td>1</td>\n",
       "      <td>1</td>\n",
       "      <td>22015.0</td>\n",
       "      <td>5541</td>\n",
       "      <td>Empty</td>\n",
       "      <td>...</td>\n",
       "      <td>0.5</td>\n",
       "      <td>0.866025</td>\n",
       "      <td>0.394356</td>\n",
       "      <td>0.918958</td>\n",
       "      <td>0.974928</td>\n",
       "      <td>-0.222521</td>\n",
       "      <td>0.965926</td>\n",
       "      <td>-0.258819</td>\n",
       "      <td>8.090170e-01</td>\n",
       "      <td>-0.587785</td>\n",
       "    </tr>\n",
       "    <tr>\n",
       "      <th>3</th>\n",
       "      <td>791</td>\n",
       "      <td>1</td>\n",
       "      <td>1991</td>\n",
       "      <td>114.730003</td>\n",
       "      <td>Swipe Transaction</td>\n",
       "      <td>1</td>\n",
       "      <td>1</td>\n",
       "      <td>22015.0</td>\n",
       "      <td>5411</td>\n",
       "      <td>Empty</td>\n",
       "      <td>...</td>\n",
       "      <td>0.5</td>\n",
       "      <td>0.866025</td>\n",
       "      <td>0.394356</td>\n",
       "      <td>0.918958</td>\n",
       "      <td>0.974928</td>\n",
       "      <td>-0.222521</td>\n",
       "      <td>-0.965926</td>\n",
       "      <td>-0.258819</td>\n",
       "      <td>5.665539e-16</td>\n",
       "      <td>-1.000000</td>\n",
       "    </tr>\n",
       "    <tr>\n",
       "      <th>4</th>\n",
       "      <td>791</td>\n",
       "      <td>1</td>\n",
       "      <td>1991</td>\n",
       "      <td>251.710007</td>\n",
       "      <td>Swipe Transaction</td>\n",
       "      <td>1</td>\n",
       "      <td>1</td>\n",
       "      <td>22015.0</td>\n",
       "      <td>4814</td>\n",
       "      <td>Empty</td>\n",
       "      <td>...</td>\n",
       "      <td>0.5</td>\n",
       "      <td>0.866025</td>\n",
       "      <td>0.571268</td>\n",
       "      <td>0.820763</td>\n",
       "      <td>0.433884</td>\n",
       "      <td>-0.900969</td>\n",
       "      <td>0.707107</td>\n",
       "      <td>-0.707107</td>\n",
       "      <td>3.090170e-01</td>\n",
       "      <td>0.951057</td>\n",
       "    </tr>\n",
       "  </tbody>\n",
       "</table>\n",
       "<p>5 rows × 25 columns</p>\n",
       "</div>"
      ],
      "text/plain": [
       "   User  Card  Year      Amount           Use Chip Merchant City  \\\n",
       "0   791     1  1991   68.000000  Swipe Transaction             1   \n",
       "1   791     1  1991  -68.000000  Swipe Transaction             1   \n",
       "2   791     1  1991  113.620003  Swipe Transaction             1   \n",
       "3   791     1  1991  114.730003  Swipe Transaction             1   \n",
       "4   791     1  1991  251.710007  Swipe Transaction             1   \n",
       "\n",
       "  Merchant State      Zip   MCC Errors  ...  Month_sin Month_cos   Day_sin  \\\n",
       "0              1  22015.0  5541  Empty  ...        0.5  0.866025  0.394356   \n",
       "1              1  22015.0  5541  Empty  ...        0.5  0.866025  0.394356   \n",
       "2              1  22015.0  5541  Empty  ...        0.5  0.866025  0.394356   \n",
       "3              1  22015.0  5411  Empty  ...        0.5  0.866025  0.394356   \n",
       "4              1  22015.0  4814  Empty  ...        0.5  0.866025  0.571268   \n",
       "\n",
       "    Day_cos   Dow_sin   Dow_cos  Hour_sin  Hour_cos    Minute_sin  Minute_cos  \n",
       "0  0.918958  0.974928 -0.222521  0.965926 -0.258819  8.660254e-01    0.500000  \n",
       "1  0.918958  0.974928 -0.222521  0.965926 -0.258819  9.781476e-01   -0.207912  \n",
       "2  0.918958  0.974928 -0.222521  0.965926 -0.258819  8.090170e-01   -0.587785  \n",
       "3  0.918958  0.974928 -0.222521 -0.965926 -0.258819  5.665539e-16   -1.000000  \n",
       "4  0.820763  0.433884 -0.900969  0.707107 -0.707107  3.090170e-01    0.951057  \n",
       "\n",
       "[5 rows x 25 columns]"
      ]
     },
     "execution_count": 63,
     "metadata": {},
     "output_type": "execute_result"
    }
   ],
   "source": [
    "df.head()"
   ]
  }
 ],
 "metadata": {
  "kernelspec": {
   "display_name": "Python 3",
   "language": "python",
   "name": "python3"
  },
  "language_info": {
   "codemirror_mode": {
    "name": "ipython",
    "version": 3
   },
   "file_extension": ".py",
   "mimetype": "text/x-python",
   "name": "python",
   "nbconvert_exporter": "python",
   "pygments_lexer": "ipython3",
   "version": "3.8.5"
  }
 },
 "nbformat": 4,
 "nbformat_minor": 4
}
