{
 "cells": [
  {
   "cell_type": "code",
   "execution_count": 1,
   "metadata": {},
   "outputs": [],
   "source": [
    "import gc\n",
    "import pandas as pd\n",
    "import numpy as np\n",
    "import matplotlib.pyplot as plt\n",
    "import seaborn as sns\n",
    "from sklearn.preprocessing import LabelEncoder\n",
    "from tqdm.notebook import tqdm"
   ]
  },
  {
   "cell_type": "markdown",
   "metadata": {},
   "source": [
    "## Load data"
   ]
  },
  {
   "cell_type": "code",
   "execution_count": 2,
   "metadata": {},
   "outputs": [],
   "source": [
    "DATA_PATH = './data/card_transaction.v1.csv'"
   ]
  },
  {
   "cell_type": "code",
   "execution_count": 3,
   "metadata": {},
   "outputs": [],
   "source": [
    "df = pd.read_csv(DATA_PATH)\n",
    "df.rename(columns={\"Errors?\":\"Errors\", \"Is Fraud?\": \"Fraud\"}, inplace=True)"
   ]
  },
  {
   "cell_type": "code",
   "execution_count": 4,
   "metadata": {},
   "outputs": [
    {
     "data": {
      "text/html": [
       "<div>\n",
       "<style scoped>\n",
       "    .dataframe tbody tr th:only-of-type {\n",
       "        vertical-align: middle;\n",
       "    }\n",
       "\n",
       "    .dataframe tbody tr th {\n",
       "        vertical-align: top;\n",
       "    }\n",
       "\n",
       "    .dataframe thead th {\n",
       "        text-align: right;\n",
       "    }\n",
       "</style>\n",
       "<table border=\"1\" class=\"dataframe\">\n",
       "  <thead>\n",
       "    <tr style=\"text-align: right;\">\n",
       "      <th></th>\n",
       "      <th>User</th>\n",
       "      <th>Card</th>\n",
       "      <th>Year</th>\n",
       "      <th>Month</th>\n",
       "      <th>Day</th>\n",
       "      <th>Time</th>\n",
       "      <th>Amount</th>\n",
       "      <th>Use Chip</th>\n",
       "      <th>Merchant Name</th>\n",
       "      <th>Merchant City</th>\n",
       "      <th>Merchant State</th>\n",
       "      <th>Zip</th>\n",
       "      <th>MCC</th>\n",
       "      <th>Errors</th>\n",
       "      <th>Fraud</th>\n",
       "    </tr>\n",
       "  </thead>\n",
       "  <tbody>\n",
       "    <tr>\n",
       "      <th>0</th>\n",
       "      <td>0</td>\n",
       "      <td>0</td>\n",
       "      <td>2002</td>\n",
       "      <td>9</td>\n",
       "      <td>1</td>\n",
       "      <td>06:21</td>\n",
       "      <td>$134.09</td>\n",
       "      <td>Swipe Transaction</td>\n",
       "      <td>3527213246127876953</td>\n",
       "      <td>La Verne</td>\n",
       "      <td>CA</td>\n",
       "      <td>91750.0</td>\n",
       "      <td>5300</td>\n",
       "      <td>NaN</td>\n",
       "      <td>No</td>\n",
       "    </tr>\n",
       "    <tr>\n",
       "      <th>1</th>\n",
       "      <td>0</td>\n",
       "      <td>0</td>\n",
       "      <td>2002</td>\n",
       "      <td>9</td>\n",
       "      <td>1</td>\n",
       "      <td>06:42</td>\n",
       "      <td>$38.48</td>\n",
       "      <td>Swipe Transaction</td>\n",
       "      <td>-727612092139916043</td>\n",
       "      <td>Monterey Park</td>\n",
       "      <td>CA</td>\n",
       "      <td>91754.0</td>\n",
       "      <td>5411</td>\n",
       "      <td>NaN</td>\n",
       "      <td>No</td>\n",
       "    </tr>\n",
       "    <tr>\n",
       "      <th>2</th>\n",
       "      <td>0</td>\n",
       "      <td>0</td>\n",
       "      <td>2002</td>\n",
       "      <td>9</td>\n",
       "      <td>2</td>\n",
       "      <td>06:22</td>\n",
       "      <td>$120.34</td>\n",
       "      <td>Swipe Transaction</td>\n",
       "      <td>-727612092139916043</td>\n",
       "      <td>Monterey Park</td>\n",
       "      <td>CA</td>\n",
       "      <td>91754.0</td>\n",
       "      <td>5411</td>\n",
       "      <td>NaN</td>\n",
       "      <td>No</td>\n",
       "    </tr>\n",
       "    <tr>\n",
       "      <th>3</th>\n",
       "      <td>0</td>\n",
       "      <td>0</td>\n",
       "      <td>2002</td>\n",
       "      <td>9</td>\n",
       "      <td>2</td>\n",
       "      <td>17:45</td>\n",
       "      <td>$128.95</td>\n",
       "      <td>Swipe Transaction</td>\n",
       "      <td>3414527459579106770</td>\n",
       "      <td>Monterey Park</td>\n",
       "      <td>CA</td>\n",
       "      <td>91754.0</td>\n",
       "      <td>5651</td>\n",
       "      <td>NaN</td>\n",
       "      <td>No</td>\n",
       "    </tr>\n",
       "    <tr>\n",
       "      <th>4</th>\n",
       "      <td>0</td>\n",
       "      <td>0</td>\n",
       "      <td>2002</td>\n",
       "      <td>9</td>\n",
       "      <td>3</td>\n",
       "      <td>06:23</td>\n",
       "      <td>$104.71</td>\n",
       "      <td>Swipe Transaction</td>\n",
       "      <td>5817218446178736267</td>\n",
       "      <td>La Verne</td>\n",
       "      <td>CA</td>\n",
       "      <td>91750.0</td>\n",
       "      <td>5912</td>\n",
       "      <td>NaN</td>\n",
       "      <td>No</td>\n",
       "    </tr>\n",
       "  </tbody>\n",
       "</table>\n",
       "</div>"
      ],
      "text/plain": [
       "   User  Card  Year  Month  Day   Time   Amount           Use Chip  \\\n",
       "0     0     0  2002      9    1  06:21  $134.09  Swipe Transaction   \n",
       "1     0     0  2002      9    1  06:42   $38.48  Swipe Transaction   \n",
       "2     0     0  2002      9    2  06:22  $120.34  Swipe Transaction   \n",
       "3     0     0  2002      9    2  17:45  $128.95  Swipe Transaction   \n",
       "4     0     0  2002      9    3  06:23  $104.71  Swipe Transaction   \n",
       "\n",
       "         Merchant Name  Merchant City Merchant State      Zip   MCC Errors  \\\n",
       "0  3527213246127876953       La Verne             CA  91750.0  5300    NaN   \n",
       "1  -727612092139916043  Monterey Park             CA  91754.0  5411    NaN   \n",
       "2  -727612092139916043  Monterey Park             CA  91754.0  5411    NaN   \n",
       "3  3414527459579106770  Monterey Park             CA  91754.0  5651    NaN   \n",
       "4  5817218446178736267       La Verne             CA  91750.0  5912    NaN   \n",
       "\n",
       "  Fraud  \n",
       "0    No  \n",
       "1    No  \n",
       "2    No  \n",
       "3    No  \n",
       "4    No  "
      ]
     },
     "execution_count": 4,
     "metadata": {},
     "output_type": "execute_result"
    }
   ],
   "source": [
    "df.head()"
   ]
  },
  {
   "cell_type": "code",
   "execution_count": 5,
   "metadata": {},
   "outputs": [
    {
     "name": "stderr",
     "output_type": "stream",
     "text": [
      "<ipython-input-5-9ed154b522da>:1: FutureWarning: null_counts is deprecated. Use show_counts instead\n",
      "  df.info(null_counts=True, memory_usage=True)\n"
     ]
    },
    {
     "name": "stdout",
     "output_type": "stream",
     "text": [
      "<class 'pandas.core.frame.DataFrame'>\n",
      "RangeIndex: 24386900 entries, 0 to 24386899\n",
      "Data columns (total 15 columns):\n",
      " #   Column          Non-Null Count     Dtype  \n",
      "---  ------          --------------     -----  \n",
      " 0   User            24386900 non-null  int64  \n",
      " 1   Card            24386900 non-null  int64  \n",
      " 2   Year            24386900 non-null  int64  \n",
      " 3   Month           24386900 non-null  int64  \n",
      " 4   Day             24386900 non-null  int64  \n",
      " 5   Time            24386900 non-null  object \n",
      " 6   Amount          24386900 non-null  object \n",
      " 7   Use Chip        24386900 non-null  object \n",
      " 8   Merchant Name   24386900 non-null  int64  \n",
      " 9   Merchant City   24386900 non-null  object \n",
      " 10  Merchant State  21666079 non-null  object \n",
      " 11  Zip             21508765 non-null  float64\n",
      " 12  MCC             24386900 non-null  int64  \n",
      " 13  Errors          388431 non-null    object \n",
      " 14  Fraud           24386900 non-null  object \n",
      "dtypes: float64(1), int64(7), object(7)\n",
      "memory usage: 2.7+ GB\n"
     ]
    }
   ],
   "source": [
    "df.info(null_counts=True, memory_usage=True)"
   ]
  },
  {
   "cell_type": "code",
   "execution_count": 6,
   "metadata": {},
   "outputs": [
    {
     "name": "stdout",
     "output_type": "stream",
     "text": [
      "CPU times: user 37.7 s, sys: 4.45 s, total: 42.1 s\n",
      "Wall time: 42 s\n"
     ]
    }
   ],
   "source": [
    "%%time\n",
    "df[\"Date\"] = df.Year.astype(str)+\"-\"+df.Month.astype(str)+\"-\"+df.Day.astype(str) + \" \" + df.Time"
   ]
  },
  {
   "cell_type": "markdown",
   "metadata": {},
   "source": [
    "## Casting dataset to decrease a size in RAM"
   ]
  },
  {
   "cell_type": "code",
   "execution_count": 7,
   "metadata": {},
   "outputs": [
    {
     "name": "stdout",
     "output_type": "stream",
     "text": [
      "CPU times: user 26.1 s, sys: 3.02 s, total: 29.1 s\n",
      "Wall time: 29.1 s\n"
     ]
    }
   ],
   "source": [
    "%%time\n",
    "df.User = df.User.astype(np.int16)\n",
    "df.Card = df.Card.astype(np.int8)\n",
    "df.Year = df.Year.astype(np.int16)\n",
    "df.Month = df.Month.astype(np.int8)\n",
    "df.Day = df.Day.astype(np.int8)\n",
    "df.Amount = df.Amount.str.strip(\"$\").astype(np.float32)\n",
    "df.Zip = df.Zip.astype(np.float32)\n",
    "df.MCC = df.MCC.astype(np.int16)\n",
    "df.Errors = df.Errors.fillna(\"Empty\")\n",
    "df.Fraud = df.Fraud.map({\"Yes\":1, \"No\":0}).astype(np.int8)\n",
    "df[\"Date\"] = pd.to_datetime(df.Date, format='%Y-%m-%d %H:%M')\n",
    "df[\"Dow\"] = df.Date.dt.dayofweek\n",
    "df[\"Hour\"] = df.Time.apply(lambda x: x.split(\":\")[0]).astype(np.int8)\n",
    "df[\"Minute\"] = df.Time.apply(lambda x: x.split(\":\")[1]).astype(np.int8)\n",
    "df[\"Outcome\"] = (df.Amount<0).astype(np.int8)"
   ]
  },
  {
   "cell_type": "code",
   "execution_count": 8,
   "metadata": {},
   "outputs": [
    {
     "name": "stderr",
     "output_type": "stream",
     "text": [
      "<ipython-input-8-9ed154b522da>:1: FutureWarning: null_counts is deprecated. Use show_counts instead\n",
      "  df.info(null_counts=True, memory_usage=True)\n"
     ]
    },
    {
     "name": "stdout",
     "output_type": "stream",
     "text": [
      "<class 'pandas.core.frame.DataFrame'>\n",
      "RangeIndex: 24386900 entries, 0 to 24386899\n",
      "Data columns (total 20 columns):\n",
      " #   Column          Non-Null Count     Dtype         \n",
      "---  ------          --------------     -----         \n",
      " 0   User            24386900 non-null  int16         \n",
      " 1   Card            24386900 non-null  int8          \n",
      " 2   Year            24386900 non-null  int16         \n",
      " 3   Month           24386900 non-null  int8          \n",
      " 4   Day             24386900 non-null  int8          \n",
      " 5   Time            24386900 non-null  object        \n",
      " 6   Amount          24386900 non-null  float32       \n",
      " 7   Use Chip        24386900 non-null  object        \n",
      " 8   Merchant Name   24386900 non-null  int64         \n",
      " 9   Merchant City   24386900 non-null  object        \n",
      " 10  Merchant State  21666079 non-null  object        \n",
      " 11  Zip             21508765 non-null  float32       \n",
      " 12  MCC             24386900 non-null  int16         \n",
      " 13  Errors          24386900 non-null  object        \n",
      " 14  Fraud           24386900 non-null  int8          \n",
      " 15  Date            24386900 non-null  datetime64[ns]\n",
      " 16  Dow             24386900 non-null  int64         \n",
      " 17  Hour            24386900 non-null  int8          \n",
      " 18  Minute          24386900 non-null  int8          \n",
      " 19  Outcome         24386900 non-null  int8          \n",
      "dtypes: datetime64[ns](1), float32(2), int16(3), int64(2), int8(7), object(5)\n",
      "memory usage: 1.9+ GB\n"
     ]
    }
   ],
   "source": [
    "df.info(null_counts=True, memory_usage=True)"
   ]
  },
  {
   "cell_type": "code",
   "execution_count": 9,
   "metadata": {},
   "outputs": [
    {
     "data": {
      "text/plain": [
       "54"
      ]
     },
     "execution_count": 9,
     "metadata": {},
     "output_type": "execute_result"
    }
   ],
   "source": [
    "gc.collect()"
   ]
  },
  {
   "cell_type": "code",
   "execution_count": 10,
   "metadata": {},
   "outputs": [],
   "source": [
    "df.sort_values(by='Date', inplace=True,ignore_index=True)\n",
    "df[\"Time_diff\"] = df.groupby(by='User').Date.diff()\n",
    "df[\"Time_diff\"].fillna(pd.Timedelta(seconds=0), inplace=True)\n",
    "df[\"Time_diff\"] = df[\"Time_diff\"].apply(lambda x: x.seconds)"
   ]
  },
  {
   "cell_type": "markdown",
   "metadata": {},
   "source": [
    "## Descriptive statistics"
   ]
  },
  {
   "cell_type": "code",
   "execution_count": 11,
   "metadata": {},
   "outputs": [
    {
     "data": {
      "text/plain": [
       "User                    0\n",
       "Card                    0\n",
       "Year                    0\n",
       "Month                   0\n",
       "Day                     0\n",
       "Time                    0\n",
       "Amount                  0\n",
       "Use Chip                0\n",
       "Merchant Name           0\n",
       "Merchant City           0\n",
       "Merchant State    2720821\n",
       "Zip               2878135\n",
       "MCC                     0\n",
       "Errors                  0\n",
       "Fraud                   0\n",
       "Date                    0\n",
       "Dow                     0\n",
       "Hour                    0\n",
       "Minute                  0\n",
       "Outcome                 0\n",
       "Time_diff               0\n",
       "dtype: int64"
      ]
     },
     "execution_count": 11,
     "metadata": {},
     "output_type": "execute_result"
    }
   ],
   "source": [
    "df.isna().sum(axis=0)"
   ]
  },
  {
   "cell_type": "code",
   "execution_count": 12,
   "metadata": {},
   "outputs": [
    {
     "data": {
      "text/plain": [
       "User                 2000\n",
       "Card                    9\n",
       "Year                   30\n",
       "Month                  12\n",
       "Day                    31\n",
       "Time                 1440\n",
       "Amount              98952\n",
       "Use Chip                3\n",
       "Merchant Name      100343\n",
       "Merchant City       13429\n",
       "Merchant State        223\n",
       "Zip                 27321\n",
       "MCC                   109\n",
       "Errors                 24\n",
       "Fraud                   2\n",
       "Date              7859684\n",
       "Dow                     7\n",
       "Hour                   24\n",
       "Minute                 60\n",
       "Outcome                 2\n",
       "Time_diff            1440\n",
       "dtype: int64"
      ]
     },
     "execution_count": 12,
     "metadata": {},
     "output_type": "execute_result"
    }
   ],
   "source": [
    "df.nunique()"
   ]
  },
  {
   "cell_type": "markdown",
   "metadata": {},
   "source": [
    "## Along features"
   ]
  },
  {
   "cell_type": "markdown",
   "metadata": {},
   "source": [
    "#### Users"
   ]
  },
  {
   "cell_type": "code",
   "execution_count": 13,
   "metadata": {},
   "outputs": [
    {
     "data": {
      "text/plain": [
       "486     82355\n",
       "396     80749\n",
       "332     70010\n",
       "262     68089\n",
       "1249    65644\n",
       "        ...  \n",
       "457        25\n",
       "231        21\n",
       "1367       20\n",
       "1767       16\n",
       "1817       15\n",
       "Name: User, Length: 2000, dtype: int64"
      ]
     },
     "execution_count": 13,
     "metadata": {},
     "output_type": "execute_result"
    }
   ],
   "source": [
    "df.User.value_counts()"
   ]
  },
  {
   "cell_type": "code",
   "execution_count": 14,
   "metadata": {},
   "outputs": [
    {
     "data": {
      "text/html": [
       "<div>\n",
       "<style scoped>\n",
       "    .dataframe tbody tr th:only-of-type {\n",
       "        vertical-align: middle;\n",
       "    }\n",
       "\n",
       "    .dataframe tbody tr th {\n",
       "        vertical-align: top;\n",
       "    }\n",
       "\n",
       "    .dataframe thead th {\n",
       "        text-align: right;\n",
       "    }\n",
       "</style>\n",
       "<table border=\"1\" class=\"dataframe\">\n",
       "  <thead>\n",
       "    <tr style=\"text-align: right;\">\n",
       "      <th></th>\n",
       "      <th>count</th>\n",
       "      <th>mean</th>\n",
       "      <th>sum</th>\n",
       "    </tr>\n",
       "    <tr>\n",
       "      <th>User</th>\n",
       "      <th></th>\n",
       "      <th></th>\n",
       "      <th></th>\n",
       "    </tr>\n",
       "  </thead>\n",
       "  <tbody>\n",
       "    <tr>\n",
       "      <th>486</th>\n",
       "      <td>82355</td>\n",
       "      <td>0.000607</td>\n",
       "      <td>50</td>\n",
       "    </tr>\n",
       "    <tr>\n",
       "      <th>396</th>\n",
       "      <td>80749</td>\n",
       "      <td>0.000111</td>\n",
       "      <td>9</td>\n",
       "    </tr>\n",
       "    <tr>\n",
       "      <th>332</th>\n",
       "      <td>70010</td>\n",
       "      <td>0.000243</td>\n",
       "      <td>17</td>\n",
       "    </tr>\n",
       "    <tr>\n",
       "      <th>262</th>\n",
       "      <td>68089</td>\n",
       "      <td>0.000896</td>\n",
       "      <td>61</td>\n",
       "    </tr>\n",
       "    <tr>\n",
       "      <th>1249</th>\n",
       "      <td>65644</td>\n",
       "      <td>0.000518</td>\n",
       "      <td>34</td>\n",
       "    </tr>\n",
       "    <tr>\n",
       "      <th>...</th>\n",
       "      <td>...</td>\n",
       "      <td>...</td>\n",
       "      <td>...</td>\n",
       "    </tr>\n",
       "    <tr>\n",
       "      <th>457</th>\n",
       "      <td>25</td>\n",
       "      <td>0.000000</td>\n",
       "      <td>0</td>\n",
       "    </tr>\n",
       "    <tr>\n",
       "      <th>231</th>\n",
       "      <td>21</td>\n",
       "      <td>0.000000</td>\n",
       "      <td>0</td>\n",
       "    </tr>\n",
       "    <tr>\n",
       "      <th>1367</th>\n",
       "      <td>20</td>\n",
       "      <td>0.000000</td>\n",
       "      <td>0</td>\n",
       "    </tr>\n",
       "    <tr>\n",
       "      <th>1767</th>\n",
       "      <td>16</td>\n",
       "      <td>0.000000</td>\n",
       "      <td>0</td>\n",
       "    </tr>\n",
       "    <tr>\n",
       "      <th>1817</th>\n",
       "      <td>15</td>\n",
       "      <td>0.000000</td>\n",
       "      <td>0</td>\n",
       "    </tr>\n",
       "  </tbody>\n",
       "</table>\n",
       "<p>2000 rows × 3 columns</p>\n",
       "</div>"
      ],
      "text/plain": [
       "      count      mean  sum\n",
       "User                      \n",
       "486   82355  0.000607   50\n",
       "396   80749  0.000111    9\n",
       "332   70010  0.000243   17\n",
       "262   68089  0.000896   61\n",
       "1249  65644  0.000518   34\n",
       "...     ...       ...  ...\n",
       "457      25  0.000000    0\n",
       "231      21  0.000000    0\n",
       "1367     20  0.000000    0\n",
       "1767     16  0.000000    0\n",
       "1817     15  0.000000    0\n",
       "\n",
       "[2000 rows x 3 columns]"
      ]
     },
     "execution_count": 14,
     "metadata": {},
     "output_type": "execute_result"
    }
   ],
   "source": [
    "df.groupby(by='User').Fraud.agg(['count', 'mean', 'sum']).sort_values(by='count', ascending=False)"
   ]
  },
  {
   "cell_type": "markdown",
   "metadata": {},
   "source": [
    "* Here is 2000 users with different number of observations for each user. Max observation number is 82355, min 15\n",
    "* Among rare users almost no any fraud event detected"
   ]
  },
  {
   "cell_type": "markdown",
   "metadata": {},
   "source": [
    "#### Cards"
   ]
  },
  {
   "cell_type": "code",
   "execution_count": 15,
   "metadata": {},
   "outputs": [
    {
     "data": {
      "text/plain": [
       "array([1, 2, 4, 5, 0, 3, 6, 7, 8], dtype=int8)"
      ]
     },
     "execution_count": 15,
     "metadata": {},
     "output_type": "execute_result"
    }
   ],
   "source": [
    "df.Card.unique()"
   ]
  },
  {
   "cell_type": "code",
   "execution_count": 16,
   "metadata": {},
   "outputs": [
    {
     "data": {
      "text/plain": [
       "0    8696411\n",
       "1    6493597\n",
       "2    4305594\n",
       "3    2790785\n",
       "4    1309120\n",
       "5     563097\n",
       "6     176729\n",
       "7      46383\n",
       "8       5184\n",
       "Name: Card, dtype: int64"
      ]
     },
     "execution_count": 16,
     "metadata": {},
     "output_type": "execute_result"
    }
   ],
   "source": [
    "df.Card.value_counts()"
   ]
  },
  {
   "cell_type": "code",
   "execution_count": 17,
   "metadata": {},
   "outputs": [
    {
     "data": {
      "text/html": [
       "<div>\n",
       "<style scoped>\n",
       "    .dataframe tbody tr th:only-of-type {\n",
       "        vertical-align: middle;\n",
       "    }\n",
       "\n",
       "    .dataframe tbody tr th {\n",
       "        vertical-align: top;\n",
       "    }\n",
       "\n",
       "    .dataframe thead th {\n",
       "        text-align: right;\n",
       "    }\n",
       "</style>\n",
       "<table border=\"1\" class=\"dataframe\">\n",
       "  <thead>\n",
       "    <tr style=\"text-align: right;\">\n",
       "      <th></th>\n",
       "      <th>count</th>\n",
       "      <th>mean</th>\n",
       "      <th>sum</th>\n",
       "    </tr>\n",
       "    <tr>\n",
       "      <th>Card</th>\n",
       "      <th></th>\n",
       "      <th></th>\n",
       "      <th></th>\n",
       "    </tr>\n",
       "  </thead>\n",
       "  <tbody>\n",
       "    <tr>\n",
       "      <th>0</th>\n",
       "      <td>8696411</td>\n",
       "      <td>0.000994</td>\n",
       "      <td>8644.0</td>\n",
       "    </tr>\n",
       "    <tr>\n",
       "      <th>1</th>\n",
       "      <td>6493597</td>\n",
       "      <td>0.001157</td>\n",
       "      <td>7514.0</td>\n",
       "    </tr>\n",
       "    <tr>\n",
       "      <th>2</th>\n",
       "      <td>4305594</td>\n",
       "      <td>0.001349</td>\n",
       "      <td>5807.0</td>\n",
       "    </tr>\n",
       "    <tr>\n",
       "      <th>3</th>\n",
       "      <td>2790785</td>\n",
       "      <td>0.001482</td>\n",
       "      <td>4135.0</td>\n",
       "    </tr>\n",
       "    <tr>\n",
       "      <th>4</th>\n",
       "      <td>1309120</td>\n",
       "      <td>0.001648</td>\n",
       "      <td>2157.0</td>\n",
       "    </tr>\n",
       "    <tr>\n",
       "      <th>5</th>\n",
       "      <td>563097</td>\n",
       "      <td>0.001804</td>\n",
       "      <td>1016.0</td>\n",
       "    </tr>\n",
       "    <tr>\n",
       "      <th>6</th>\n",
       "      <td>176729</td>\n",
       "      <td>0.001980</td>\n",
       "      <td>350.0</td>\n",
       "    </tr>\n",
       "    <tr>\n",
       "      <th>7</th>\n",
       "      <td>46383</td>\n",
       "      <td>0.002350</td>\n",
       "      <td>109.0</td>\n",
       "    </tr>\n",
       "    <tr>\n",
       "      <th>8</th>\n",
       "      <td>5184</td>\n",
       "      <td>0.004823</td>\n",
       "      <td>25.0</td>\n",
       "    </tr>\n",
       "  </tbody>\n",
       "</table>\n",
       "</div>"
      ],
      "text/plain": [
       "        count      mean     sum\n",
       "Card                           \n",
       "0     8696411  0.000994  8644.0\n",
       "1     6493597  0.001157  7514.0\n",
       "2     4305594  0.001349  5807.0\n",
       "3     2790785  0.001482  4135.0\n",
       "4     1309120  0.001648  2157.0\n",
       "5      563097  0.001804  1016.0\n",
       "6      176729  0.001980   350.0\n",
       "7       46383  0.002350   109.0\n",
       "8        5184  0.004823    25.0"
      ]
     },
     "execution_count": 17,
     "metadata": {},
     "output_type": "execute_result"
    }
   ],
   "source": [
    "df.groupby(by='Card').Fraud.agg(['count', 'mean', 'sum']).sort_values(by='count', ascending=False)"
   ]
  },
  {
   "cell_type": "code",
   "execution_count": 18,
   "metadata": {},
   "outputs": [
    {
     "data": {
      "text/html": [
       "<div>\n",
       "<style scoped>\n",
       "    .dataframe tbody tr th:only-of-type {\n",
       "        vertical-align: middle;\n",
       "    }\n",
       "\n",
       "    .dataframe tbody tr th {\n",
       "        vertical-align: top;\n",
       "    }\n",
       "\n",
       "    .dataframe thead th {\n",
       "        text-align: right;\n",
       "    }\n",
       "</style>\n",
       "<table border=\"1\" class=\"dataframe\">\n",
       "  <thead>\n",
       "    <tr style=\"text-align: right;\">\n",
       "      <th></th>\n",
       "      <th></th>\n",
       "      <th>count</th>\n",
       "      <th>mean</th>\n",
       "      <th>sum</th>\n",
       "    </tr>\n",
       "    <tr>\n",
       "      <th>User</th>\n",
       "      <th>Card</th>\n",
       "      <th></th>\n",
       "      <th></th>\n",
       "      <th></th>\n",
       "    </tr>\n",
       "  </thead>\n",
       "  <tbody>\n",
       "    <tr>\n",
       "      <th>396</th>\n",
       "      <th>1</th>\n",
       "      <td>70008</td>\n",
       "      <td>0.000100</td>\n",
       "      <td>7</td>\n",
       "    </tr>\n",
       "    <tr>\n",
       "      <th>1080</th>\n",
       "      <th>0</th>\n",
       "      <td>65325</td>\n",
       "      <td>0.000061</td>\n",
       "      <td>4</td>\n",
       "    </tr>\n",
       "    <tr>\n",
       "      <th>1888</th>\n",
       "      <th>0</th>\n",
       "      <td>53720</td>\n",
       "      <td>0.000168</td>\n",
       "      <td>9</td>\n",
       "    </tr>\n",
       "    <tr>\n",
       "      <th>1671</th>\n",
       "      <th>0</th>\n",
       "      <td>49261</td>\n",
       "      <td>0.000305</td>\n",
       "      <td>15</td>\n",
       "    </tr>\n",
       "    <tr>\n",
       "      <th>486</th>\n",
       "      <th>4</th>\n",
       "      <td>48278</td>\n",
       "      <td>0.000104</td>\n",
       "      <td>5</td>\n",
       "    </tr>\n",
       "    <tr>\n",
       "      <th>...</th>\n",
       "      <th>...</th>\n",
       "      <td>...</td>\n",
       "      <td>...</td>\n",
       "      <td>...</td>\n",
       "    </tr>\n",
       "    <tr>\n",
       "      <th>454</th>\n",
       "      <th>1</th>\n",
       "      <td>4</td>\n",
       "      <td>0.000000</td>\n",
       "      <td>0</td>\n",
       "    </tr>\n",
       "    <tr>\n",
       "      <th>511</th>\n",
       "      <th>5</th>\n",
       "      <td>3</td>\n",
       "      <td>0.000000</td>\n",
       "      <td>0</td>\n",
       "    </tr>\n",
       "    <tr>\n",
       "      <th>1283</th>\n",
       "      <th>2</th>\n",
       "      <td>2</td>\n",
       "      <td>0.000000</td>\n",
       "      <td>0</td>\n",
       "    </tr>\n",
       "    <tr>\n",
       "      <th>235</th>\n",
       "      <th>2</th>\n",
       "      <td>1</td>\n",
       "      <td>0.000000</td>\n",
       "      <td>0</td>\n",
       "    </tr>\n",
       "    <tr>\n",
       "      <th>255</th>\n",
       "      <th>3</th>\n",
       "      <td>1</td>\n",
       "      <td>0.000000</td>\n",
       "      <td>0</td>\n",
       "    </tr>\n",
       "  </tbody>\n",
       "</table>\n",
       "<p>6139 rows × 3 columns</p>\n",
       "</div>"
      ],
      "text/plain": [
       "           count      mean  sum\n",
       "User Card                      \n",
       "396  1     70008  0.000100    7\n",
       "1080 0     65325  0.000061    4\n",
       "1888 0     53720  0.000168    9\n",
       "1671 0     49261  0.000305   15\n",
       "486  4     48278  0.000104    5\n",
       "...          ...       ...  ...\n",
       "454  1         4  0.000000    0\n",
       "511  5         3  0.000000    0\n",
       "1283 2         2  0.000000    0\n",
       "235  2         1  0.000000    0\n",
       "255  3         1  0.000000    0\n",
       "\n",
       "[6139 rows x 3 columns]"
      ]
     },
     "execution_count": 18,
     "metadata": {},
     "output_type": "execute_result"
    }
   ],
   "source": [
    "df.groupby(by=['User','Card']).Fraud.agg(['count', 'mean', 'sum']).sort_values(by='count', ascending=False)"
   ]
  },
  {
   "cell_type": "markdown",
   "metadata": {},
   "source": [
    "* Here is 9 different types of card. \n",
    "* Some users have several cards\n",
    "* Fraud level is slightly increase with level of card"
   ]
  },
  {
   "cell_type": "markdown",
   "metadata": {},
   "source": [
    "#### Year"
   ]
  },
  {
   "cell_type": "code",
   "execution_count": 19,
   "metadata": {},
   "outputs": [
    {
     "data": {
      "text/plain": [
       "array([1991, 1992, 1993, 1994, 1995, 1996, 1997, 1998, 1999, 2000, 2001,\n",
       "       2002, 2003, 2004, 2005, 2006, 2007, 2008, 2009, 2010, 2011, 2012,\n",
       "       2013, 2014, 2015, 2016, 2017, 2018, 2019, 2020], dtype=int16)"
      ]
     },
     "execution_count": 19,
     "metadata": {},
     "output_type": "execute_result"
    }
   ],
   "source": [
    "np.sort(df.Year.unique())"
   ]
  },
  {
   "cell_type": "code",
   "execution_count": 20,
   "metadata": {},
   "outputs": [
    {
     "data": {
      "text/plain": [
       "Year\n",
       "1991       1585\n",
       "1992       5134\n",
       "1993       8378\n",
       "1994      14316\n",
       "1995      20928\n",
       "1996      29945\n",
       "1997      49753\n",
       "1998      78345\n",
       "1999     118250\n",
       "2000     177729\n",
       "2001     257998\n",
       "2002     350732\n",
       "2003     466408\n",
       "2004     597003\n",
       "2005     746653\n",
       "2006     908793\n",
       "2007    1064483\n",
       "2008    1223460\n",
       "2009    1355434\n",
       "2010    1491225\n",
       "2011    1570551\n",
       "2012    1610829\n",
       "2013    1650917\n",
       "2014    1672343\n",
       "2015    1701371\n",
       "2016    1708924\n",
       "2017    1723360\n",
       "2018    1721615\n",
       "2019    1723938\n",
       "2020     336500\n",
       "Name: User, dtype: int64"
      ]
     },
     "execution_count": 20,
     "metadata": {},
     "output_type": "execute_result"
    },
    {
     "data": {
      "image/png": "[encoded data removed]",
      "text/plain": [
       "<Figure size 432x288 with 1 Axes>"
      ]
     },
     "metadata": {
      "needs_background": "light"
     },
     "output_type": "display_data"
    }
   ],
   "source": [
    "tmp = df.groupby(by=[\"Year\"]).User.count()\n",
    "\n",
    "plt.plot(tmp.index,tmp.values, label='count')\n",
    "plt.title(\"Number of transaction per year\")\n",
    "plt.xlabel(\"Year\")\n",
    "plt.ylabel(\"Count\")\n",
    "tmp"
   ]
  },
  {
   "cell_type": "code",
   "execution_count": 21,
   "metadata": {},
   "outputs": [
    {
     "data": {
      "text/plain": [
       "1991      3\n",
       "1992      2\n",
       "1993      5\n",
       "1994      8\n",
       "1995      7\n",
       "1996     17\n",
       "1997     27\n",
       "1998     38\n",
       "1999     55\n",
       "2000     61\n",
       "2001     97\n",
       "2002    112\n",
       "2003    118\n",
       "2004    138\n",
       "2005    139\n",
       "2006    140\n",
       "2007    139\n",
       "2008    131\n",
       "2009     97\n",
       "2010     89\n",
       "2011     48\n",
       "2012     26\n",
       "2013     22\n",
       "2014     19\n",
       "2015     23\n",
       "2016     15\n",
       "2017     14\n",
       "2018     16\n",
       "2019     51\n",
       "2020    343\n",
       "Name: Year, dtype: int64"
      ]
     },
     "execution_count": 21,
     "metadata": {},
     "output_type": "execute_result"
    },
    {
     "data": {
      "image/png": "[encoded data removed]",
      "text/plain": [
       "<Figure size 432x288 with 1 Axes>"
      ]
     },
     "metadata": {
      "needs_background": "light"
     },
     "output_type": "display_data"
    }
   ],
   "source": [
    "# Number of new users per Year\n",
    "tmp = df.groupby(by='User').Year.min().value_counts().sort_index()\n",
    "\n",
    "plt.plot(tmp.index,tmp.values, label='count')\n",
    "plt.title(\"Number of new user per year\")\n",
    "plt.xlabel(\"Year\")\n",
    "plt.ylabel(\"Count\")\n",
    "\n",
    "tmp"
   ]
  },
  {
   "cell_type": "code",
   "execution_count": 22,
   "metadata": {},
   "outputs": [],
   "source": [
    "tmp1=df.groupby(by='User').Year.min().value_counts().sort_index()\n",
    "tmp2=df.groupby(by='Year').Fraud.sum().sort_index()\n",
    "tmp3=df.groupby(by=[\"Year\"]).User.count()\n",
    "tmp = pd.DataFrame()\n",
    "tmp['n_new_user'] = tmp1\n",
    "tmp['n_fraud'] = tmp2\n",
    "tmp['n_transaction'] = tmp3"
   ]
  },
  {
   "cell_type": "code",
   "execution_count": 23,
   "metadata": {},
   "outputs": [],
   "source": [
    "tmp = tmp/tmp.max()"
   ]
  },
  {
   "cell_type": "code",
   "execution_count": 24,
   "metadata": {},
   "outputs": [
    {
     "data": {
      "image/png": "[encoded data removed]",
      "text/plain": [
       "<Figure size 432x288 with 1 Axes>"
      ]
     },
     "metadata": {
      "needs_background": "light"
     },
     "output_type": "display_data"
    }
   ],
   "source": [
    "plt.plot(tmp.index,tmp.n_new_user.values, label='n_new_user')\n",
    "plt.plot(tmp.index,tmp.n_fraud.values, label='n_fraud')\n",
    "plt.plot(tmp.index,tmp.n_transaction.values, label='n_transaction')\n",
    "plt.xlabel(\"Year\")\n",
    "plt.ylabel(\"Proportion\")\n",
    "plt.legend();"
   ]
  },
  {
   "cell_type": "markdown",
   "metadata": {},
   "source": [
    "* Here is data which take place since 1991 up to 2020\n",
    "* Number of users in dataset increase to 2020 year. Last year is not full in data term\n",
    "* More transaction - more fraud (Your Capitan :D)\n",
    "* Since 2005 there is lot of fraud in data\n",
    "* If number of new users drop - number of fraud drops also. Probably some people use face accounts to retrieve benefits"
   ]
  },
  {
   "cell_type": "code",
   "execution_count": 25,
   "metadata": {},
   "outputs": [
    {
     "data": {
      "text/html": [
       "<div>\n",
       "<style scoped>\n",
       "    .dataframe tbody tr th:only-of-type {\n",
       "        vertical-align: middle;\n",
       "    }\n",
       "\n",
       "    .dataframe tbody tr th {\n",
       "        vertical-align: top;\n",
       "    }\n",
       "\n",
       "    .dataframe thead th {\n",
       "        text-align: right;\n",
       "    }\n",
       "</style>\n",
       "<table border=\"1\" class=\"dataframe\">\n",
       "  <thead>\n",
       "    <tr style=\"text-align: right;\">\n",
       "      <th></th>\n",
       "      <th>User</th>\n",
       "      <th>Card</th>\n",
       "      <th>Year</th>\n",
       "      <th>Month</th>\n",
       "      <th>Day</th>\n",
       "      <th>Time</th>\n",
       "      <th>Amount</th>\n",
       "      <th>Use Chip</th>\n",
       "      <th>Merchant Name</th>\n",
       "      <th>Merchant City</th>\n",
       "      <th>...</th>\n",
       "      <th>Zip</th>\n",
       "      <th>MCC</th>\n",
       "      <th>Errors</th>\n",
       "      <th>Fraud</th>\n",
       "      <th>Date</th>\n",
       "      <th>Dow</th>\n",
       "      <th>Hour</th>\n",
       "      <th>Minute</th>\n",
       "      <th>Outcome</th>\n",
       "      <th>Time_diff</th>\n",
       "    </tr>\n",
       "  </thead>\n",
       "  <tbody>\n",
       "    <tr>\n",
       "      <th>0</th>\n",
       "      <td>791</td>\n",
       "      <td>1</td>\n",
       "      <td>1991</td>\n",
       "      <td>1</td>\n",
       "      <td>2</td>\n",
       "      <td>07:10</td>\n",
       "      <td>68.000000</td>\n",
       "      <td>Swipe Transaction</td>\n",
       "      <td>2027553650310142703</td>\n",
       "      <td>Burke</td>\n",
       "      <td>...</td>\n",
       "      <td>22015.0</td>\n",
       "      <td>5541</td>\n",
       "      <td>Empty</td>\n",
       "      <td>0</td>\n",
       "      <td>1991-01-02 07:10:00</td>\n",
       "      <td>2</td>\n",
       "      <td>7</td>\n",
       "      <td>10</td>\n",
       "      <td>0</td>\n",
       "      <td>0</td>\n",
       "    </tr>\n",
       "    <tr>\n",
       "      <th>1</th>\n",
       "      <td>791</td>\n",
       "      <td>1</td>\n",
       "      <td>1991</td>\n",
       "      <td>1</td>\n",
       "      <td>2</td>\n",
       "      <td>07:17</td>\n",
       "      <td>-68.000000</td>\n",
       "      <td>Swipe Transaction</td>\n",
       "      <td>2027553650310142703</td>\n",
       "      <td>Burke</td>\n",
       "      <td>...</td>\n",
       "      <td>22015.0</td>\n",
       "      <td>5541</td>\n",
       "      <td>Empty</td>\n",
       "      <td>0</td>\n",
       "      <td>1991-01-02 07:17:00</td>\n",
       "      <td>2</td>\n",
       "      <td>7</td>\n",
       "      <td>17</td>\n",
       "      <td>1</td>\n",
       "      <td>420</td>\n",
       "    </tr>\n",
       "    <tr>\n",
       "      <th>2</th>\n",
       "      <td>791</td>\n",
       "      <td>1</td>\n",
       "      <td>1991</td>\n",
       "      <td>1</td>\n",
       "      <td>2</td>\n",
       "      <td>07:21</td>\n",
       "      <td>113.620003</td>\n",
       "      <td>Swipe Transaction</td>\n",
       "      <td>2027553650310142703</td>\n",
       "      <td>Burke</td>\n",
       "      <td>...</td>\n",
       "      <td>22015.0</td>\n",
       "      <td>5541</td>\n",
       "      <td>Empty</td>\n",
       "      <td>0</td>\n",
       "      <td>1991-01-02 07:21:00</td>\n",
       "      <td>2</td>\n",
       "      <td>7</td>\n",
       "      <td>21</td>\n",
       "      <td>0</td>\n",
       "      <td>240</td>\n",
       "    </tr>\n",
       "    <tr>\n",
       "      <th>3</th>\n",
       "      <td>791</td>\n",
       "      <td>1</td>\n",
       "      <td>1991</td>\n",
       "      <td>1</td>\n",
       "      <td>2</td>\n",
       "      <td>17:30</td>\n",
       "      <td>114.730003</td>\n",
       "      <td>Swipe Transaction</td>\n",
       "      <td>-7269691894846892021</td>\n",
       "      <td>Burke</td>\n",
       "      <td>...</td>\n",
       "      <td>22015.0</td>\n",
       "      <td>5411</td>\n",
       "      <td>Empty</td>\n",
       "      <td>0</td>\n",
       "      <td>1991-01-02 17:30:00</td>\n",
       "      <td>2</td>\n",
       "      <td>17</td>\n",
       "      <td>30</td>\n",
       "      <td>0</td>\n",
       "      <td>36540</td>\n",
       "    </tr>\n",
       "    <tr>\n",
       "      <th>4</th>\n",
       "      <td>791</td>\n",
       "      <td>1</td>\n",
       "      <td>1991</td>\n",
       "      <td>1</td>\n",
       "      <td>3</td>\n",
       "      <td>09:03</td>\n",
       "      <td>251.710007</td>\n",
       "      <td>Swipe Transaction</td>\n",
       "      <td>-3693650930986299431</td>\n",
       "      <td>Burke</td>\n",
       "      <td>...</td>\n",
       "      <td>22015.0</td>\n",
       "      <td>4814</td>\n",
       "      <td>Empty</td>\n",
       "      <td>0</td>\n",
       "      <td>1991-01-03 09:03:00</td>\n",
       "      <td>3</td>\n",
       "      <td>9</td>\n",
       "      <td>3</td>\n",
       "      <td>0</td>\n",
       "      <td>55980</td>\n",
       "    </tr>\n",
       "  </tbody>\n",
       "</table>\n",
       "<p>5 rows × 21 columns</p>\n",
       "</div>"
      ],
      "text/plain": [
       "   User  Card  Year  Month  Day   Time      Amount           Use Chip  \\\n",
       "0   791     1  1991      1    2  07:10   68.000000  Swipe Transaction   \n",
       "1   791     1  1991      1    2  07:17  -68.000000  Swipe Transaction   \n",
       "2   791     1  1991      1    2  07:21  113.620003  Swipe Transaction   \n",
       "3   791     1  1991      1    2  17:30  114.730003  Swipe Transaction   \n",
       "4   791     1  1991      1    3  09:03  251.710007  Swipe Transaction   \n",
       "\n",
       "         Merchant Name Merchant City  ...      Zip   MCC  Errors Fraud  \\\n",
       "0  2027553650310142703         Burke  ...  22015.0  5541   Empty     0   \n",
       "1  2027553650310142703         Burke  ...  22015.0  5541   Empty     0   \n",
       "2  2027553650310142703         Burke  ...  22015.0  5541   Empty     0   \n",
       "3 -7269691894846892021         Burke  ...  22015.0  5411   Empty     0   \n",
       "4 -3693650930986299431         Burke  ...  22015.0  4814   Empty     0   \n",
       "\n",
       "                 Date Dow  Hour  Minute  Outcome  Time_diff  \n",
       "0 1991-01-02 07:10:00   2     7      10        0          0  \n",
       "1 1991-01-02 07:17:00   2     7      17        1        420  \n",
       "2 1991-01-02 07:21:00   2     7      21        0        240  \n",
       "3 1991-01-02 17:30:00   2    17      30        0      36540  \n",
       "4 1991-01-03 09:03:00   3     9       3        0      55980  \n",
       "\n",
       "[5 rows x 21 columns]"
      ]
     },
     "execution_count": 25,
     "metadata": {},
     "output_type": "execute_result"
    }
   ],
   "source": [
    "df.head()"
   ]
  },
  {
   "cell_type": "markdown",
   "metadata": {},
   "source": [
    "#### Month"
   ]
  },
  {
   "cell_type": "code",
   "execution_count": 26,
   "metadata": {},
   "outputs": [
    {
     "data": {
      "text/plain": [
       "Month\n",
       "1     2302.0\n",
       "2     2320.0\n",
       "3     2608.0\n",
       "4     2430.0\n",
       "5     2481.0\n",
       "6     2166.0\n",
       "7     2332.0\n",
       "8     2721.0\n",
       "9     2373.0\n",
       "10    2666.0\n",
       "11    2635.0\n",
       "12    2723.0\n",
       "Name: Fraud, dtype: float64"
      ]
     },
     "execution_count": 26,
     "metadata": {},
     "output_type": "execute_result"
    }
   ],
   "source": [
    "df.groupby(by='Month').Fraud.sum()"
   ]
  },
  {
   "cell_type": "code",
   "execution_count": 27,
   "metadata": {},
   "outputs": [],
   "source": [
    "df[\"Year_month\"]=df.Year.astype(np.float32)*100+df.Month"
   ]
  },
  {
   "cell_type": "code",
   "execution_count": 28,
   "metadata": {},
   "outputs": [
    {
     "data": {
      "text/plain": [
       "Text(0, 0.5, 'Fraud')"
      ]
     },
     "execution_count": 28,
     "metadata": {},
     "output_type": "execute_result"
    },
    {
     "data": {
      "image/png": "[encoded data removed]",
      "text/plain": [
       "<Figure size 432x288 with 1 Axes>"
      ]
     },
     "metadata": {
      "needs_background": "light"
     },
     "output_type": "display_data"
    }
   ],
   "source": [
    "tmp = df.groupby(by='Year_month').Fraud.sum().sort_index()\n",
    "plt.plot(tmp.index, tmp);\n",
    "plt.title(\"Fraud per months\")\n",
    "plt.xlabel(\"Year-month\")\n",
    "plt.ylabel(\"Fraud\")"
   ]
  },
  {
   "cell_type": "markdown",
   "metadata": {},
   "source": [
    "* Here is the same level of fraud during months\n",
    "* In trend here is a lot of seasonality"
   ]
  },
  {
   "cell_type": "markdown",
   "metadata": {},
   "source": [
    "#### Day and DoW"
   ]
  },
  {
   "cell_type": "code",
   "execution_count": 29,
   "metadata": {},
   "outputs": [
    {
     "data": {
      "text/plain": [
       "<AxesSubplot:xlabel='Day'>"
      ]
     },
     "execution_count": 29,
     "metadata": {},
     "output_type": "execute_result"
    },
    {
     "data": {
      "image/png": "[encoded data removed]",
      "text/plain": [
       "<Figure size 432x288 with 1 Axes>"
      ]
     },
     "metadata": {
      "needs_background": "light"
     },
     "output_type": "display_data"
    }
   ],
   "source": [
    "df.groupby(by='Day').Fraud.sum().plot()"
   ]
  },
  {
   "cell_type": "code",
   "execution_count": 30,
   "metadata": {},
   "outputs": [
    {
     "data": {
      "text/plain": [
       "<AxesSubplot:xlabel='Dow'>"
      ]
     },
     "execution_count": 30,
     "metadata": {},
     "output_type": "execute_result"
    },
    {
     "data": {
      "image/png": "[encoded data removed]",
      "text/plain": [
       "<Figure size 432x288 with 1 Axes>"
      ]
     },
     "metadata": {
      "needs_background": "light"
     },
     "output_type": "display_data"
    }
   ],
   "source": [
    "df.groupby(by='Dow').Fraud.sum().plot()"
   ]
  },
  {
   "cell_type": "markdown",
   "metadata": {},
   "source": [
    "* Much more fraud happens on Tursday, Friday and Sunday.\n",
    "* In data here is also some seasonality during the month. Probably it is day's periodic"
   ]
  },
  {
   "cell_type": "markdown",
   "metadata": {},
   "source": [
    "#### Amount"
   ]
  },
  {
   "cell_type": "code",
   "execution_count": 31,
   "metadata": {},
   "outputs": [
    {
     "data": {
      "text/plain": [
       "(108.590866, 71.02)"
      ]
     },
     "execution_count": 31,
     "metadata": {},
     "output_type": "execute_result"
    }
   ],
   "source": [
    "df[df.Fraud==1].Amount.mean(), df[df.Fraud==1].Amount.median()"
   ]
  },
  {
   "cell_type": "code",
   "execution_count": 32,
   "metadata": {},
   "outputs": [
    {
     "data": {
      "text/plain": [
       "(-212.0, 500.0)"
      ]
     },
     "execution_count": 32,
     "metadata": {},
     "output_type": "execute_result"
    }
   ],
   "source": [
    "df[df.Fraud==1].Amount.quantile(0.025) ,df[df.Fraud==1].Amount.quantile(0.975)"
   ]
  },
  {
   "cell_type": "code",
   "execution_count": 33,
   "metadata": {},
   "outputs": [
    {
     "data": {
      "text/plain": [
       "(43.554657, 30.11)"
      ]
     },
     "execution_count": 33,
     "metadata": {},
     "output_type": "execute_result"
    }
   ],
   "source": [
    "df[df.Fraud==0].Amount.mean(), df[df.Fraud==0].Amount.median()"
   ]
  },
  {
   "cell_type": "code",
   "execution_count": 34,
   "metadata": {},
   "outputs": [
    {
     "data": {
      "text/plain": [
       "(-79.0, 198.27000427246094)"
      ]
     },
     "execution_count": 34,
     "metadata": {},
     "output_type": "execute_result"
    }
   ],
   "source": [
    "df[df.Fraud==0].Amount.quantile(0.025) ,df[df.Fraud==0].Amount.quantile(0.975)"
   ]
  },
  {
   "cell_type": "code",
   "execution_count": 35,
   "metadata": {},
   "outputs": [],
   "source": [
    "bins = pd.IntervalIndex.from_tuples([(-np.inf, -213), (-213, -80), (-80, -1), (-1, 198), (198, 500), (500, np.inf)])\n",
    "df[\"Amount_cat\"] = pd.cut(df.Amount, bins=bins, labels=False)\n",
    "df[\"Amount_cat\"] = LabelEncoder().fit_transform(df[\"Amount_cat\"])"
   ]
  },
  {
   "cell_type": "code",
   "execution_count": 36,
   "metadata": {},
   "outputs": [
    {
     "data": {
      "text/plain": [
       "<AxesSubplot:xlabel='Amount_cat', ylabel='count'>"
      ]
     },
     "execution_count": 36,
     "metadata": {},
     "output_type": "execute_result"
    },
    {
     "data": {
      "image/png": "[encoded data removed]",
      "text/plain": [
       "<Figure size 1152x720 with 2 Axes>"
      ]
     },
     "metadata": {
      "needs_background": "light"
     },
     "output_type": "display_data"
    }
   ],
   "source": [
    "fig, ax = plt.subplots(1,2,figsize=(16,10))\n",
    "sns.countplot(data=df, x='Outcome', hue='Fraud', ax=ax[0])\n",
    "sns.countplot(data=df, x='Amount_cat', hue='Fraud', ax=ax[1])"
   ]
  },
  {
   "cell_type": "code",
   "execution_count": 37,
   "metadata": {},
   "outputs": [
    {
     "data": {
      "text/html": [
       "<div>\n",
       "<style scoped>\n",
       "    .dataframe tbody tr th:only-of-type {\n",
       "        vertical-align: middle;\n",
       "    }\n",
       "\n",
       "    .dataframe tbody tr th {\n",
       "        vertical-align: top;\n",
       "    }\n",
       "\n",
       "    .dataframe thead th {\n",
       "        text-align: right;\n",
       "    }\n",
       "</style>\n",
       "<table border=\"1\" class=\"dataframe\">\n",
       "  <thead>\n",
       "    <tr style=\"text-align: right;\">\n",
       "      <th>Fraud</th>\n",
       "      <th>0</th>\n",
       "      <th>1</th>\n",
       "    </tr>\n",
       "    <tr>\n",
       "      <th>Amount_cat</th>\n",
       "      <th></th>\n",
       "      <th></th>\n",
       "    </tr>\n",
       "  </thead>\n",
       "  <tbody>\n",
       "    <tr>\n",
       "      <th>0</th>\n",
       "      <td>106859</td>\n",
       "      <td>743</td>\n",
       "    </tr>\n",
       "    <tr>\n",
       "      <th>1</th>\n",
       "      <td>492209</td>\n",
       "      <td>350</td>\n",
       "    </tr>\n",
       "    <tr>\n",
       "      <th>2</th>\n",
       "      <td>644328</td>\n",
       "      <td>32</td>\n",
       "    </tr>\n",
       "    <tr>\n",
       "      <th>3</th>\n",
       "      <td>22503272</td>\n",
       "      <td>23545</td>\n",
       "    </tr>\n",
       "    <tr>\n",
       "      <th>4</th>\n",
       "      <td>531943</td>\n",
       "      <td>4348</td>\n",
       "    </tr>\n",
       "    <tr>\n",
       "      <th>5</th>\n",
       "      <td>78532</td>\n",
       "      <td>739</td>\n",
       "    </tr>\n",
       "  </tbody>\n",
       "</table>\n",
       "</div>"
      ],
      "text/plain": [
       "Fraud              0      1\n",
       "Amount_cat                 \n",
       "0             106859    743\n",
       "1             492209    350\n",
       "2             644328     32\n",
       "3           22503272  23545\n",
       "4             531943   4348\n",
       "5              78532    739"
      ]
     },
     "execution_count": 37,
     "metadata": {},
     "output_type": "execute_result"
    }
   ],
   "source": [
    "pd.crosstab(df.Amount_cat, df.Fraud)"
   ]
  },
  {
   "cell_type": "code",
   "execution_count": 38,
   "metadata": {},
   "outputs": [
    {
     "data": {
      "text/html": [
       "<div>\n",
       "<style scoped>\n",
       "    .dataframe tbody tr th:only-of-type {\n",
       "        vertical-align: middle;\n",
       "    }\n",
       "\n",
       "    .dataframe tbody tr th {\n",
       "        vertical-align: top;\n",
       "    }\n",
       "\n",
       "    .dataframe thead th {\n",
       "        text-align: right;\n",
       "    }\n",
       "</style>\n",
       "<table border=\"1\" class=\"dataframe\">\n",
       "  <thead>\n",
       "    <tr style=\"text-align: right;\">\n",
       "      <th></th>\n",
       "      <th>User</th>\n",
       "      <th>Card</th>\n",
       "      <th>Year</th>\n",
       "      <th>Month</th>\n",
       "      <th>Day</th>\n",
       "      <th>Time</th>\n",
       "      <th>Amount</th>\n",
       "      <th>Use Chip</th>\n",
       "      <th>Merchant Name</th>\n",
       "      <th>Merchant City</th>\n",
       "      <th>...</th>\n",
       "      <th>Errors</th>\n",
       "      <th>Fraud</th>\n",
       "      <th>Date</th>\n",
       "      <th>Dow</th>\n",
       "      <th>Hour</th>\n",
       "      <th>Minute</th>\n",
       "      <th>Outcome</th>\n",
       "      <th>Time_diff</th>\n",
       "      <th>Year_month</th>\n",
       "      <th>Amount_cat</th>\n",
       "    </tr>\n",
       "  </thead>\n",
       "  <tbody>\n",
       "    <tr>\n",
       "      <th>0</th>\n",
       "      <td>791</td>\n",
       "      <td>1</td>\n",
       "      <td>1991</td>\n",
       "      <td>1</td>\n",
       "      <td>2</td>\n",
       "      <td>07:10</td>\n",
       "      <td>68.000000</td>\n",
       "      <td>Swipe Transaction</td>\n",
       "      <td>2027553650310142703</td>\n",
       "      <td>Burke</td>\n",
       "      <td>...</td>\n",
       "      <td>Empty</td>\n",
       "      <td>0</td>\n",
       "      <td>1991-01-02 07:10:00</td>\n",
       "      <td>2</td>\n",
       "      <td>7</td>\n",
       "      <td>10</td>\n",
       "      <td>0</td>\n",
       "      <td>0</td>\n",
       "      <td>199101.0</td>\n",
       "      <td>3</td>\n",
       "    </tr>\n",
       "    <tr>\n",
       "      <th>1</th>\n",
       "      <td>791</td>\n",
       "      <td>1</td>\n",
       "      <td>1991</td>\n",
       "      <td>1</td>\n",
       "      <td>2</td>\n",
       "      <td>07:17</td>\n",
       "      <td>-68.000000</td>\n",
       "      <td>Swipe Transaction</td>\n",
       "      <td>2027553650310142703</td>\n",
       "      <td>Burke</td>\n",
       "      <td>...</td>\n",
       "      <td>Empty</td>\n",
       "      <td>0</td>\n",
       "      <td>1991-01-02 07:17:00</td>\n",
       "      <td>2</td>\n",
       "      <td>7</td>\n",
       "      <td>17</td>\n",
       "      <td>1</td>\n",
       "      <td>420</td>\n",
       "      <td>199101.0</td>\n",
       "      <td>2</td>\n",
       "    </tr>\n",
       "    <tr>\n",
       "      <th>2</th>\n",
       "      <td>791</td>\n",
       "      <td>1</td>\n",
       "      <td>1991</td>\n",
       "      <td>1</td>\n",
       "      <td>2</td>\n",
       "      <td>07:21</td>\n",
       "      <td>113.620003</td>\n",
       "      <td>Swipe Transaction</td>\n",
       "      <td>2027553650310142703</td>\n",
       "      <td>Burke</td>\n",
       "      <td>...</td>\n",
       "      <td>Empty</td>\n",
       "      <td>0</td>\n",
       "      <td>1991-01-02 07:21:00</td>\n",
       "      <td>2</td>\n",
       "      <td>7</td>\n",
       "      <td>21</td>\n",
       "      <td>0</td>\n",
       "      <td>240</td>\n",
       "      <td>199101.0</td>\n",
       "      <td>3</td>\n",
       "    </tr>\n",
       "    <tr>\n",
       "      <th>3</th>\n",
       "      <td>791</td>\n",
       "      <td>1</td>\n",
       "      <td>1991</td>\n",
       "      <td>1</td>\n",
       "      <td>2</td>\n",
       "      <td>17:30</td>\n",
       "      <td>114.730003</td>\n",
       "      <td>Swipe Transaction</td>\n",
       "      <td>-7269691894846892021</td>\n",
       "      <td>Burke</td>\n",
       "      <td>...</td>\n",
       "      <td>Empty</td>\n",
       "      <td>0</td>\n",
       "      <td>1991-01-02 17:30:00</td>\n",
       "      <td>2</td>\n",
       "      <td>17</td>\n",
       "      <td>30</td>\n",
       "      <td>0</td>\n",
       "      <td>36540</td>\n",
       "      <td>199101.0</td>\n",
       "      <td>3</td>\n",
       "    </tr>\n",
       "    <tr>\n",
       "      <th>4</th>\n",
       "      <td>791</td>\n",
       "      <td>1</td>\n",
       "      <td>1991</td>\n",
       "      <td>1</td>\n",
       "      <td>3</td>\n",
       "      <td>09:03</td>\n",
       "      <td>251.710007</td>\n",
       "      <td>Swipe Transaction</td>\n",
       "      <td>-3693650930986299431</td>\n",
       "      <td>Burke</td>\n",
       "      <td>...</td>\n",
       "      <td>Empty</td>\n",
       "      <td>0</td>\n",
       "      <td>1991-01-03 09:03:00</td>\n",
       "      <td>3</td>\n",
       "      <td>9</td>\n",
       "      <td>3</td>\n",
       "      <td>0</td>\n",
       "      <td>55980</td>\n",
       "      <td>199101.0</td>\n",
       "      <td>4</td>\n",
       "    </tr>\n",
       "  </tbody>\n",
       "</table>\n",
       "<p>5 rows × 23 columns</p>\n",
       "</div>"
      ],
      "text/plain": [
       "   User  Card  Year  Month  Day   Time      Amount           Use Chip  \\\n",
       "0   791     1  1991      1    2  07:10   68.000000  Swipe Transaction   \n",
       "1   791     1  1991      1    2  07:17  -68.000000  Swipe Transaction   \n",
       "2   791     1  1991      1    2  07:21  113.620003  Swipe Transaction   \n",
       "3   791     1  1991      1    2  17:30  114.730003  Swipe Transaction   \n",
       "4   791     1  1991      1    3  09:03  251.710007  Swipe Transaction   \n",
       "\n",
       "         Merchant Name Merchant City  ... Errors  Fraud                Date  \\\n",
       "0  2027553650310142703         Burke  ...  Empty      0 1991-01-02 07:10:00   \n",
       "1  2027553650310142703         Burke  ...  Empty      0 1991-01-02 07:17:00   \n",
       "2  2027553650310142703         Burke  ...  Empty      0 1991-01-02 07:21:00   \n",
       "3 -7269691894846892021         Burke  ...  Empty      0 1991-01-02 17:30:00   \n",
       "4 -3693650930986299431         Burke  ...  Empty      0 1991-01-03 09:03:00   \n",
       "\n",
       "  Dow  Hour Minute  Outcome  Time_diff  Year_month  Amount_cat  \n",
       "0   2     7     10        0          0    199101.0           3  \n",
       "1   2     7     17        1        420    199101.0           2  \n",
       "2   2     7     21        0        240    199101.0           3  \n",
       "3   2    17     30        0      36540    199101.0           3  \n",
       "4   3     9      3        0      55980    199101.0           4  \n",
       "\n",
       "[5 rows x 23 columns]"
      ]
     },
     "execution_count": 38,
     "metadata": {},
     "output_type": "execute_result"
    }
   ],
   "source": [
    "df.head()"
   ]
  },
  {
   "cell_type": "markdown",
   "metadata": {},
   "source": [
    "#### Use Chip"
   ]
  },
  {
   "cell_type": "code",
   "execution_count": 39,
   "metadata": {},
   "outputs": [
    {
     "data": {
      "text/plain": [
       "<AxesSubplot:xlabel='Use Chip', ylabel='count'>"
      ]
     },
     "execution_count": 39,
     "metadata": {},
     "output_type": "execute_result"
    },
    {
     "data": {
      "image/png": "[encoded data removed]",
      "text/plain": [
       "<Figure size 432x288 with 1 Axes>"
      ]
     },
     "metadata": {
      "needs_background": "light"
     },
     "output_type": "display_data"
    }
   ],
   "source": [
    "sns.countplot(data=df, x='Use Chip', hue='Fraud')"
   ]
  },
  {
   "cell_type": "code",
   "execution_count": 40,
   "metadata": {},
   "outputs": [],
   "source": [
    "df[\"Use Chip\"] = LabelEncoder().fit_transform(df[\"Use Chip\"]).astype(np.int8)"
   ]
  },
  {
   "cell_type": "code",
   "execution_count": 41,
   "metadata": {},
   "outputs": [],
   "source": [
    "columns_to_drop = []\n",
    "columns_to_drop.append(\"Year\")\n",
    "columns_to_drop.append(\"Time\")\n",
    "columns_to_drop.append(\"Amount\")\n",
    "columns_to_drop.append(\"Year_month\")"
   ]
  },
  {
   "cell_type": "code",
   "execution_count": 42,
   "metadata": {},
   "outputs": [],
   "source": [
    "df.drop(columns=columns_to_drop, inplace=True)"
   ]
  },
  {
   "cell_type": "code",
   "execution_count": 43,
   "metadata": {},
   "outputs": [
    {
     "data": {
      "text/plain": [
       "array([' ONLINE'], dtype=object)"
      ]
     },
     "execution_count": 43,
     "metadata": {},
     "output_type": "execute_result"
    }
   ],
   "source": [
    "df[df[\"Merchant State\"].isnull()][\"Merchant City\"].unique()"
   ]
  },
  {
   "cell_type": "code",
   "execution_count": 44,
   "metadata": {},
   "outputs": [
    {
     "data": {
      "text/plain": [
       "0"
      ]
     },
     "execution_count": 44,
     "metadata": {},
     "output_type": "execute_result"
    }
   ],
   "source": [
    "df[df[\"Merchant City\"]!=\" ONLINE\"][\"Merchant State\"].isnull().sum()"
   ]
  },
  {
   "cell_type": "code",
   "execution_count": 45,
   "metadata": {},
   "outputs": [],
   "source": [
    "df[\"Merchant State\"].fillna(\"ONLINE\", inplace=True)"
   ]
  },
  {
   "cell_type": "code",
   "execution_count": 46,
   "metadata": {},
   "outputs": [
    {
     "data": {
      "text/html": [
       "<div>\n",
       "<style scoped>\n",
       "    .dataframe tbody tr th:only-of-type {\n",
       "        vertical-align: middle;\n",
       "    }\n",
       "\n",
       "    .dataframe tbody tr th {\n",
       "        vertical-align: top;\n",
       "    }\n",
       "\n",
       "    .dataframe thead th {\n",
       "        text-align: right;\n",
       "    }\n",
       "</style>\n",
       "<table border=\"1\" class=\"dataframe\">\n",
       "  <thead>\n",
       "    <tr style=\"text-align: right;\">\n",
       "      <th></th>\n",
       "      <th>User</th>\n",
       "      <th>Card</th>\n",
       "      <th>Month</th>\n",
       "      <th>Day</th>\n",
       "      <th>Use Chip</th>\n",
       "      <th>Merchant Name</th>\n",
       "      <th>Merchant City</th>\n",
       "      <th>Merchant State</th>\n",
       "      <th>Zip</th>\n",
       "      <th>MCC</th>\n",
       "      <th>Errors</th>\n",
       "      <th>Fraud</th>\n",
       "      <th>Date</th>\n",
       "      <th>Dow</th>\n",
       "      <th>Hour</th>\n",
       "      <th>Minute</th>\n",
       "      <th>Outcome</th>\n",
       "      <th>Time_diff</th>\n",
       "      <th>Amount_cat</th>\n",
       "    </tr>\n",
       "  </thead>\n",
       "  <tbody>\n",
       "    <tr>\n",
       "      <th>0</th>\n",
       "      <td>791</td>\n",
       "      <td>1</td>\n",
       "      <td>1</td>\n",
       "      <td>2</td>\n",
       "      <td>2</td>\n",
       "      <td>2027553650310142703</td>\n",
       "      <td>Burke</td>\n",
       "      <td>VA</td>\n",
       "      <td>22015.0</td>\n",
       "      <td>5541</td>\n",
       "      <td>Empty</td>\n",
       "      <td>0</td>\n",
       "      <td>1991-01-02 07:10:00</td>\n",
       "      <td>2</td>\n",
       "      <td>7</td>\n",
       "      <td>10</td>\n",
       "      <td>0</td>\n",
       "      <td>0</td>\n",
       "      <td>3</td>\n",
       "    </tr>\n",
       "    <tr>\n",
       "      <th>1</th>\n",
       "      <td>791</td>\n",
       "      <td>1</td>\n",
       "      <td>1</td>\n",
       "      <td>2</td>\n",
       "      <td>2</td>\n",
       "      <td>2027553650310142703</td>\n",
       "      <td>Burke</td>\n",
       "      <td>VA</td>\n",
       "      <td>22015.0</td>\n",
       "      <td>5541</td>\n",
       "      <td>Empty</td>\n",
       "      <td>0</td>\n",
       "      <td>1991-01-02 07:17:00</td>\n",
       "      <td>2</td>\n",
       "      <td>7</td>\n",
       "      <td>17</td>\n",
       "      <td>1</td>\n",
       "      <td>420</td>\n",
       "      <td>2</td>\n",
       "    </tr>\n",
       "    <tr>\n",
       "      <th>2</th>\n",
       "      <td>791</td>\n",
       "      <td>1</td>\n",
       "      <td>1</td>\n",
       "      <td>2</td>\n",
       "      <td>2</td>\n",
       "      <td>2027553650310142703</td>\n",
       "      <td>Burke</td>\n",
       "      <td>VA</td>\n",
       "      <td>22015.0</td>\n",
       "      <td>5541</td>\n",
       "      <td>Empty</td>\n",
       "      <td>0</td>\n",
       "      <td>1991-01-02 07:21:00</td>\n",
       "      <td>2</td>\n",
       "      <td>7</td>\n",
       "      <td>21</td>\n",
       "      <td>0</td>\n",
       "      <td>240</td>\n",
       "      <td>3</td>\n",
       "    </tr>\n",
       "    <tr>\n",
       "      <th>3</th>\n",
       "      <td>791</td>\n",
       "      <td>1</td>\n",
       "      <td>1</td>\n",
       "      <td>2</td>\n",
       "      <td>2</td>\n",
       "      <td>-7269691894846892021</td>\n",
       "      <td>Burke</td>\n",
       "      <td>VA</td>\n",
       "      <td>22015.0</td>\n",
       "      <td>5411</td>\n",
       "      <td>Empty</td>\n",
       "      <td>0</td>\n",
       "      <td>1991-01-02 17:30:00</td>\n",
       "      <td>2</td>\n",
       "      <td>17</td>\n",
       "      <td>30</td>\n",
       "      <td>0</td>\n",
       "      <td>36540</td>\n",
       "      <td>3</td>\n",
       "    </tr>\n",
       "    <tr>\n",
       "      <th>4</th>\n",
       "      <td>791</td>\n",
       "      <td>1</td>\n",
       "      <td>1</td>\n",
       "      <td>3</td>\n",
       "      <td>2</td>\n",
       "      <td>-3693650930986299431</td>\n",
       "      <td>Burke</td>\n",
       "      <td>VA</td>\n",
       "      <td>22015.0</td>\n",
       "      <td>4814</td>\n",
       "      <td>Empty</td>\n",
       "      <td>0</td>\n",
       "      <td>1991-01-03 09:03:00</td>\n",
       "      <td>3</td>\n",
       "      <td>9</td>\n",
       "      <td>3</td>\n",
       "      <td>0</td>\n",
       "      <td>55980</td>\n",
       "      <td>4</td>\n",
       "    </tr>\n",
       "  </tbody>\n",
       "</table>\n",
       "</div>"
      ],
      "text/plain": [
       "   User  Card  Month  Day  Use Chip        Merchant Name Merchant City  \\\n",
       "0   791     1      1    2         2  2027553650310142703         Burke   \n",
       "1   791     1      1    2         2  2027553650310142703         Burke   \n",
       "2   791     1      1    2         2  2027553650310142703         Burke   \n",
       "3   791     1      1    2         2 -7269691894846892021         Burke   \n",
       "4   791     1      1    3         2 -3693650930986299431         Burke   \n",
       "\n",
       "  Merchant State      Zip   MCC Errors  Fraud                Date  Dow  Hour  \\\n",
       "0             VA  22015.0  5541  Empty      0 1991-01-02 07:10:00    2     7   \n",
       "1             VA  22015.0  5541  Empty      0 1991-01-02 07:17:00    2     7   \n",
       "2             VA  22015.0  5541  Empty      0 1991-01-02 07:21:00    2     7   \n",
       "3             VA  22015.0  5411  Empty      0 1991-01-02 17:30:00    2    17   \n",
       "4             VA  22015.0  4814  Empty      0 1991-01-03 09:03:00    3     9   \n",
       "\n",
       "   Minute  Outcome  Time_diff  Amount_cat  \n",
       "0      10        0          0           3  \n",
       "1      17        1        420           2  \n",
       "2      21        0        240           3  \n",
       "3      30        0      36540           3  \n",
       "4       3        0      55980           4  "
      ]
     },
     "execution_count": 46,
     "metadata": {},
     "output_type": "execute_result"
    }
   ],
   "source": [
    "df.head()"
   ]
  },
  {
   "cell_type": "markdown",
   "metadata": {},
   "source": [
    "#### Errrors"
   ]
  },
  {
   "cell_type": "code",
   "execution_count": 47,
   "metadata": {},
   "outputs": [
    {
     "data": {
      "text/plain": [
       "array(['Empty', 'Insufficient Balance,', 'Technical Glitch,',\n",
       "       'Bad Zipcode,', 'Bad PIN,', 'Bad PIN,Insufficient Balance,',\n",
       "       'Bad Zipcode,Technical Glitch,', 'Bad Card Number,',\n",
       "       'Bad Expiration,', 'Bad CVV,',\n",
       "       'Insufficient Balance,Technical Glitch,',\n",
       "       'Bad Card Number,Technical Glitch,', 'Bad PIN,Technical Glitch,',\n",
       "       'Bad Card Number,Bad Expiration,', 'Bad CVV,Technical Glitch,',\n",
       "       'Bad Card Number,Insufficient Balance,', 'Bad Expiration,Bad CVV,',\n",
       "       'Bad Expiration,Insufficient Balance,',\n",
       "       'Bad Zipcode,Insufficient Balance,',\n",
       "       'Bad CVV,Insufficient Balance,',\n",
       "       'Bad Expiration,Technical Glitch,', 'Bad Card Number,Bad CVV,',\n",
       "       'Bad Card Number,Bad Expiration,Technical Glitch,',\n",
       "       'Bad Card Number,Bad Expiration,Insufficient Balance,'],\n",
       "      dtype=object)"
      ]
     },
     "execution_count": 47,
     "metadata": {},
     "output_type": "execute_result"
    }
   ],
   "source": [
    "df.Errors.unique()"
   ]
  },
  {
   "cell_type": "code",
   "execution_count": 48,
   "metadata": {},
   "outputs": [
    {
     "data": {
      "text/html": [
       "<div>\n",
       "<style scoped>\n",
       "    .dataframe tbody tr th:only-of-type {\n",
       "        vertical-align: middle;\n",
       "    }\n",
       "\n",
       "    .dataframe tbody tr th {\n",
       "        vertical-align: top;\n",
       "    }\n",
       "\n",
       "    .dataframe thead th {\n",
       "        text-align: right;\n",
       "    }\n",
       "</style>\n",
       "<table border=\"1\" class=\"dataframe\">\n",
       "  <thead>\n",
       "    <tr style=\"text-align: right;\">\n",
       "      <th>Fraud</th>\n",
       "      <th>0</th>\n",
       "      <th>1</th>\n",
       "    </tr>\n",
       "    <tr>\n",
       "      <th>Errors</th>\n",
       "      <th></th>\n",
       "      <th></th>\n",
       "    </tr>\n",
       "  </thead>\n",
       "  <tbody>\n",
       "    <tr>\n",
       "      <th>Bad CVV,</th>\n",
       "      <td>10460</td>\n",
       "      <td>280</td>\n",
       "    </tr>\n",
       "    <tr>\n",
       "      <th>Bad CVV,Insufficient Balance,</th>\n",
       "      <td>85</td>\n",
       "      <td>4</td>\n",
       "    </tr>\n",
       "    <tr>\n",
       "      <th>Bad CVV,Technical Glitch,</th>\n",
       "      <td>20</td>\n",
       "      <td>1</td>\n",
       "    </tr>\n",
       "    <tr>\n",
       "      <th>Bad Card Number,</th>\n",
       "      <td>13216</td>\n",
       "      <td>105</td>\n",
       "    </tr>\n",
       "    <tr>\n",
       "      <th>Bad Card Number,Bad CVV,</th>\n",
       "      <td>60</td>\n",
       "      <td>0</td>\n",
       "    </tr>\n",
       "    <tr>\n",
       "      <th>Bad Card Number,Bad Expiration,</th>\n",
       "      <td>54</td>\n",
       "      <td>0</td>\n",
       "    </tr>\n",
       "    <tr>\n",
       "      <th>Bad Card Number,Bad Expiration,Insufficient Balance,</th>\n",
       "      <td>2</td>\n",
       "      <td>0</td>\n",
       "    </tr>\n",
       "    <tr>\n",
       "      <th>Bad Card Number,Bad Expiration,Technical Glitch,</th>\n",
       "      <td>1</td>\n",
       "      <td>0</td>\n",
       "    </tr>\n",
       "    <tr>\n",
       "      <th>Bad Card Number,Insufficient Balance,</th>\n",
       "      <td>120</td>\n",
       "      <td>2</td>\n",
       "    </tr>\n",
       "    <tr>\n",
       "      <th>Bad Card Number,Technical Glitch,</th>\n",
       "      <td>25</td>\n",
       "      <td>0</td>\n",
       "    </tr>\n",
       "    <tr>\n",
       "      <th>Bad Expiration,</th>\n",
       "      <td>10596</td>\n",
       "      <td>120</td>\n",
       "    </tr>\n",
       "    <tr>\n",
       "      <th>Bad Expiration,Bad CVV,</th>\n",
       "      <td>45</td>\n",
       "      <td>2</td>\n",
       "    </tr>\n",
       "    <tr>\n",
       "      <th>Bad Expiration,Insufficient Balance,</th>\n",
       "      <td>77</td>\n",
       "      <td>1</td>\n",
       "    </tr>\n",
       "    <tr>\n",
       "      <th>Bad Expiration,Technical Glitch,</th>\n",
       "      <td>30</td>\n",
       "      <td>2</td>\n",
       "    </tr>\n",
       "    <tr>\n",
       "      <th>Bad PIN,</th>\n",
       "      <td>58616</td>\n",
       "      <td>302</td>\n",
       "    </tr>\n",
       "    <tr>\n",
       "      <th>Bad PIN,Insufficient Balance,</th>\n",
       "      <td>574</td>\n",
       "      <td>7</td>\n",
       "    </tr>\n",
       "    <tr>\n",
       "      <th>Bad PIN,Technical Glitch,</th>\n",
       "      <td>127</td>\n",
       "      <td>1</td>\n",
       "    </tr>\n",
       "    <tr>\n",
       "      <th>Bad Zipcode,</th>\n",
       "      <td>2079</td>\n",
       "      <td>0</td>\n",
       "    </tr>\n",
       "    <tr>\n",
       "      <th>Bad Zipcode,Insufficient Balance,</th>\n",
       "      <td>13</td>\n",
       "      <td>0</td>\n",
       "    </tr>\n",
       "    <tr>\n",
       "      <th>Bad Zipcode,Technical Glitch,</th>\n",
       "      <td>7</td>\n",
       "      <td>0</td>\n",
       "    </tr>\n",
       "    <tr>\n",
       "      <th>Empty</th>\n",
       "      <td>23969998</td>\n",
       "      <td>28471</td>\n",
       "    </tr>\n",
       "    <tr>\n",
       "      <th>Insufficient Balance,</th>\n",
       "      <td>242387</td>\n",
       "      <td>396</td>\n",
       "    </tr>\n",
       "    <tr>\n",
       "      <th>Insufficient Balance,Technical Glitch,</th>\n",
       "      <td>457</td>\n",
       "      <td>0</td>\n",
       "    </tr>\n",
       "    <tr>\n",
       "      <th>Technical Glitch,</th>\n",
       "      <td>48094</td>\n",
       "      <td>63</td>\n",
       "    </tr>\n",
       "  </tbody>\n",
       "</table>\n",
       "</div>"
      ],
      "text/plain": [
       "Fraud                                                      0      1\n",
       "Errors                                                             \n",
       "Bad CVV,                                               10460    280\n",
       "Bad CVV,Insufficient Balance,                             85      4\n",
       "Bad CVV,Technical Glitch,                                 20      1\n",
       "Bad Card Number,                                       13216    105\n",
       "Bad Card Number,Bad CVV,                                  60      0\n",
       "Bad Card Number,Bad Expiration,                           54      0\n",
       "Bad Card Number,Bad Expiration,Insufficient Bal...         2      0\n",
       "Bad Card Number,Bad Expiration,Technical Glitch,           1      0\n",
       "Bad Card Number,Insufficient Balance,                    120      2\n",
       "Bad Card Number,Technical Glitch,                         25      0\n",
       "Bad Expiration,                                        10596    120\n",
       "Bad Expiration,Bad CVV,                                   45      2\n",
       "Bad Expiration,Insufficient Balance,                      77      1\n",
       "Bad Expiration,Technical Glitch,                          30      2\n",
       "Bad PIN,                                               58616    302\n",
       "Bad PIN,Insufficient Balance,                            574      7\n",
       "Bad PIN,Technical Glitch,                                127      1\n",
       "Bad Zipcode,                                            2079      0\n",
       "Bad Zipcode,Insufficient Balance,                         13      0\n",
       "Bad Zipcode,Technical Glitch,                              7      0\n",
       "Empty                                               23969998  28471\n",
       "Insufficient Balance,                                 242387    396\n",
       "Insufficient Balance,Technical Glitch,                   457      0\n",
       "Technical Glitch,                                      48094     63"
      ]
     },
     "execution_count": 48,
     "metadata": {},
     "output_type": "execute_result"
    }
   ],
   "source": [
    "tmp = pd.crosstab(df.Errors, df.Fraud)\n",
    "tmp"
   ]
  },
  {
   "cell_type": "code",
   "execution_count": 49,
   "metadata": {},
   "outputs": [],
   "source": [
    "indexes_with_low_proba = []\n",
    "for indx in tmp.index:\n",
    "    if tmp.loc[indx,:].sum() < 2500:\n",
    "        indexes_with_low_proba.append(indx)"
   ]
  },
  {
   "cell_type": "code",
   "execution_count": 50,
   "metadata": {},
   "outputs": [],
   "source": [
    "df.loc[df.Errors.isin(indexes_with_low_proba), \"Errors\"] = \"Rare\""
   ]
  },
  {
   "cell_type": "code",
   "execution_count": 51,
   "metadata": {},
   "outputs": [
    {
     "data": {
      "text/html": [
       "<div>\n",
       "<style scoped>\n",
       "    .dataframe tbody tr th:only-of-type {\n",
       "        vertical-align: middle;\n",
       "    }\n",
       "\n",
       "    .dataframe tbody tr th {\n",
       "        vertical-align: top;\n",
       "    }\n",
       "\n",
       "    .dataframe thead th {\n",
       "        text-align: right;\n",
       "    }\n",
       "</style>\n",
       "<table border=\"1\" class=\"dataframe\">\n",
       "  <thead>\n",
       "    <tr style=\"text-align: right;\">\n",
       "      <th>Fraud</th>\n",
       "      <th>0</th>\n",
       "      <th>1</th>\n",
       "    </tr>\n",
       "    <tr>\n",
       "      <th>Errors</th>\n",
       "      <th></th>\n",
       "      <th></th>\n",
       "    </tr>\n",
       "  </thead>\n",
       "  <tbody>\n",
       "    <tr>\n",
       "      <th>Bad CVV,</th>\n",
       "      <td>10460</td>\n",
       "      <td>280</td>\n",
       "    </tr>\n",
       "    <tr>\n",
       "      <th>Bad Card Number,</th>\n",
       "      <td>13216</td>\n",
       "      <td>105</td>\n",
       "    </tr>\n",
       "    <tr>\n",
       "      <th>Bad Expiration,</th>\n",
       "      <td>10596</td>\n",
       "      <td>120</td>\n",
       "    </tr>\n",
       "    <tr>\n",
       "      <th>Bad PIN,</th>\n",
       "      <td>58616</td>\n",
       "      <td>302</td>\n",
       "    </tr>\n",
       "    <tr>\n",
       "      <th>Empty</th>\n",
       "      <td>23969998</td>\n",
       "      <td>28471</td>\n",
       "    </tr>\n",
       "    <tr>\n",
       "      <th>Insufficient Balance,</th>\n",
       "      <td>242387</td>\n",
       "      <td>396</td>\n",
       "    </tr>\n",
       "    <tr>\n",
       "      <th>Rare</th>\n",
       "      <td>3776</td>\n",
       "      <td>20</td>\n",
       "    </tr>\n",
       "    <tr>\n",
       "      <th>Technical Glitch,</th>\n",
       "      <td>48094</td>\n",
       "      <td>63</td>\n",
       "    </tr>\n",
       "  </tbody>\n",
       "</table>\n",
       "</div>"
      ],
      "text/plain": [
       "Fraud                         0      1\n",
       "Errors                                \n",
       "Bad CVV,                  10460    280\n",
       "Bad Card Number,          13216    105\n",
       "Bad Expiration,           10596    120\n",
       "Bad PIN,                  58616    302\n",
       "Empty                  23969998  28471\n",
       "Insufficient Balance,    242387    396\n",
       "Rare                       3776     20\n",
       "Technical Glitch,         48094     63"
      ]
     },
     "execution_count": 51,
     "metadata": {},
     "output_type": "execute_result"
    }
   ],
   "source": [
    "tmp = pd.crosstab(df.Errors, df.Fraud)\n",
    "tmp"
   ]
  },
  {
   "cell_type": "code",
   "execution_count": 52,
   "metadata": {},
   "outputs": [],
   "source": [
    "df.Errors = LabelEncoder().fit_transform(df.Errors).astype(np.int8)"
   ]
  },
  {
   "cell_type": "markdown",
   "metadata": {},
   "source": [
    "#### Time_diff"
   ]
  },
  {
   "cell_type": "code",
   "execution_count": 53,
   "metadata": {},
   "outputs": [
    {
     "data": {
      "text/plain": [
       "<AxesSubplot:>"
      ]
     },
     "execution_count": 53,
     "metadata": {},
     "output_type": "execute_result"
    },
    {
     "data": {
      "image/png": "[encoded data removed]",
      "text/plain": [
       "<Figure size 720x360 with 2 Axes>"
      ]
     },
     "metadata": {
      "needs_background": "light"
     },
     "output_type": "display_data"
    }
   ],
   "source": [
    "fig, ax = plt.subplots(1,2, figsize=(10,5))\n",
    "df[df.Fraud==0].Time_diff.hist(ax=ax[0])\n",
    "df[df.Fraud==1].Time_diff.hist(ax=ax[1])"
   ]
  },
  {
   "cell_type": "markdown",
   "metadata": {},
   "source": [
    "#### "
   ]
  },
  {
   "cell_type": "code",
   "execution_count": 54,
   "metadata": {},
   "outputs": [
    {
     "data": {
      "text/html": [
       "<div>\n",
       "<style scoped>\n",
       "    .dataframe tbody tr th:only-of-type {\n",
       "        vertical-align: middle;\n",
       "    }\n",
       "\n",
       "    .dataframe tbody tr th {\n",
       "        vertical-align: top;\n",
       "    }\n",
       "\n",
       "    .dataframe thead th {\n",
       "        text-align: right;\n",
       "    }\n",
       "</style>\n",
       "<table border=\"1\" class=\"dataframe\">\n",
       "  <thead>\n",
       "    <tr style=\"text-align: right;\">\n",
       "      <th></th>\n",
       "      <th>User</th>\n",
       "      <th>Card</th>\n",
       "      <th>Month</th>\n",
       "      <th>Day</th>\n",
       "      <th>Use Chip</th>\n",
       "      <th>Merchant Name</th>\n",
       "      <th>Merchant City</th>\n",
       "      <th>Merchant State</th>\n",
       "      <th>Zip</th>\n",
       "      <th>MCC</th>\n",
       "      <th>Errors</th>\n",
       "      <th>Fraud</th>\n",
       "      <th>Date</th>\n",
       "      <th>Dow</th>\n",
       "      <th>Hour</th>\n",
       "      <th>Minute</th>\n",
       "      <th>Outcome</th>\n",
       "      <th>Time_diff</th>\n",
       "      <th>Amount_cat</th>\n",
       "    </tr>\n",
       "  </thead>\n",
       "  <tbody>\n",
       "    <tr>\n",
       "      <th>0</th>\n",
       "      <td>791</td>\n",
       "      <td>1</td>\n",
       "      <td>1</td>\n",
       "      <td>2</td>\n",
       "      <td>2</td>\n",
       "      <td>2027553650310142703</td>\n",
       "      <td>Burke</td>\n",
       "      <td>VA</td>\n",
       "      <td>22015.0</td>\n",
       "      <td>5541</td>\n",
       "      <td>4</td>\n",
       "      <td>0</td>\n",
       "      <td>1991-01-02 07:10:00</td>\n",
       "      <td>2</td>\n",
       "      <td>7</td>\n",
       "      <td>10</td>\n",
       "      <td>0</td>\n",
       "      <td>0</td>\n",
       "      <td>3</td>\n",
       "    </tr>\n",
       "    <tr>\n",
       "      <th>1</th>\n",
       "      <td>791</td>\n",
       "      <td>1</td>\n",
       "      <td>1</td>\n",
       "      <td>2</td>\n",
       "      <td>2</td>\n",
       "      <td>2027553650310142703</td>\n",
       "      <td>Burke</td>\n",
       "      <td>VA</td>\n",
       "      <td>22015.0</td>\n",
       "      <td>5541</td>\n",
       "      <td>4</td>\n",
       "      <td>0</td>\n",
       "      <td>1991-01-02 07:17:00</td>\n",
       "      <td>2</td>\n",
       "      <td>7</td>\n",
       "      <td>17</td>\n",
       "      <td>1</td>\n",
       "      <td>420</td>\n",
       "      <td>2</td>\n",
       "    </tr>\n",
       "    <tr>\n",
       "      <th>2</th>\n",
       "      <td>791</td>\n",
       "      <td>1</td>\n",
       "      <td>1</td>\n",
       "      <td>2</td>\n",
       "      <td>2</td>\n",
       "      <td>2027553650310142703</td>\n",
       "      <td>Burke</td>\n",
       "      <td>VA</td>\n",
       "      <td>22015.0</td>\n",
       "      <td>5541</td>\n",
       "      <td>4</td>\n",
       "      <td>0</td>\n",
       "      <td>1991-01-02 07:21:00</td>\n",
       "      <td>2</td>\n",
       "      <td>7</td>\n",
       "      <td>21</td>\n",
       "      <td>0</td>\n",
       "      <td>240</td>\n",
       "      <td>3</td>\n",
       "    </tr>\n",
       "    <tr>\n",
       "      <th>3</th>\n",
       "      <td>791</td>\n",
       "      <td>1</td>\n",
       "      <td>1</td>\n",
       "      <td>2</td>\n",
       "      <td>2</td>\n",
       "      <td>-7269691894846892021</td>\n",
       "      <td>Burke</td>\n",
       "      <td>VA</td>\n",
       "      <td>22015.0</td>\n",
       "      <td>5411</td>\n",
       "      <td>4</td>\n",
       "      <td>0</td>\n",
       "      <td>1991-01-02 17:30:00</td>\n",
       "      <td>2</td>\n",
       "      <td>17</td>\n",
       "      <td>30</td>\n",
       "      <td>0</td>\n",
       "      <td>36540</td>\n",
       "      <td>3</td>\n",
       "    </tr>\n",
       "    <tr>\n",
       "      <th>4</th>\n",
       "      <td>791</td>\n",
       "      <td>1</td>\n",
       "      <td>1</td>\n",
       "      <td>3</td>\n",
       "      <td>2</td>\n",
       "      <td>-3693650930986299431</td>\n",
       "      <td>Burke</td>\n",
       "      <td>VA</td>\n",
       "      <td>22015.0</td>\n",
       "      <td>4814</td>\n",
       "      <td>4</td>\n",
       "      <td>0</td>\n",
       "      <td>1991-01-03 09:03:00</td>\n",
       "      <td>3</td>\n",
       "      <td>9</td>\n",
       "      <td>3</td>\n",
       "      <td>0</td>\n",
       "      <td>55980</td>\n",
       "      <td>4</td>\n",
       "    </tr>\n",
       "  </tbody>\n",
       "</table>\n",
       "</div>"
      ],
      "text/plain": [
       "   User  Card  Month  Day  Use Chip        Merchant Name Merchant City  \\\n",
       "0   791     1      1    2         2  2027553650310142703         Burke   \n",
       "1   791     1      1    2         2  2027553650310142703         Burke   \n",
       "2   791     1      1    2         2  2027553650310142703         Burke   \n",
       "3   791     1      1    2         2 -7269691894846892021         Burke   \n",
       "4   791     1      1    3         2 -3693650930986299431         Burke   \n",
       "\n",
       "  Merchant State      Zip   MCC  Errors  Fraud                Date  Dow  Hour  \\\n",
       "0             VA  22015.0  5541       4      0 1991-01-02 07:10:00    2     7   \n",
       "1             VA  22015.0  5541       4      0 1991-01-02 07:17:00    2     7   \n",
       "2             VA  22015.0  5541       4      0 1991-01-02 07:21:00    2     7   \n",
       "3             VA  22015.0  5411       4      0 1991-01-02 17:30:00    2    17   \n",
       "4             VA  22015.0  4814       4      0 1991-01-03 09:03:00    3     9   \n",
       "\n",
       "   Minute  Outcome  Time_diff  Amount_cat  \n",
       "0      10        0          0           3  \n",
       "1      17        1        420           2  \n",
       "2      21        0        240           3  \n",
       "3      30        0      36540           3  \n",
       "4       3        0      55980           4  "
      ]
     },
     "execution_count": 54,
     "metadata": {},
     "output_type": "execute_result"
    }
   ],
   "source": [
    "df.head()"
   ]
  },
  {
   "cell_type": "markdown",
   "metadata": {},
   "source": [
    "#### Merchant name"
   ]
  },
  {
   "cell_type": "code",
   "execution_count": 55,
   "metadata": {},
   "outputs": [
    {
     "data": {
      "text/plain": [
       "100343"
      ]
     },
     "execution_count": 55,
     "metadata": {},
     "output_type": "execute_result"
    }
   ],
   "source": [
    "len(df[\"Merchant Name\"].unique())"
   ]
  },
  {
   "cell_type": "code",
   "execution_count": 56,
   "metadata": {},
   "outputs": [],
   "source": [
    "df[\"is_diff_merchant\"] = df.groupby('User')[\"Merchant Name\"].diff()\n",
    "df.is_diff_merchant.fillna(0, inplace=True)\n",
    "df.loc[df.is_diff_merchant!=0, 'is_diff_merchant']=1\n",
    "df.is_diff_merchant = df.is_diff_merchant.astype(np.int8)\n",
    "df.drop(columns=\"Merchant Name\", inplace=True)"
   ]
  },
  {
   "cell_type": "code",
   "execution_count": 57,
   "metadata": {},
   "outputs": [
    {
     "data": {
      "text/html": [
       "<div>\n",
       "<style scoped>\n",
       "    .dataframe tbody tr th:only-of-type {\n",
       "        vertical-align: middle;\n",
       "    }\n",
       "\n",
       "    .dataframe tbody tr th {\n",
       "        vertical-align: top;\n",
       "    }\n",
       "\n",
       "    .dataframe thead th {\n",
       "        text-align: right;\n",
       "    }\n",
       "</style>\n",
       "<table border=\"1\" class=\"dataframe\">\n",
       "  <thead>\n",
       "    <tr style=\"text-align: right;\">\n",
       "      <th></th>\n",
       "      <th>User</th>\n",
       "      <th>Card</th>\n",
       "      <th>Month</th>\n",
       "      <th>Day</th>\n",
       "      <th>Use Chip</th>\n",
       "      <th>Merchant City</th>\n",
       "      <th>Merchant State</th>\n",
       "      <th>Zip</th>\n",
       "      <th>MCC</th>\n",
       "      <th>Errors</th>\n",
       "      <th>Fraud</th>\n",
       "      <th>Date</th>\n",
       "      <th>Dow</th>\n",
       "      <th>Hour</th>\n",
       "      <th>Minute</th>\n",
       "      <th>Outcome</th>\n",
       "      <th>Time_diff</th>\n",
       "      <th>Amount_cat</th>\n",
       "      <th>is_diff_merchant</th>\n",
       "    </tr>\n",
       "  </thead>\n",
       "  <tbody>\n",
       "    <tr>\n",
       "      <th>0</th>\n",
       "      <td>791</td>\n",
       "      <td>1</td>\n",
       "      <td>1</td>\n",
       "      <td>2</td>\n",
       "      <td>2</td>\n",
       "      <td>Burke</td>\n",
       "      <td>VA</td>\n",
       "      <td>22015.0</td>\n",
       "      <td>5541</td>\n",
       "      <td>4</td>\n",
       "      <td>0</td>\n",
       "      <td>1991-01-02 07:10:00</td>\n",
       "      <td>2</td>\n",
       "      <td>7</td>\n",
       "      <td>10</td>\n",
       "      <td>0</td>\n",
       "      <td>0</td>\n",
       "      <td>3</td>\n",
       "      <td>0</td>\n",
       "    </tr>\n",
       "    <tr>\n",
       "      <th>1</th>\n",
       "      <td>791</td>\n",
       "      <td>1</td>\n",
       "      <td>1</td>\n",
       "      <td>2</td>\n",
       "      <td>2</td>\n",
       "      <td>Burke</td>\n",
       "      <td>VA</td>\n",
       "      <td>22015.0</td>\n",
       "      <td>5541</td>\n",
       "      <td>4</td>\n",
       "      <td>0</td>\n",
       "      <td>1991-01-02 07:17:00</td>\n",
       "      <td>2</td>\n",
       "      <td>7</td>\n",
       "      <td>17</td>\n",
       "      <td>1</td>\n",
       "      <td>420</td>\n",
       "      <td>2</td>\n",
       "      <td>0</td>\n",
       "    </tr>\n",
       "    <tr>\n",
       "      <th>2</th>\n",
       "      <td>791</td>\n",
       "      <td>1</td>\n",
       "      <td>1</td>\n",
       "      <td>2</td>\n",
       "      <td>2</td>\n",
       "      <td>Burke</td>\n",
       "      <td>VA</td>\n",
       "      <td>22015.0</td>\n",
       "      <td>5541</td>\n",
       "      <td>4</td>\n",
       "      <td>0</td>\n",
       "      <td>1991-01-02 07:21:00</td>\n",
       "      <td>2</td>\n",
       "      <td>7</td>\n",
       "      <td>21</td>\n",
       "      <td>0</td>\n",
       "      <td>240</td>\n",
       "      <td>3</td>\n",
       "      <td>0</td>\n",
       "    </tr>\n",
       "    <tr>\n",
       "      <th>3</th>\n",
       "      <td>791</td>\n",
       "      <td>1</td>\n",
       "      <td>1</td>\n",
       "      <td>2</td>\n",
       "      <td>2</td>\n",
       "      <td>Burke</td>\n",
       "      <td>VA</td>\n",
       "      <td>22015.0</td>\n",
       "      <td>5411</td>\n",
       "      <td>4</td>\n",
       "      <td>0</td>\n",
       "      <td>1991-01-02 17:30:00</td>\n",
       "      <td>2</td>\n",
       "      <td>17</td>\n",
       "      <td>30</td>\n",
       "      <td>0</td>\n",
       "      <td>36540</td>\n",
       "      <td>3</td>\n",
       "      <td>1</td>\n",
       "    </tr>\n",
       "    <tr>\n",
       "      <th>4</th>\n",
       "      <td>791</td>\n",
       "      <td>1</td>\n",
       "      <td>1</td>\n",
       "      <td>3</td>\n",
       "      <td>2</td>\n",
       "      <td>Burke</td>\n",
       "      <td>VA</td>\n",
       "      <td>22015.0</td>\n",
       "      <td>4814</td>\n",
       "      <td>4</td>\n",
       "      <td>0</td>\n",
       "      <td>1991-01-03 09:03:00</td>\n",
       "      <td>3</td>\n",
       "      <td>9</td>\n",
       "      <td>3</td>\n",
       "      <td>0</td>\n",
       "      <td>55980</td>\n",
       "      <td>4</td>\n",
       "      <td>1</td>\n",
       "    </tr>\n",
       "  </tbody>\n",
       "</table>\n",
       "</div>"
      ],
      "text/plain": [
       "   User  Card  Month  Day  Use Chip Merchant City Merchant State      Zip  \\\n",
       "0   791     1      1    2         2         Burke             VA  22015.0   \n",
       "1   791     1      1    2         2         Burke             VA  22015.0   \n",
       "2   791     1      1    2         2         Burke             VA  22015.0   \n",
       "3   791     1      1    2         2         Burke             VA  22015.0   \n",
       "4   791     1      1    3         2         Burke             VA  22015.0   \n",
       "\n",
       "    MCC  Errors  Fraud                Date  Dow  Hour  Minute  Outcome  \\\n",
       "0  5541       4      0 1991-01-02 07:10:00    2     7      10        0   \n",
       "1  5541       4      0 1991-01-02 07:17:00    2     7      17        1   \n",
       "2  5541       4      0 1991-01-02 07:21:00    2     7      21        0   \n",
       "3  5411       4      0 1991-01-02 17:30:00    2    17      30        0   \n",
       "4  4814       4      0 1991-01-03 09:03:00    3     9       3        0   \n",
       "\n",
       "   Time_diff  Amount_cat  is_diff_merchant  \n",
       "0          0           3                 0  \n",
       "1        420           2                 0  \n",
       "2        240           3                 0  \n",
       "3      36540           3                 1  \n",
       "4      55980           4                 1  "
      ]
     },
     "execution_count": 57,
     "metadata": {},
     "output_type": "execute_result"
    }
   ],
   "source": [
    "df.head()"
   ]
  },
  {
   "cell_type": "markdown",
   "metadata": {},
   "source": [
    "#### MCC"
   ]
  },
  {
   "cell_type": "code",
   "execution_count": 58,
   "metadata": {},
   "outputs": [
    {
     "data": {
      "text/html": [
       "<div>\n",
       "<style scoped>\n",
       "    .dataframe tbody tr th:only-of-type {\n",
       "        vertical-align: middle;\n",
       "    }\n",
       "\n",
       "    .dataframe tbody tr th {\n",
       "        vertical-align: top;\n",
       "    }\n",
       "\n",
       "    .dataframe thead th {\n",
       "        text-align: right;\n",
       "    }\n",
       "</style>\n",
       "<table border=\"1\" class=\"dataframe\">\n",
       "  <thead>\n",
       "    <tr style=\"text-align: right;\">\n",
       "      <th>Fraud</th>\n",
       "      <th>0</th>\n",
       "      <th>1</th>\n",
       "      <th>portion</th>\n",
       "    </tr>\n",
       "    <tr>\n",
       "      <th>MCC</th>\n",
       "      <th></th>\n",
       "      <th></th>\n",
       "      <th></th>\n",
       "    </tr>\n",
       "  </thead>\n",
       "  <tbody>\n",
       "    <tr>\n",
       "      <th>1711</th>\n",
       "      <td>6065</td>\n",
       "      <td>0</td>\n",
       "      <td>0.000000</td>\n",
       "    </tr>\n",
       "    <tr>\n",
       "      <th>3000</th>\n",
       "      <td>5724</td>\n",
       "      <td>74</td>\n",
       "      <td>0.012928</td>\n",
       "    </tr>\n",
       "    <tr>\n",
       "      <th>3001</th>\n",
       "      <td>5742</td>\n",
       "      <td>62</td>\n",
       "      <td>0.010798</td>\n",
       "    </tr>\n",
       "    <tr>\n",
       "      <th>3005</th>\n",
       "      <td>686</td>\n",
       "      <td>43</td>\n",
       "      <td>0.062682</td>\n",
       "    </tr>\n",
       "    <tr>\n",
       "      <th>3006</th>\n",
       "      <td>643</td>\n",
       "      <td>59</td>\n",
       "      <td>0.091757</td>\n",
       "    </tr>\n",
       "    <tr>\n",
       "      <th>...</th>\n",
       "      <td>...</td>\n",
       "      <td>...</td>\n",
       "      <td>...</td>\n",
       "    </tr>\n",
       "    <tr>\n",
       "      <th>8062</th>\n",
       "      <td>6715</td>\n",
       "      <td>23</td>\n",
       "      <td>0.003425</td>\n",
       "    </tr>\n",
       "    <tr>\n",
       "      <th>8099</th>\n",
       "      <td>27594</td>\n",
       "      <td>21</td>\n",
       "      <td>0.000761</td>\n",
       "    </tr>\n",
       "    <tr>\n",
       "      <th>8111</th>\n",
       "      <td>13236</td>\n",
       "      <td>0</td>\n",
       "      <td>0.000000</td>\n",
       "    </tr>\n",
       "    <tr>\n",
       "      <th>8931</th>\n",
       "      <td>6796</td>\n",
       "      <td>0</td>\n",
       "      <td>0.000000</td>\n",
       "    </tr>\n",
       "    <tr>\n",
       "      <th>9402</th>\n",
       "      <td>175732</td>\n",
       "      <td>91</td>\n",
       "      <td>0.000518</td>\n",
       "    </tr>\n",
       "  </tbody>\n",
       "</table>\n",
       "<p>109 rows × 3 columns</p>\n",
       "</div>"
      ],
      "text/plain": [
       "Fraud       0   1   portion\n",
       "MCC                        \n",
       "1711     6065   0  0.000000\n",
       "3000     5724  74  0.012928\n",
       "3001     5742  62  0.010798\n",
       "3005      686  43  0.062682\n",
       "3006      643  59  0.091757\n",
       "...       ...  ..       ...\n",
       "8062     6715  23  0.003425\n",
       "8099    27594  21  0.000761\n",
       "8111    13236   0  0.000000\n",
       "8931     6796   0  0.000000\n",
       "9402   175732  91  0.000518\n",
       "\n",
       "[109 rows x 3 columns]"
      ]
     },
     "execution_count": 58,
     "metadata": {},
     "output_type": "execute_result"
    }
   ],
   "source": [
    "tmp = pd.crosstab(df.MCC, df.Fraud)\n",
    "tmp[\"portion\"]=tmp[1]/tmp[0]\n",
    "tmp"
   ]
  },
  {
   "cell_type": "code",
   "execution_count": 59,
   "metadata": {},
   "outputs": [],
   "source": [
    "seldom_indexes = []\n",
    "for indx in tmp.index:\n",
    "    if tmp.loc[indx,\"portion\"] < 0.05:\n",
    "        seldom_indexes.append(indx)"
   ]
  },
  {
   "cell_type": "code",
   "execution_count": 60,
   "metadata": {},
   "outputs": [],
   "source": [
    "df.loc[df.MCC.isin(seldom_indexes), \"MCC\"] = 0"
   ]
  },
  {
   "cell_type": "code",
   "execution_count": 61,
   "metadata": {},
   "outputs": [
    {
     "data": {
      "text/html": [
       "<div>\n",
       "<style scoped>\n",
       "    .dataframe tbody tr th:only-of-type {\n",
       "        vertical-align: middle;\n",
       "    }\n",
       "\n",
       "    .dataframe tbody tr th {\n",
       "        vertical-align: top;\n",
       "    }\n",
       "\n",
       "    .dataframe thead th {\n",
       "        text-align: right;\n",
       "    }\n",
       "</style>\n",
       "<table border=\"1\" class=\"dataframe\">\n",
       "  <thead>\n",
       "    <tr style=\"text-align: right;\">\n",
       "      <th>Fraud</th>\n",
       "      <th>0</th>\n",
       "      <th>1</th>\n",
       "    </tr>\n",
       "    <tr>\n",
       "      <th>MCC</th>\n",
       "      <th></th>\n",
       "      <th></th>\n",
       "    </tr>\n",
       "  </thead>\n",
       "  <tbody>\n",
       "    <tr>\n",
       "      <th>0</th>\n",
       "      <td>24315332</td>\n",
       "      <td>26388</td>\n",
       "    </tr>\n",
       "    <tr>\n",
       "      <th>3005</th>\n",
       "      <td>686</td>\n",
       "      <td>43</td>\n",
       "    </tr>\n",
       "    <tr>\n",
       "      <th>3006</th>\n",
       "      <td>643</td>\n",
       "      <td>59</td>\n",
       "    </tr>\n",
       "    <tr>\n",
       "      <th>3007</th>\n",
       "      <td>625</td>\n",
       "      <td>41</td>\n",
       "    </tr>\n",
       "    <tr>\n",
       "      <th>3008</th>\n",
       "      <td>664</td>\n",
       "      <td>50</td>\n",
       "    </tr>\n",
       "    <tr>\n",
       "      <th>3009</th>\n",
       "      <td>696</td>\n",
       "      <td>43</td>\n",
       "    </tr>\n",
       "    <tr>\n",
       "      <th>3075</th>\n",
       "      <td>626</td>\n",
       "      <td>40</td>\n",
       "    </tr>\n",
       "    <tr>\n",
       "      <th>3144</th>\n",
       "      <td>579</td>\n",
       "      <td>53</td>\n",
       "    </tr>\n",
       "    <tr>\n",
       "      <th>4411</th>\n",
       "      <td>317</td>\n",
       "      <td>317</td>\n",
       "    </tr>\n",
       "    <tr>\n",
       "      <th>5045</th>\n",
       "      <td>4543</td>\n",
       "      <td>470</td>\n",
       "    </tr>\n",
       "    <tr>\n",
       "      <th>5094</th>\n",
       "      <td>8877</td>\n",
       "      <td>567</td>\n",
       "    </tr>\n",
       "    <tr>\n",
       "      <th>5712</th>\n",
       "      <td>6731</td>\n",
       "      <td>418</td>\n",
       "    </tr>\n",
       "    <tr>\n",
       "      <th>5732</th>\n",
       "      <td>11750</td>\n",
       "      <td>843</td>\n",
       "    </tr>\n",
       "    <tr>\n",
       "      <th>5733</th>\n",
       "      <td>369</td>\n",
       "      <td>127</td>\n",
       "    </tr>\n",
       "    <tr>\n",
       "      <th>5816</th>\n",
       "      <td>4705</td>\n",
       "      <td>298</td>\n",
       "    </tr>\n",
       "  </tbody>\n",
       "</table>\n",
       "</div>"
      ],
      "text/plain": [
       "Fraud         0      1\n",
       "MCC                   \n",
       "0      24315332  26388\n",
       "3005        686     43\n",
       "3006        643     59\n",
       "3007        625     41\n",
       "3008        664     50\n",
       "3009        696     43\n",
       "3075        626     40\n",
       "3144        579     53\n",
       "4411        317    317\n",
       "5045       4543    470\n",
       "5094       8877    567\n",
       "5712       6731    418\n",
       "5732      11750    843\n",
       "5733        369    127\n",
       "5816       4705    298"
      ]
     },
     "execution_count": 61,
     "metadata": {},
     "output_type": "execute_result"
    }
   ],
   "source": [
    "pd.crosstab(df.MCC, df.Fraud)"
   ]
  },
  {
   "cell_type": "code",
   "execution_count": 62,
   "metadata": {},
   "outputs": [],
   "source": [
    "df.MCC = LabelEncoder().fit_transform(df[\"MCC\"]).astype(np.int8)"
   ]
  },
  {
   "cell_type": "code",
   "execution_count": 63,
   "metadata": {},
   "outputs": [
    {
     "data": {
      "text/html": [
       "<div>\n",
       "<style scoped>\n",
       "    .dataframe tbody tr th:only-of-type {\n",
       "        vertical-align: middle;\n",
       "    }\n",
       "\n",
       "    .dataframe tbody tr th {\n",
       "        vertical-align: top;\n",
       "    }\n",
       "\n",
       "    .dataframe thead th {\n",
       "        text-align: right;\n",
       "    }\n",
       "</style>\n",
       "<table border=\"1\" class=\"dataframe\">\n",
       "  <thead>\n",
       "    <tr style=\"text-align: right;\">\n",
       "      <th></th>\n",
       "      <th>User</th>\n",
       "      <th>Card</th>\n",
       "      <th>Month</th>\n",
       "      <th>Day</th>\n",
       "      <th>Use Chip</th>\n",
       "      <th>Merchant City</th>\n",
       "      <th>Merchant State</th>\n",
       "      <th>Zip</th>\n",
       "      <th>MCC</th>\n",
       "      <th>Errors</th>\n",
       "      <th>Fraud</th>\n",
       "      <th>Date</th>\n",
       "      <th>Dow</th>\n",
       "      <th>Hour</th>\n",
       "      <th>Minute</th>\n",
       "      <th>Outcome</th>\n",
       "      <th>Time_diff</th>\n",
       "      <th>Amount_cat</th>\n",
       "      <th>is_diff_merchant</th>\n",
       "    </tr>\n",
       "  </thead>\n",
       "  <tbody>\n",
       "    <tr>\n",
       "      <th>0</th>\n",
       "      <td>791</td>\n",
       "      <td>1</td>\n",
       "      <td>1</td>\n",
       "      <td>2</td>\n",
       "      <td>2</td>\n",
       "      <td>Burke</td>\n",
       "      <td>VA</td>\n",
       "      <td>22015.0</td>\n",
       "      <td>0</td>\n",
       "      <td>4</td>\n",
       "      <td>0</td>\n",
       "      <td>1991-01-02 07:10:00</td>\n",
       "      <td>2</td>\n",
       "      <td>7</td>\n",
       "      <td>10</td>\n",
       "      <td>0</td>\n",
       "      <td>0</td>\n",
       "      <td>3</td>\n",
       "      <td>0</td>\n",
       "    </tr>\n",
       "    <tr>\n",
       "      <th>1</th>\n",
       "      <td>791</td>\n",
       "      <td>1</td>\n",
       "      <td>1</td>\n",
       "      <td>2</td>\n",
       "      <td>2</td>\n",
       "      <td>Burke</td>\n",
       "      <td>VA</td>\n",
       "      <td>22015.0</td>\n",
       "      <td>0</td>\n",
       "      <td>4</td>\n",
       "      <td>0</td>\n",
       "      <td>1991-01-02 07:17:00</td>\n",
       "      <td>2</td>\n",
       "      <td>7</td>\n",
       "      <td>17</td>\n",
       "      <td>1</td>\n",
       "      <td>420</td>\n",
       "      <td>2</td>\n",
       "      <td>0</td>\n",
       "    </tr>\n",
       "    <tr>\n",
       "      <th>2</th>\n",
       "      <td>791</td>\n",
       "      <td>1</td>\n",
       "      <td>1</td>\n",
       "      <td>2</td>\n",
       "      <td>2</td>\n",
       "      <td>Burke</td>\n",
       "      <td>VA</td>\n",
       "      <td>22015.0</td>\n",
       "      <td>0</td>\n",
       "      <td>4</td>\n",
       "      <td>0</td>\n",
       "      <td>1991-01-02 07:21:00</td>\n",
       "      <td>2</td>\n",
       "      <td>7</td>\n",
       "      <td>21</td>\n",
       "      <td>0</td>\n",
       "      <td>240</td>\n",
       "      <td>3</td>\n",
       "      <td>0</td>\n",
       "    </tr>\n",
       "    <tr>\n",
       "      <th>3</th>\n",
       "      <td>791</td>\n",
       "      <td>1</td>\n",
       "      <td>1</td>\n",
       "      <td>2</td>\n",
       "      <td>2</td>\n",
       "      <td>Burke</td>\n",
       "      <td>VA</td>\n",
       "      <td>22015.0</td>\n",
       "      <td>0</td>\n",
       "      <td>4</td>\n",
       "      <td>0</td>\n",
       "      <td>1991-01-02 17:30:00</td>\n",
       "      <td>2</td>\n",
       "      <td>17</td>\n",
       "      <td>30</td>\n",
       "      <td>0</td>\n",
       "      <td>36540</td>\n",
       "      <td>3</td>\n",
       "      <td>1</td>\n",
       "    </tr>\n",
       "    <tr>\n",
       "      <th>4</th>\n",
       "      <td>791</td>\n",
       "      <td>1</td>\n",
       "      <td>1</td>\n",
       "      <td>3</td>\n",
       "      <td>2</td>\n",
       "      <td>Burke</td>\n",
       "      <td>VA</td>\n",
       "      <td>22015.0</td>\n",
       "      <td>0</td>\n",
       "      <td>4</td>\n",
       "      <td>0</td>\n",
       "      <td>1991-01-03 09:03:00</td>\n",
       "      <td>3</td>\n",
       "      <td>9</td>\n",
       "      <td>3</td>\n",
       "      <td>0</td>\n",
       "      <td>55980</td>\n",
       "      <td>4</td>\n",
       "      <td>1</td>\n",
       "    </tr>\n",
       "  </tbody>\n",
       "</table>\n",
       "</div>"
      ],
      "text/plain": [
       "   User  Card  Month  Day  Use Chip Merchant City Merchant State      Zip  \\\n",
       "0   791     1      1    2         2         Burke             VA  22015.0   \n",
       "1   791     1      1    2         2         Burke             VA  22015.0   \n",
       "2   791     1      1    2         2         Burke             VA  22015.0   \n",
       "3   791     1      1    2         2         Burke             VA  22015.0   \n",
       "4   791     1      1    3         2         Burke             VA  22015.0   \n",
       "\n",
       "   MCC  Errors  Fraud                Date  Dow  Hour  Minute  Outcome  \\\n",
       "0    0       4      0 1991-01-02 07:10:00    2     7      10        0   \n",
       "1    0       4      0 1991-01-02 07:17:00    2     7      17        1   \n",
       "2    0       4      0 1991-01-02 07:21:00    2     7      21        0   \n",
       "3    0       4      0 1991-01-02 17:30:00    2    17      30        0   \n",
       "4    0       4      0 1991-01-03 09:03:00    3     9       3        0   \n",
       "\n",
       "   Time_diff  Amount_cat  is_diff_merchant  \n",
       "0          0           3                 0  \n",
       "1        420           2                 0  \n",
       "2        240           3                 0  \n",
       "3      36540           3                 1  \n",
       "4      55980           4                 1  "
      ]
     },
     "execution_count": 63,
     "metadata": {},
     "output_type": "execute_result"
    }
   ],
   "source": [
    "df.head()"
   ]
  },
  {
   "cell_type": "markdown",
   "metadata": {},
   "source": [
    "#### Merchant City and State"
   ]
  },
  {
   "cell_type": "code",
   "execution_count": 64,
   "metadata": {},
   "outputs": [
    {
     "data": {
      "text/plain": [
       "array(['VA', 'CA', 'NJ', 'NY', 'PA', 'FL', 'Mexico', 'MO', 'OH', 'NV',\n",
       "       'HI', 'South Korea', 'MA', 'TX', 'WA', 'AK', 'GA', 'IL', 'OR',\n",
       "       'United Arab Emirates', 'Jamaica', 'CO', 'NC', 'VT', 'Japan', 'SD',\n",
       "       'IN', 'ND', 'LA', 'Spain', 'CT', 'AZ', 'MI', 'RI', 'MN', 'NH',\n",
       "       'MS', 'IA', 'MT', 'NM', 'AR', 'DE', 'Netherlands', 'AL', 'MD',\n",
       "       'SC', 'KY', 'Sweden', 'Germany', 'China', 'UT', 'Israel', 'WV',\n",
       "       'ONLINE', 'France', 'DC', 'KS', 'Italy', 'WI', 'ID', 'TN',\n",
       "       'Philippines', 'Canada', 'Turkey', 'OK', 'ME', 'Hong Kong',\n",
       "       'Norway', 'Fiji', 'Dominican Republic', 'Colombia', 'Austria',\n",
       "       'United Kingdom', 'WY', 'Aruba', 'New Zealand', 'NE', 'Algeria',\n",
       "       'Portugal', 'Bangladesh', 'Brazil', 'India', 'Peru', 'AA',\n",
       "       'The Bahamas', 'Greece', 'Ireland', 'Switzerland', 'South Africa',\n",
       "       'Australia', 'Serbia', 'Singapore', 'Costa Rica', 'Thailand',\n",
       "       'Iraq', 'Saudi Arabia', 'Taiwan', 'Argentina', 'Vietnam',\n",
       "       'Croatia', 'Pakistan', 'Morocco', 'Nigeria', 'Iceland', 'Paraguay',\n",
       "       'Barbados', 'Denmark', 'Macedonia', 'Uganda', 'Egypt', 'Liberia',\n",
       "       'Bulgaria', 'Ethiopia', 'Slovakia', 'Poland', 'Latvia', 'Finland',\n",
       "       'Bahrain', 'Hungary', 'Saint Lucia', 'Belgium', 'Indonesia',\n",
       "       'Venezuela', 'Oman', 'Mongolia', 'Uzbekistan', 'Ecuador', 'Russia',\n",
       "       'Mozambique', 'Togo', 'Haiti', 'Malaysia', 'Estonia', 'Malawi',\n",
       "       'Ghana', 'Djibouti', 'Czech Republic', 'Myanmar (Burma)',\n",
       "       'Suriname', 'Vatican City', 'Chile', 'Romania', 'Liechtenstein',\n",
       "       'Dominica', 'Maldives', 'Lebanon', 'Central African Republic',\n",
       "       'Panama', 'Slovenia', 'Samoa', 'Cambodia', 'Somalia', 'Guatemala',\n",
       "       'Honduras', 'Burkina Faso', 'Luxembourg', 'Malta', 'Ukraine',\n",
       "       'Syria', 'Sao Tome and Principe', 'Papua New Guinea', 'Sri Lanka',\n",
       "       'Democratic Republic of the Congo', 'Kenya', 'Tunisia', 'Cameroon',\n",
       "       'Moldova', 'Kuwait', 'Mali', 'Uruguay', 'Tanzania', 'Monaco',\n",
       "       'El Salvador', 'Cabo Verde', 'Angola', 'Benin', 'Swaziland',\n",
       "       'Kiribati', 'Kosovo', 'Nicaragua', 'Micronesia', 'Belize',\n",
       "       'Tuvalu', 'Lithuania', 'Comoros', 'Azerbaijan', 'Montenegro',\n",
       "       'Brunei', 'Sierra Leone', 'Jordan', 'Marshall Islands',\n",
       "       'Bosnia and Herzegovina', 'Antigua and Barbuda', 'Andorra',\n",
       "       'Tonga', 'Eritrea', 'Solomon Islands', 'Niger', 'Nauru',\n",
       "       'South Sudan', 'Yemen', 'Albania', 'Qatar', 'Zimbabwe',\n",
       "       'Equatorial Guinea', 'Vanuatu', 'Belarus', 'Zambia',\n",
       "       'Saint Vincent and the Grenadines', 'Georgia', 'Guyana', 'Cyprus',\n",
       "       'Senegal', 'Gabon', 'Kyrgyzstan', 'Botswana', 'Seychelles',\n",
       "       \"Cote d'Ivoire\", 'Iran', 'Guinea', 'East Timor (Timor-Leste)',\n",
       "       'Sudan', 'Trinidad and Tobago', 'Republic of the Congo'],\n",
       "      dtype=object)"
      ]
     },
     "execution_count": 64,
     "metadata": {},
     "output_type": "execute_result"
    }
   ],
   "source": [
    "df[\"Merchant State\"].unique()"
   ]
  },
  {
   "cell_type": "code",
   "execution_count": 65,
   "metadata": {},
   "outputs": [
    {
     "data": {
      "text/plain": [
       "13429"
      ]
     },
     "execution_count": 65,
     "metadata": {},
     "output_type": "execute_result"
    }
   ],
   "source": [
    "len(df[\"Merchant City\"].unique())"
   ]
  },
  {
   "cell_type": "code",
   "execution_count": 66,
   "metadata": {},
   "outputs": [
    {
     "data": {
      "text/plain": [
       "User\n",
       "0            La Verne\n",
       "1         Little Neck\n",
       "2              ONLINE\n",
       "3            New York\n",
       "4       San Francisco\n",
       "            ...      \n",
       "1995      Garden City\n",
       "1996     Independence\n",
       "1997        Elizabeth\n",
       "1998        Camp Hill\n",
       "1999        Merrimack\n",
       "Name: Merchant City, Length: 2000, dtype: object"
      ]
     },
     "execution_count": 66,
     "metadata": {},
     "output_type": "execute_result"
    }
   ],
   "source": [
    "tmp = df.groupby(by='User')[\"Merchant City\"].agg(lambda x:x.value_counts().index[0])\n",
    "tmp"
   ]
  },
  {
   "cell_type": "code",
   "execution_count": 67,
   "metadata": {},
   "outputs": [
    {
     "name": "stdout",
     "output_type": "stream",
     "text": [
      "CPU times: user 7min 5s, sys: 4min 13s, total: 11min 19s\n",
      "Wall time: 11min 19s\n"
     ]
    }
   ],
   "source": [
    "%%time\n",
    "for user in tqdm(df.User.unique()):\n",
    "    df.loc[df.User==user, 'Merchant City'] = (df.loc[df.User==user, 'Merchant City'] == tmp[user]).astype(np.int8)"
   ]
  },
  {
   "cell_type": "code",
   "execution_count": 68,
   "metadata": {},
   "outputs": [
    {
     "data": {
      "text/html": [
       "<div>\n",
       "<style scoped>\n",
       "    .dataframe tbody tr th:only-of-type {\n",
       "        vertical-align: middle;\n",
       "    }\n",
       "\n",
       "    .dataframe tbody tr th {\n",
       "        vertical-align: top;\n",
       "    }\n",
       "\n",
       "    .dataframe thead th {\n",
       "        text-align: right;\n",
       "    }\n",
       "</style>\n",
       "<table border=\"1\" class=\"dataframe\">\n",
       "  <thead>\n",
       "    <tr style=\"text-align: right;\">\n",
       "      <th></th>\n",
       "      <th>User</th>\n",
       "      <th>Card</th>\n",
       "      <th>Month</th>\n",
       "      <th>Day</th>\n",
       "      <th>Use Chip</th>\n",
       "      <th>Merchant City</th>\n",
       "      <th>Merchant State</th>\n",
       "      <th>Zip</th>\n",
       "      <th>MCC</th>\n",
       "      <th>Errors</th>\n",
       "      <th>Fraud</th>\n",
       "      <th>Date</th>\n",
       "      <th>Dow</th>\n",
       "      <th>Hour</th>\n",
       "      <th>Minute</th>\n",
       "      <th>Outcome</th>\n",
       "      <th>Time_diff</th>\n",
       "      <th>Amount_cat</th>\n",
       "      <th>is_diff_merchant</th>\n",
       "    </tr>\n",
       "  </thead>\n",
       "  <tbody>\n",
       "    <tr>\n",
       "      <th>0</th>\n",
       "      <td>791</td>\n",
       "      <td>1</td>\n",
       "      <td>1</td>\n",
       "      <td>2</td>\n",
       "      <td>2</td>\n",
       "      <td>1</td>\n",
       "      <td>VA</td>\n",
       "      <td>22015.0</td>\n",
       "      <td>0</td>\n",
       "      <td>4</td>\n",
       "      <td>0</td>\n",
       "      <td>1991-01-02 07:10:00</td>\n",
       "      <td>2</td>\n",
       "      <td>7</td>\n",
       "      <td>10</td>\n",
       "      <td>0</td>\n",
       "      <td>0</td>\n",
       "      <td>3</td>\n",
       "      <td>0</td>\n",
       "    </tr>\n",
       "    <tr>\n",
       "      <th>1</th>\n",
       "      <td>791</td>\n",
       "      <td>1</td>\n",
       "      <td>1</td>\n",
       "      <td>2</td>\n",
       "      <td>2</td>\n",
       "      <td>1</td>\n",
       "      <td>VA</td>\n",
       "      <td>22015.0</td>\n",
       "      <td>0</td>\n",
       "      <td>4</td>\n",
       "      <td>0</td>\n",
       "      <td>1991-01-02 07:17:00</td>\n",
       "      <td>2</td>\n",
       "      <td>7</td>\n",
       "      <td>17</td>\n",
       "      <td>1</td>\n",
       "      <td>420</td>\n",
       "      <td>2</td>\n",
       "      <td>0</td>\n",
       "    </tr>\n",
       "    <tr>\n",
       "      <th>2</th>\n",
       "      <td>791</td>\n",
       "      <td>1</td>\n",
       "      <td>1</td>\n",
       "      <td>2</td>\n",
       "      <td>2</td>\n",
       "      <td>1</td>\n",
       "      <td>VA</td>\n",
       "      <td>22015.0</td>\n",
       "      <td>0</td>\n",
       "      <td>4</td>\n",
       "      <td>0</td>\n",
       "      <td>1991-01-02 07:21:00</td>\n",
       "      <td>2</td>\n",
       "      <td>7</td>\n",
       "      <td>21</td>\n",
       "      <td>0</td>\n",
       "      <td>240</td>\n",
       "      <td>3</td>\n",
       "      <td>0</td>\n",
       "    </tr>\n",
       "    <tr>\n",
       "      <th>3</th>\n",
       "      <td>791</td>\n",
       "      <td>1</td>\n",
       "      <td>1</td>\n",
       "      <td>2</td>\n",
       "      <td>2</td>\n",
       "      <td>1</td>\n",
       "      <td>VA</td>\n",
       "      <td>22015.0</td>\n",
       "      <td>0</td>\n",
       "      <td>4</td>\n",
       "      <td>0</td>\n",
       "      <td>1991-01-02 17:30:00</td>\n",
       "      <td>2</td>\n",
       "      <td>17</td>\n",
       "      <td>30</td>\n",
       "      <td>0</td>\n",
       "      <td>36540</td>\n",
       "      <td>3</td>\n",
       "      <td>1</td>\n",
       "    </tr>\n",
       "    <tr>\n",
       "      <th>4</th>\n",
       "      <td>791</td>\n",
       "      <td>1</td>\n",
       "      <td>1</td>\n",
       "      <td>3</td>\n",
       "      <td>2</td>\n",
       "      <td>1</td>\n",
       "      <td>VA</td>\n",
       "      <td>22015.0</td>\n",
       "      <td>0</td>\n",
       "      <td>4</td>\n",
       "      <td>0</td>\n",
       "      <td>1991-01-03 09:03:00</td>\n",
       "      <td>3</td>\n",
       "      <td>9</td>\n",
       "      <td>3</td>\n",
       "      <td>0</td>\n",
       "      <td>55980</td>\n",
       "      <td>4</td>\n",
       "      <td>1</td>\n",
       "    </tr>\n",
       "  </tbody>\n",
       "</table>\n",
       "</div>"
      ],
      "text/plain": [
       "   User  Card  Month  Day  Use Chip Merchant City Merchant State      Zip  \\\n",
       "0   791     1      1    2         2             1             VA  22015.0   \n",
       "1   791     1      1    2         2             1             VA  22015.0   \n",
       "2   791     1      1    2         2             1             VA  22015.0   \n",
       "3   791     1      1    2         2             1             VA  22015.0   \n",
       "4   791     1      1    3         2             1             VA  22015.0   \n",
       "\n",
       "   MCC  Errors  Fraud                Date  Dow  Hour  Minute  Outcome  \\\n",
       "0    0       4      0 1991-01-02 07:10:00    2     7      10        0   \n",
       "1    0       4      0 1991-01-02 07:17:00    2     7      17        1   \n",
       "2    0       4      0 1991-01-02 07:21:00    2     7      21        0   \n",
       "3    0       4      0 1991-01-02 17:30:00    2    17      30        0   \n",
       "4    0       4      0 1991-01-03 09:03:00    3     9       3        0   \n",
       "\n",
       "   Time_diff  Amount_cat  is_diff_merchant  \n",
       "0          0           3                 0  \n",
       "1        420           2                 0  \n",
       "2        240           3                 0  \n",
       "3      36540           3                 1  \n",
       "4      55980           4                 1  "
      ]
     },
     "execution_count": 68,
     "metadata": {},
     "output_type": "execute_result"
    }
   ],
   "source": [
    "df.head()"
   ]
  },
  {
   "cell_type": "code",
   "execution_count": 69,
   "metadata": {},
   "outputs": [
    {
     "data": {
      "text/plain": [
       "User\n",
       "0       CA\n",
       "1       NY\n",
       "2       CA\n",
       "3       NY\n",
       "4       CA\n",
       "        ..\n",
       "1995    NY\n",
       "1996    KY\n",
       "1997    NJ\n",
       "1998    PA\n",
       "1999    NH\n",
       "Name: Merchant State, Length: 2000, dtype: object"
      ]
     },
     "execution_count": 69,
     "metadata": {},
     "output_type": "execute_result"
    }
   ],
   "source": [
    "tmp = df.groupby(by='User')[\"Merchant State\"].agg(lambda x:x.value_counts().index[0])\n",
    "tmp"
   ]
  },
  {
   "cell_type": "code",
   "execution_count": 71,
   "metadata": {},
   "outputs": [
    {
     "name": "stdout",
     "output_type": "stream",
     "text": [
      "CPU times: user 7min 24s, sys: 4min 23s, total: 11min 48s\n",
      "Wall time: 11min 48s\n"
     ]
    }
   ],
   "source": [
    "%%time\n",
    "for user in tqdm(df.User.unique()):\n",
    "    df.loc[df.User==user, 'Merchant State'] = (df.loc[df.User==user, 'Merchant State'] == tmp[user]).astype(np.int8)"
   ]
  },
  {
   "cell_type": "code",
   "execution_count": 72,
   "metadata": {},
   "outputs": [
    {
     "data": {
      "text/html": [
       "<div>\n",
       "<style scoped>\n",
       "    .dataframe tbody tr th:only-of-type {\n",
       "        vertical-align: middle;\n",
       "    }\n",
       "\n",
       "    .dataframe tbody tr th {\n",
       "        vertical-align: top;\n",
       "    }\n",
       "\n",
       "    .dataframe thead th {\n",
       "        text-align: right;\n",
       "    }\n",
       "</style>\n",
       "<table border=\"1\" class=\"dataframe\">\n",
       "  <thead>\n",
       "    <tr style=\"text-align: right;\">\n",
       "      <th></th>\n",
       "      <th>User</th>\n",
       "      <th>Card</th>\n",
       "      <th>Month</th>\n",
       "      <th>Day</th>\n",
       "      <th>Use Chip</th>\n",
       "      <th>Merchant City</th>\n",
       "      <th>Merchant State</th>\n",
       "      <th>Zip</th>\n",
       "      <th>MCC</th>\n",
       "      <th>Errors</th>\n",
       "      <th>Fraud</th>\n",
       "      <th>Date</th>\n",
       "      <th>Dow</th>\n",
       "      <th>Hour</th>\n",
       "      <th>Minute</th>\n",
       "      <th>Outcome</th>\n",
       "      <th>Time_diff</th>\n",
       "      <th>Amount_cat</th>\n",
       "      <th>is_diff_merchant</th>\n",
       "    </tr>\n",
       "  </thead>\n",
       "  <tbody>\n",
       "    <tr>\n",
       "      <th>0</th>\n",
       "      <td>791</td>\n",
       "      <td>1</td>\n",
       "      <td>1</td>\n",
       "      <td>2</td>\n",
       "      <td>2</td>\n",
       "      <td>1</td>\n",
       "      <td>1</td>\n",
       "      <td>22015.0</td>\n",
       "      <td>0</td>\n",
       "      <td>4</td>\n",
       "      <td>0</td>\n",
       "      <td>1991-01-02 07:10:00</td>\n",
       "      <td>2</td>\n",
       "      <td>7</td>\n",
       "      <td>10</td>\n",
       "      <td>0</td>\n",
       "      <td>0</td>\n",
       "      <td>3</td>\n",
       "      <td>0</td>\n",
       "    </tr>\n",
       "    <tr>\n",
       "      <th>1</th>\n",
       "      <td>791</td>\n",
       "      <td>1</td>\n",
       "      <td>1</td>\n",
       "      <td>2</td>\n",
       "      <td>2</td>\n",
       "      <td>1</td>\n",
       "      <td>1</td>\n",
       "      <td>22015.0</td>\n",
       "      <td>0</td>\n",
       "      <td>4</td>\n",
       "      <td>0</td>\n",
       "      <td>1991-01-02 07:17:00</td>\n",
       "      <td>2</td>\n",
       "      <td>7</td>\n",
       "      <td>17</td>\n",
       "      <td>1</td>\n",
       "      <td>420</td>\n",
       "      <td>2</td>\n",
       "      <td>0</td>\n",
       "    </tr>\n",
       "    <tr>\n",
       "      <th>2</th>\n",
       "      <td>791</td>\n",
       "      <td>1</td>\n",
       "      <td>1</td>\n",
       "      <td>2</td>\n",
       "      <td>2</td>\n",
       "      <td>1</td>\n",
       "      <td>1</td>\n",
       "      <td>22015.0</td>\n",
       "      <td>0</td>\n",
       "      <td>4</td>\n",
       "      <td>0</td>\n",
       "      <td>1991-01-02 07:21:00</td>\n",
       "      <td>2</td>\n",
       "      <td>7</td>\n",
       "      <td>21</td>\n",
       "      <td>0</td>\n",
       "      <td>240</td>\n",
       "      <td>3</td>\n",
       "      <td>0</td>\n",
       "    </tr>\n",
       "    <tr>\n",
       "      <th>3</th>\n",
       "      <td>791</td>\n",
       "      <td>1</td>\n",
       "      <td>1</td>\n",
       "      <td>2</td>\n",
       "      <td>2</td>\n",
       "      <td>1</td>\n",
       "      <td>1</td>\n",
       "      <td>22015.0</td>\n",
       "      <td>0</td>\n",
       "      <td>4</td>\n",
       "      <td>0</td>\n",
       "      <td>1991-01-02 17:30:00</td>\n",
       "      <td>2</td>\n",
       "      <td>17</td>\n",
       "      <td>30</td>\n",
       "      <td>0</td>\n",
       "      <td>36540</td>\n",
       "      <td>3</td>\n",
       "      <td>1</td>\n",
       "    </tr>\n",
       "    <tr>\n",
       "      <th>4</th>\n",
       "      <td>791</td>\n",
       "      <td>1</td>\n",
       "      <td>1</td>\n",
       "      <td>3</td>\n",
       "      <td>2</td>\n",
       "      <td>1</td>\n",
       "      <td>1</td>\n",
       "      <td>22015.0</td>\n",
       "      <td>0</td>\n",
       "      <td>4</td>\n",
       "      <td>0</td>\n",
       "      <td>1991-01-03 09:03:00</td>\n",
       "      <td>3</td>\n",
       "      <td>9</td>\n",
       "      <td>3</td>\n",
       "      <td>0</td>\n",
       "      <td>55980</td>\n",
       "      <td>4</td>\n",
       "      <td>1</td>\n",
       "    </tr>\n",
       "  </tbody>\n",
       "</table>\n",
       "</div>"
      ],
      "text/plain": [
       "   User  Card  Month  Day  Use Chip Merchant City Merchant State      Zip  \\\n",
       "0   791     1      1    2         2             1              1  22015.0   \n",
       "1   791     1      1    2         2             1              1  22015.0   \n",
       "2   791     1      1    2         2             1              1  22015.0   \n",
       "3   791     1      1    2         2             1              1  22015.0   \n",
       "4   791     1      1    3         2             1              1  22015.0   \n",
       "\n",
       "   MCC  Errors  Fraud                Date  Dow  Hour  Minute  Outcome  \\\n",
       "0    0       4      0 1991-01-02 07:10:00    2     7      10        0   \n",
       "1    0       4      0 1991-01-02 07:17:00    2     7      17        1   \n",
       "2    0       4      0 1991-01-02 07:21:00    2     7      21        0   \n",
       "3    0       4      0 1991-01-02 17:30:00    2    17      30        0   \n",
       "4    0       4      0 1991-01-03 09:03:00    3     9       3        0   \n",
       "\n",
       "   Time_diff  Amount_cat  is_diff_merchant  \n",
       "0          0           3                 0  \n",
       "1        420           2                 0  \n",
       "2        240           3                 0  \n",
       "3      36540           3                 1  \n",
       "4      55980           4                 1  "
      ]
     },
     "execution_count": 72,
     "metadata": {},
     "output_type": "execute_result"
    }
   ],
   "source": [
    "df.head()"
   ]
  },
  {
   "cell_type": "code",
   "execution_count": 73,
   "metadata": {},
   "outputs": [
    {
     "name": "stdout",
     "output_type": "stream",
     "text": [
      "<class 'pandas.core.frame.DataFrame'>\n",
      "RangeIndex: 24386900 entries, 0 to 24386899\n",
      "Data columns (total 19 columns):\n",
      " #   Column            Dtype         \n",
      "---  ------            -----         \n",
      " 0   User              int16         \n",
      " 1   Card              int8          \n",
      " 2   Month             int8          \n",
      " 3   Day               int8          \n",
      " 4   Use Chip          int8          \n",
      " 5   Merchant City     object        \n",
      " 6   Merchant State    object        \n",
      " 7   Zip               float32       \n",
      " 8   MCC               int8          \n",
      " 9   Errors            int8          \n",
      " 10  Fraud             int8          \n",
      " 11  Date              datetime64[ns]\n",
      " 12  Dow               int64         \n",
      " 13  Hour              int8          \n",
      " 14  Minute            int8          \n",
      " 15  Outcome           int8          \n",
      " 16  Time_diff         int64         \n",
      " 17  Amount_cat        int64         \n",
      " 18  is_diff_merchant  int8          \n",
      "dtypes: datetime64[ns](1), float32(1), int16(1), int64(3), int8(11), object(2)\n",
      "memory usage: 1.5+ GB\n"
     ]
    }
   ],
   "source": [
    "df.info()"
   ]
  },
  {
   "cell_type": "code",
   "execution_count": 75,
   "metadata": {},
   "outputs": [],
   "source": [
    "df.to_csv(\"data/data_after_eda.csv\", index=False)"
   ]
  },
  {
   "cell_type": "code",
   "execution_count": null,
   "metadata": {},
   "outputs": [],
   "source": []
  }
 ],
 "metadata": {
  "kernelspec": {
   "display_name": "Python 3",
   "language": "python",
   "name": "python3"
  },
  "language_info": {
   "codemirror_mode": {
    "name": "ipython",
    "version": 3
   },
   "file_extension": ".py",
   "mimetype": "text/x-python",
   "name": "python",
   "nbconvert_exporter": "python",
   "pygments_lexer": "ipython3",
   "version": "3.8.5"
  }
 },
 "nbformat": 4,
 "nbformat_minor": 4
}
